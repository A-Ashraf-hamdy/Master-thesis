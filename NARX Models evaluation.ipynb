{
 "cells": [
  {
   "cell_type": "code",
   "execution_count": 216,
   "id": "00c54170",
   "metadata": {},
   "outputs": [],
   "source": [
    "import numpy as np\n",
    "import matplotlib.pyplot as plt\n",
    "import pandas as pd\n",
    "import seaborn as sns\n",
    "import glob\n",
    "import plotly.express as px\n",
    "import plotly.graph_objects as go\n",
    "import os\n",
    "import re\n",
    "\n",
    "from plotly.subplots import make_subplots"
   ]
  },
  {
   "cell_type": "markdown",
   "id": "1c65ecad",
   "metadata": {},
   "source": [
    "# ARX"
   ]
  },
  {
   "cell_type": "code",
   "execution_count": 217,
   "id": "af1745ab",
   "metadata": {},
   "outputs": [],
   "source": [
    "dfs = {}  # dictionary to store DataFrames\n"
   ]
  },
  {
   "cell_type": "code",
   "execution_count": 218,
   "id": "ae5c2b10",
   "metadata": {},
   "outputs": [],
   "source": [
    "\n",
    "# load heave data\n",
    "folder = \"ARX/choosen heros/heave/lags/*.csv\"\n",
    "# Get all CSV files\n",
    "csv_files = sorted(glob.glob(folder))  # sort for consistent numbering\n",
    "\n",
    "# Load each CSV into a dynamically named variable\n",
    "\n",
    "for file_path in csv_files:\n",
    "    file_name = os.path.basename(file_path)  # Get filename (e.g., \"heave_case1.csv\")\n",
    "    file_base = os.path.splitext(file_name)[0]  # Remove '.csv', so just \"heave_case1\"\n",
    "    \n",
    "    df_name = file_base  # Use file_base as the dataframe name\n",
    "    dfs[df_name] = pd.read_csv(file_path)\n"
   ]
  },
  {
   "cell_type": "code",
   "execution_count": 219,
   "id": "4e89b0f0",
   "metadata": {},
   "outputs": [],
   "source": [
    "\n",
    "# load pitch data\n",
    "folder = \"ARX/choosen heros/pitch/lags/*.csv\"\n",
    "# Get all CSV files\n",
    "csv_files = sorted(glob.glob(folder))  # sort for consistent numbering\n",
    "\n",
    "# Load each CSV into a dynamically named variable\n",
    "\n",
    "for file_path in csv_files:\n",
    "    file_name = os.path.basename(file_path)  # Get filename (e.g., \"heave_case1.csv\")\n",
    "    file_base = os.path.splitext(file_name)[0]  # Remove '.csv', so just \"heave_case1\"\n",
    "    \n",
    "    df_name = file_base  # Use file_base as the dataframe name\n",
    "    dfs[df_name] = pd.read_csv(file_path)    \n",
    "    \n"
   ]
  },
  {
   "cell_type": "code",
   "execution_count": 220,
   "id": "0305ca8a",
   "metadata": {},
   "outputs": [],
   "source": [
    "# load pendulum data\n",
    "folder = \"ARX/choosen heros/pendulum/lags/*.csv\"\n",
    "# Get all CSV files\n",
    "csv_files = sorted(glob.glob(folder))  # sort for consistent numbering\n",
    "\n",
    "# Load each CSV into a dynamically named variable\n",
    "\n",
    "for file_path in csv_files:\n",
    "    file_name = os.path.basename(file_path)  # Get filename (e.g., \"heave_case1.csv\")\n",
    "    file_base = os.path.splitext(file_name)[0]  # Remove '.csv', so just \"heave_case1\"\n",
    "    \n",
    "    df_name = file_base  # Use file_base as the dataframe name\n",
    "    dfs[df_name] = pd.read_csv(file_path)    "
   ]
  },
  {
   "cell_type": "code",
   "execution_count": 221,
   "id": "cf5c4624",
   "metadata": {},
   "outputs": [
    {
     "name": "stdout",
     "output_type": "stream",
     "text": [
      "metrics_df_test_heave_na2_nb2_nf6_val: (20, 4)\n",
      "metrics_df_test_heave_na2_nb2_nf7_val: (10, 4)\n",
      "metrics_df_test_heave_na2_nb2_nf8_val: (10, 4)\n",
      "metrics_df_test_pitch_na2_nb2_nf2_val: (10, 4)\n",
      "metrics_df_test_pitch_na2_nb2_nf5_val: (10, 4)\n",
      "metrics_df_test_pitch_na2_nb2_nf6_val: (10, 4)\n",
      "metrics_df_test_pitch_na2_nb2_nf7_val: (10, 4)\n",
      "metrics_df_test_pitch_na2_nb2_nf8_val: (10, 4)\n",
      "metrics_df_test_pendulum_na2_nb2_nf2_val: (10, 4)\n",
      "metrics_df_test_pendulum_na2_nb2_nf7_val: (10, 4)\n",
      "metrics_df_test_pendulum_na2_nb3_nf2_val: (10, 4)\n",
      "metrics_df_test_pendulum_na2_nb4_nf2_val: (10, 4)\n"
     ]
    }
   ],
   "source": [
    "# Loop over all dfs to extract diffrent dfs\n",
    "for name, df in dfs.items():\n",
    "    print(f\"{name}: {df.shape}\")"
   ]
  },
  {
   "cell_type": "code",
   "execution_count": 222,
   "id": "3880b544",
   "metadata": {},
   "outputs": [],
   "source": [
    "test_case_pretty_map = {\n",
    "    'T4p5s_Hs1m': 'Tp = 4.5 s, Hs = 1 m',\n",
    "    'T4p5s_Hs2m': 'Tp = 4.5 s, Hs = 2 m',\n",
    "    'Tp6p8s_Hs1m': 'Tp = 6.8 s, Hs = 1 m',\n",
    "    'Tp6p8s_Hs2m': 'Tp = 6.8 s, Hs = 2 m',\n",
    "    'Tp6p8s_Hs4m': 'Tp = 6.8 s, Hs = 4 m',\n",
    "    'Tp6p8s_Hs6m': 'Tp = 6.8 s, Hs = 6 m',\n",
    "    'Tp6p8s_Hs8m': 'Tp = 6.8 s, Hs = 8 m',\n",
    "    'T10p2s_Hs1m': 'Tp = 10.2 s, Hs = 1 m',\n",
    "    'Tp10p2_Hs2m': 'Tp = 10.2 s, Hs = 2 m',\n",
    "    'T10p2s_Hs4m': 'Tp = 10.2 s, Hs = 4 m'\n",
    "}\n"
   ]
  },
  {
   "cell_type": "code",
   "execution_count": 223,
   "id": "c054b4b3",
   "metadata": {},
   "outputs": [
    {
     "name": "stdout",
     "output_type": "stream",
     "text": [
      "   nd  nb  na  r2_train  r2_val\n",
      "0  -6   2   2    0.9866  0.9749\n",
      "1  -7   2   2    0.9889  0.9794\n",
      "2  -8   2   2    0.9890  0.9795\n"
     ]
    }
   ],
   "source": [
    "# Define the data manually as a list of dictionaries\n",
    "data_heave = [\n",
    "    {'nd': -6, 'nb': 2, 'na': 2, 'r2_train': 0.9866, 'r2_val': 0.9749},\n",
    "    {'nd': -7, 'nb': 2, 'na': 2, 'r2_train': 0.9889, 'r2_val': 0.9794},\n",
    "    {'nd': -8, 'nb': 2, 'na': 2, 'r2_train': 0.9890, 'r2_val': 0.9795},\n",
    "    \n",
    "    #{'nd': -6, 'nb': 3, 'na': 2, 'r2_train': 0.9866, 'r2_val': 0.9749},\n",
    "  #  {'nd': -7, 'nb': 3, 'na': 2, 'r2_train': 0.9889, 'r2_val': 0.9793},\n",
    "   # {'nd': -7, 'nb': 3, 'na': 2, 'r2_train': 0.9890, 'r2_val': 0.9795}\n",
    "]\n",
    "# Create a DataFrame\n",
    "df_summary_heave = pd.DataFrame(data_heave)\n",
    "\n",
    "# Display it\n",
    "print(df_summary_heave)\n",
    "\n"
   ]
  },
  {
   "cell_type": "code",
   "execution_count": 224,
   "id": "b4c8b55d",
   "metadata": {},
   "outputs": [
    {
     "data": {
      "application/vnd.plotly.v1+json": {
       "config": {
        "plotlyServerURL": "https://plot.ly"
       },
       "data": [
        {
         "legendgroup": "na=2, nb=2, nd=-6",
         "line": {
          "color": "#636EFA"
         },
         "mode": "lines+markers",
         "name": "na=2, nb=2, nd=-6",
         "type": "scatter",
         "x": [
          "Tp = 4.5 s, Hs = 1 m",
          "Tp = 4.5 s, Hs = 1 m",
          "Tp = 4.5 s, Hs = 2 m",
          "Tp = 4.5 s, Hs = 2 m",
          "Tp = 6.8 s, Hs = 1 m",
          "Tp = 6.8 s, Hs = 1 m",
          "Tp = 6.8 s, Hs = 2 m",
          "Tp = 6.8 s, Hs = 2 m",
          "Tp = 6.8 s, Hs = 4 m",
          "Tp = 6.8 s, Hs = 4 m",
          "Tp = 6.8 s, Hs = 6 m",
          "Tp = 6.8 s, Hs = 6 m",
          "Tp = 6.8 s, Hs = 8 m",
          "Tp = 6.8 s, Hs = 8 m",
          "Tp = 10.2 s, Hs = 1 m",
          "Tp = 10.2 s, Hs = 1 m",
          "Tp = 10.2 s, Hs = 2 m",
          "Tp = 10.2 s, Hs = 2 m",
          "Tp = 10.2 s, Hs = 4 m",
          "Tp = 10.2 s, Hs = 4 m"
         ],
         "xaxis": "x",
         "y": [
          0.6544999030466553,
          0.6544999030466553,
          0.6876857109085722,
          0.6876857109085722,
          0.9621440722179898,
          0.9621440722179898,
          0.9646031632687246,
          0.9646031632687246,
          0.9615025622578688,
          0.9615025622578688,
          0.9535336455706146,
          0.9535336455706146,
          0.9232864597613274,
          0.9232864597613274,
          0.967190782942046,
          0.967190782942046,
          0.9701508044232092,
          0.9701508044232092,
          0.9706361194644604,
          0.9706361194644604
         ],
         "yaxis": "y"
        },
        {
         "legendgroup": "na=2, nb=2, nd=-6",
         "marker": {
          "color": "#636EFA",
          "size": 8,
          "symbol": "x"
         },
         "mode": "markers",
         "name": "na=2, nb=2, nd=-6 Train",
         "showlegend": false,
         "type": "scatter",
         "x": [
          "na=2, nb=2, nd=-6"
         ],
         "xaxis": "x2",
         "y": [
          0.9866
         ],
         "yaxis": "y2"
        },
        {
         "legendgroup": "na=2, nb=2, nd=-6",
         "marker": {
          "color": "#636EFA",
          "size": 8,
          "symbol": "square"
         },
         "mode": "markers",
         "name": "na=2, nb=2, nd=-6 Val",
         "showlegend": false,
         "type": "scatter",
         "x": [
          "na=2, nb=2, nd=-6"
         ],
         "xaxis": "x2",
         "y": [
          0.9749
         ],
         "yaxis": "y2"
        },
        {
         "legendgroup": "na=2, nb=2, nd=-7",
         "line": {
          "color": "#EF553B"
         },
         "mode": "lines+markers",
         "name": "na=2, nb=2, nd=-7",
         "type": "scatter",
         "x": [
          "Tp = 4.5 s, Hs = 1 m",
          "Tp = 4.5 s, Hs = 2 m",
          "Tp = 6.8 s, Hs = 1 m",
          "Tp = 6.8 s, Hs = 2 m",
          "Tp = 6.8 s, Hs = 4 m",
          "Tp = 6.8 s, Hs = 6 m",
          "Tp = 6.8 s, Hs = 8 m",
          "Tp = 10.2 s, Hs = 1 m",
          "Tp = 10.2 s, Hs = 2 m",
          "Tp = 10.2 s, Hs = 4 m"
         ],
         "xaxis": "x",
         "y": [
          0.7514985997543202,
          0.7761708998728168,
          0.9691982074660672,
          0.9713743970887212,
          0.96674800341429,
          0.9564636624689752,
          0.9248521406584268,
          0.9633974618036942,
          0.9664091043802508,
          0.9668986719092518
         ],
         "yaxis": "y"
        },
        {
         "legendgroup": "na=2, nb=2, nd=-7",
         "marker": {
          "color": "#EF553B",
          "size": 8,
          "symbol": "x"
         },
         "mode": "markers",
         "name": "na=2, nb=2, nd=-7 Train",
         "showlegend": false,
         "type": "scatter",
         "x": [
          "na=2, nb=2, nd=-7"
         ],
         "xaxis": "x2",
         "y": [
          0.9889
         ],
         "yaxis": "y2"
        },
        {
         "legendgroup": "na=2, nb=2, nd=-7",
         "marker": {
          "color": "#EF553B",
          "size": 8,
          "symbol": "square"
         },
         "mode": "markers",
         "name": "na=2, nb=2, nd=-7 Val",
         "showlegend": false,
         "type": "scatter",
         "x": [
          "na=2, nb=2, nd=-7"
         ],
         "xaxis": "x2",
         "y": [
          0.9794
         ],
         "yaxis": "y2"
        },
        {
         "legendgroup": "na=2, nb=2, nd=-8",
         "line": {
          "color": "#00CC96"
         },
         "mode": "lines+markers",
         "name": "na=2, nb=2, nd=-8",
         "type": "scatter",
         "x": [
          "Tp = 4.5 s, Hs = 1 m",
          "Tp = 4.5 s, Hs = 2 m",
          "Tp = 6.8 s, Hs = 1 m",
          "Tp = 6.8 s, Hs = 2 m",
          "Tp = 6.8 s, Hs = 4 m",
          "Tp = 6.8 s, Hs = 6 m",
          "Tp = 6.8 s, Hs = 8 m",
          "Tp = 10.2 s, Hs = 1 m",
          "Tp = 10.2 s, Hs = 2 m",
          "Tp = 10.2 s, Hs = 4 m"
         ],
         "xaxis": "x",
         "y": [
          0.7563638591535555,
          0.7806703224447114,
          0.9694834015013518,
          0.9716409289498054,
          0.9669335298204504,
          0.9565365812400204,
          0.924841690134016,
          0.96412580907155,
          0.967136414665252,
          0.9676191972002468
         ],
         "yaxis": "y"
        },
        {
         "legendgroup": "na=2, nb=2, nd=-8",
         "marker": {
          "color": "#00CC96",
          "size": 8,
          "symbol": "x"
         },
         "mode": "markers",
         "name": "na=2, nb=2, nd=-8 Train",
         "showlegend": false,
         "type": "scatter",
         "x": [
          "na=2, nb=2, nd=-8"
         ],
         "xaxis": "x2",
         "y": [
          0.989
         ],
         "yaxis": "y2"
        },
        {
         "legendgroup": "na=2, nb=2, nd=-8",
         "marker": {
          "color": "#00CC96",
          "size": 8,
          "symbol": "square"
         },
         "mode": "markers",
         "name": "na=2, nb=2, nd=-8 Val",
         "showlegend": false,
         "type": "scatter",
         "x": [
          "na=2, nb=2, nd=-8"
         ],
         "xaxis": "x2",
         "y": [
          0.9795
         ],
         "yaxis": "y2"
        },
        {
         "marker": {
          "color": "grey",
          "size": 7,
          "symbol": "x"
         },
         "mode": "markers",
         "name": "Train R²",
         "showlegend": true,
         "type": "scatter",
         "x": [
          null
         ],
         "xaxis": "x2",
         "y": [
          null
         ],
         "yaxis": "y2"
        },
        {
         "marker": {
          "color": "grey",
          "size": 7,
          "symbol": "square"
         },
         "mode": "markers",
         "name": "Validation R²",
         "showlegend": true,
         "type": "scatter",
         "x": [
          null
         ],
         "xaxis": "x2",
         "y": [
          null
         ],
         "yaxis": "y2"
        }
       ],
       "layout": {
        "annotations": [
         {
          "font": {
           "size": 16
          },
          "showarrow": false,
          "text": "Test Cases R²",
          "x": 0.3375,
          "xanchor": "center",
          "xref": "paper",
          "y": 1,
          "yanchor": "bottom",
          "yref": "paper"
         },
         {
          "font": {
           "size": 16
          },
          "showarrow": false,
          "text": "Train/Validation R² Scores",
          "x": 0.8875,
          "xanchor": "center",
          "xref": "paper",
          "y": 1,
          "yanchor": "bottom",
          "yref": "paper"
         }
        ],
        "height": 600,
        "legend": {
         "title": {
          "text": "na + nb + nd combination"
         }
        },
        "template": {
         "data": {
          "bar": [
           {
            "error_x": {
             "color": "#2a3f5f"
            },
            "error_y": {
             "color": "#2a3f5f"
            },
            "marker": {
             "line": {
              "color": "white",
              "width": 0.5
             },
             "pattern": {
              "fillmode": "overlay",
              "size": 10,
              "solidity": 0.2
             }
            },
            "type": "bar"
           }
          ],
          "barpolar": [
           {
            "marker": {
             "line": {
              "color": "white",
              "width": 0.5
             },
             "pattern": {
              "fillmode": "overlay",
              "size": 10,
              "solidity": 0.2
             }
            },
            "type": "barpolar"
           }
          ],
          "carpet": [
           {
            "aaxis": {
             "endlinecolor": "#2a3f5f",
             "gridcolor": "#C8D4E3",
             "linecolor": "#C8D4E3",
             "minorgridcolor": "#C8D4E3",
             "startlinecolor": "#2a3f5f"
            },
            "baxis": {
             "endlinecolor": "#2a3f5f",
             "gridcolor": "#C8D4E3",
             "linecolor": "#C8D4E3",
             "minorgridcolor": "#C8D4E3",
             "startlinecolor": "#2a3f5f"
            },
            "type": "carpet"
           }
          ],
          "choropleth": [
           {
            "colorbar": {
             "outlinewidth": 0,
             "ticks": ""
            },
            "type": "choropleth"
           }
          ],
          "contour": [
           {
            "colorbar": {
             "outlinewidth": 0,
             "ticks": ""
            },
            "colorscale": [
             [
              0,
              "#0d0887"
             ],
             [
              0.1111111111111111,
              "#46039f"
             ],
             [
              0.2222222222222222,
              "#7201a8"
             ],
             [
              0.3333333333333333,
              "#9c179e"
             ],
             [
              0.4444444444444444,
              "#bd3786"
             ],
             [
              0.5555555555555556,
              "#d8576b"
             ],
             [
              0.6666666666666666,
              "#ed7953"
             ],
             [
              0.7777777777777778,
              "#fb9f3a"
             ],
             [
              0.8888888888888888,
              "#fdca26"
             ],
             [
              1,
              "#f0f921"
             ]
            ],
            "type": "contour"
           }
          ],
          "contourcarpet": [
           {
            "colorbar": {
             "outlinewidth": 0,
             "ticks": ""
            },
            "type": "contourcarpet"
           }
          ],
          "heatmap": [
           {
            "colorbar": {
             "outlinewidth": 0,
             "ticks": ""
            },
            "colorscale": [
             [
              0,
              "#0d0887"
             ],
             [
              0.1111111111111111,
              "#46039f"
             ],
             [
              0.2222222222222222,
              "#7201a8"
             ],
             [
              0.3333333333333333,
              "#9c179e"
             ],
             [
              0.4444444444444444,
              "#bd3786"
             ],
             [
              0.5555555555555556,
              "#d8576b"
             ],
             [
              0.6666666666666666,
              "#ed7953"
             ],
             [
              0.7777777777777778,
              "#fb9f3a"
             ],
             [
              0.8888888888888888,
              "#fdca26"
             ],
             [
              1,
              "#f0f921"
             ]
            ],
            "type": "heatmap"
           }
          ],
          "heatmapgl": [
           {
            "colorbar": {
             "outlinewidth": 0,
             "ticks": ""
            },
            "colorscale": [
             [
              0,
              "#0d0887"
             ],
             [
              0.1111111111111111,
              "#46039f"
             ],
             [
              0.2222222222222222,
              "#7201a8"
             ],
             [
              0.3333333333333333,
              "#9c179e"
             ],
             [
              0.4444444444444444,
              "#bd3786"
             ],
             [
              0.5555555555555556,
              "#d8576b"
             ],
             [
              0.6666666666666666,
              "#ed7953"
             ],
             [
              0.7777777777777778,
              "#fb9f3a"
             ],
             [
              0.8888888888888888,
              "#fdca26"
             ],
             [
              1,
              "#f0f921"
             ]
            ],
            "type": "heatmapgl"
           }
          ],
          "histogram": [
           {
            "marker": {
             "pattern": {
              "fillmode": "overlay",
              "size": 10,
              "solidity": 0.2
             }
            },
            "type": "histogram"
           }
          ],
          "histogram2d": [
           {
            "colorbar": {
             "outlinewidth": 0,
             "ticks": ""
            },
            "colorscale": [
             [
              0,
              "#0d0887"
             ],
             [
              0.1111111111111111,
              "#46039f"
             ],
             [
              0.2222222222222222,
              "#7201a8"
             ],
             [
              0.3333333333333333,
              "#9c179e"
             ],
             [
              0.4444444444444444,
              "#bd3786"
             ],
             [
              0.5555555555555556,
              "#d8576b"
             ],
             [
              0.6666666666666666,
              "#ed7953"
             ],
             [
              0.7777777777777778,
              "#fb9f3a"
             ],
             [
              0.8888888888888888,
              "#fdca26"
             ],
             [
              1,
              "#f0f921"
             ]
            ],
            "type": "histogram2d"
           }
          ],
          "histogram2dcontour": [
           {
            "colorbar": {
             "outlinewidth": 0,
             "ticks": ""
            },
            "colorscale": [
             [
              0,
              "#0d0887"
             ],
             [
              0.1111111111111111,
              "#46039f"
             ],
             [
              0.2222222222222222,
              "#7201a8"
             ],
             [
              0.3333333333333333,
              "#9c179e"
             ],
             [
              0.4444444444444444,
              "#bd3786"
             ],
             [
              0.5555555555555556,
              "#d8576b"
             ],
             [
              0.6666666666666666,
              "#ed7953"
             ],
             [
              0.7777777777777778,
              "#fb9f3a"
             ],
             [
              0.8888888888888888,
              "#fdca26"
             ],
             [
              1,
              "#f0f921"
             ]
            ],
            "type": "histogram2dcontour"
           }
          ],
          "mesh3d": [
           {
            "colorbar": {
             "outlinewidth": 0,
             "ticks": ""
            },
            "type": "mesh3d"
           }
          ],
          "parcoords": [
           {
            "line": {
             "colorbar": {
              "outlinewidth": 0,
              "ticks": ""
             }
            },
            "type": "parcoords"
           }
          ],
          "pie": [
           {
            "automargin": true,
            "type": "pie"
           }
          ],
          "scatter": [
           {
            "fillpattern": {
             "fillmode": "overlay",
             "size": 10,
             "solidity": 0.2
            },
            "type": "scatter"
           }
          ],
          "scatter3d": [
           {
            "line": {
             "colorbar": {
              "outlinewidth": 0,
              "ticks": ""
             }
            },
            "marker": {
             "colorbar": {
              "outlinewidth": 0,
              "ticks": ""
             }
            },
            "type": "scatter3d"
           }
          ],
          "scattercarpet": [
           {
            "marker": {
             "colorbar": {
              "outlinewidth": 0,
              "ticks": ""
             }
            },
            "type": "scattercarpet"
           }
          ],
          "scattergeo": [
           {
            "marker": {
             "colorbar": {
              "outlinewidth": 0,
              "ticks": ""
             }
            },
            "type": "scattergeo"
           }
          ],
          "scattergl": [
           {
            "marker": {
             "colorbar": {
              "outlinewidth": 0,
              "ticks": ""
             }
            },
            "type": "scattergl"
           }
          ],
          "scattermapbox": [
           {
            "marker": {
             "colorbar": {
              "outlinewidth": 0,
              "ticks": ""
             }
            },
            "type": "scattermapbox"
           }
          ],
          "scatterpolar": [
           {
            "marker": {
             "colorbar": {
              "outlinewidth": 0,
              "ticks": ""
             }
            },
            "type": "scatterpolar"
           }
          ],
          "scatterpolargl": [
           {
            "marker": {
             "colorbar": {
              "outlinewidth": 0,
              "ticks": ""
             }
            },
            "type": "scatterpolargl"
           }
          ],
          "scatterternary": [
           {
            "marker": {
             "colorbar": {
              "outlinewidth": 0,
              "ticks": ""
             }
            },
            "type": "scatterternary"
           }
          ],
          "surface": [
           {
            "colorbar": {
             "outlinewidth": 0,
             "ticks": ""
            },
            "colorscale": [
             [
              0,
              "#0d0887"
             ],
             [
              0.1111111111111111,
              "#46039f"
             ],
             [
              0.2222222222222222,
              "#7201a8"
             ],
             [
              0.3333333333333333,
              "#9c179e"
             ],
             [
              0.4444444444444444,
              "#bd3786"
             ],
             [
              0.5555555555555556,
              "#d8576b"
             ],
             [
              0.6666666666666666,
              "#ed7953"
             ],
             [
              0.7777777777777778,
              "#fb9f3a"
             ],
             [
              0.8888888888888888,
              "#fdca26"
             ],
             [
              1,
              "#f0f921"
             ]
            ],
            "type": "surface"
           }
          ],
          "table": [
           {
            "cells": {
             "fill": {
              "color": "#EBF0F8"
             },
             "line": {
              "color": "white"
             }
            },
            "header": {
             "fill": {
              "color": "#C8D4E3"
             },
             "line": {
              "color": "white"
             }
            },
            "type": "table"
           }
          ]
         },
         "layout": {
          "annotationdefaults": {
           "arrowcolor": "#2a3f5f",
           "arrowhead": 0,
           "arrowwidth": 1
          },
          "autotypenumbers": "strict",
          "coloraxis": {
           "colorbar": {
            "outlinewidth": 0,
            "ticks": ""
           }
          },
          "colorscale": {
           "diverging": [
            [
             0,
             "#8e0152"
            ],
            [
             0.1,
             "#c51b7d"
            ],
            [
             0.2,
             "#de77ae"
            ],
            [
             0.3,
             "#f1b6da"
            ],
            [
             0.4,
             "#fde0ef"
            ],
            [
             0.5,
             "#f7f7f7"
            ],
            [
             0.6,
             "#e6f5d0"
            ],
            [
             0.7,
             "#b8e186"
            ],
            [
             0.8,
             "#7fbc41"
            ],
            [
             0.9,
             "#4d9221"
            ],
            [
             1,
             "#276419"
            ]
           ],
           "sequential": [
            [
             0,
             "#0d0887"
            ],
            [
             0.1111111111111111,
             "#46039f"
            ],
            [
             0.2222222222222222,
             "#7201a8"
            ],
            [
             0.3333333333333333,
             "#9c179e"
            ],
            [
             0.4444444444444444,
             "#bd3786"
            ],
            [
             0.5555555555555556,
             "#d8576b"
            ],
            [
             0.6666666666666666,
             "#ed7953"
            ],
            [
             0.7777777777777778,
             "#fb9f3a"
            ],
            [
             0.8888888888888888,
             "#fdca26"
            ],
            [
             1,
             "#f0f921"
            ]
           ],
           "sequentialminus": [
            [
             0,
             "#0d0887"
            ],
            [
             0.1111111111111111,
             "#46039f"
            ],
            [
             0.2222222222222222,
             "#7201a8"
            ],
            [
             0.3333333333333333,
             "#9c179e"
            ],
            [
             0.4444444444444444,
             "#bd3786"
            ],
            [
             0.5555555555555556,
             "#d8576b"
            ],
            [
             0.6666666666666666,
             "#ed7953"
            ],
            [
             0.7777777777777778,
             "#fb9f3a"
            ],
            [
             0.8888888888888888,
             "#fdca26"
            ],
            [
             1,
             "#f0f921"
            ]
           ]
          },
          "colorway": [
           "#636efa",
           "#EF553B",
           "#00cc96",
           "#ab63fa",
           "#FFA15A",
           "#19d3f3",
           "#FF6692",
           "#B6E880",
           "#FF97FF",
           "#FECB52"
          ],
          "font": {
           "color": "#2a3f5f"
          },
          "geo": {
           "bgcolor": "white",
           "lakecolor": "white",
           "landcolor": "white",
           "showlakes": true,
           "showland": true,
           "subunitcolor": "#C8D4E3"
          },
          "hoverlabel": {
           "align": "left"
          },
          "hovermode": "closest",
          "mapbox": {
           "style": "light"
          },
          "paper_bgcolor": "white",
          "plot_bgcolor": "white",
          "polar": {
           "angularaxis": {
            "gridcolor": "#EBF0F8",
            "linecolor": "#EBF0F8",
            "ticks": ""
           },
           "bgcolor": "white",
           "radialaxis": {
            "gridcolor": "#EBF0F8",
            "linecolor": "#EBF0F8",
            "ticks": ""
           }
          },
          "scene": {
           "xaxis": {
            "backgroundcolor": "white",
            "gridcolor": "#DFE8F3",
            "gridwidth": 2,
            "linecolor": "#EBF0F8",
            "showbackground": true,
            "ticks": "",
            "zerolinecolor": "#EBF0F8"
           },
           "yaxis": {
            "backgroundcolor": "white",
            "gridcolor": "#DFE8F3",
            "gridwidth": 2,
            "linecolor": "#EBF0F8",
            "showbackground": true,
            "ticks": "",
            "zerolinecolor": "#EBF0F8"
           },
           "zaxis": {
            "backgroundcolor": "white",
            "gridcolor": "#DFE8F3",
            "gridwidth": 2,
            "linecolor": "#EBF0F8",
            "showbackground": true,
            "ticks": "",
            "zerolinecolor": "#EBF0F8"
           }
          },
          "shapedefaults": {
           "line": {
            "color": "#2a3f5f"
           }
          },
          "ternary": {
           "aaxis": {
            "gridcolor": "#DFE8F3",
            "linecolor": "#A2B1C6",
            "ticks": ""
           },
           "baxis": {
            "gridcolor": "#DFE8F3",
            "linecolor": "#A2B1C6",
            "ticks": ""
           },
           "bgcolor": "white",
           "caxis": {
            "gridcolor": "#DFE8F3",
            "linecolor": "#A2B1C6",
            "ticks": ""
           }
          },
          "title": {
           "x": 0.05
          },
          "xaxis": {
           "automargin": true,
           "gridcolor": "#EBF0F8",
           "linecolor": "#EBF0F8",
           "ticks": "",
           "title": {
            "standoff": 15
           },
           "zerolinecolor": "#EBF0F8",
           "zerolinewidth": 2
          },
          "yaxis": {
           "automargin": true,
           "gridcolor": "#EBF0F8",
           "linecolor": "#EBF0F8",
           "ticks": "",
           "title": {
            "standoff": 15
           },
           "zerolinecolor": "#EBF0F8",
           "zerolinewidth": 2
          }
         }
        },
        "title": {
         "text": "Test R² Scores for Heave Prediction Across Sea Conditions and Lags Combinations - ARX Heave Model"
        },
        "width": 1200,
        "xaxis": {
         "anchor": "y",
         "categoryarray": [
          "Tp = 4.5 s, Hs = 1 m",
          "Tp = 4.5 s, Hs = 2 m",
          "Tp = 6.8 s, Hs = 1 m",
          "Tp = 6.8 s, Hs = 2 m",
          "Tp = 6.8 s, Hs = 4 m",
          "Tp = 6.8 s, Hs = 6 m",
          "Tp = 6.8 s, Hs = 8 m",
          "Tp = 10.2 s, Hs = 1 m",
          "Tp = 10.2 s, Hs = 2 m",
          "Tp = 10.2 s, Hs = 4 m"
         ],
         "categoryorder": "array",
         "domain": [
          0,
          0.675
         ],
         "title": {
          "text": "Test Case"
         }
        },
        "xaxis2": {
         "anchor": "y2",
         "domain": [
          0.775,
          1
         ],
         "title": {
          "text": "Model Combination"
         }
        },
        "yaxis": {
         "anchor": "x",
         "domain": [
          0,
          1
         ],
         "title": {
          "text": "R² Score"
         }
        },
        "yaxis2": {
         "anchor": "x2",
         "domain": [
          0,
          1
         ],
         "range": [
          0,
          1
         ],
         "showgrid": true,
         "title": {
          "text": "Train/Validation R² Score"
         }
        }
       }
      }
     },
     "metadata": {},
     "output_type": "display_data"
    }
   ],
   "source": [
    "# Group the pitch dataframes correctly\n",
    "heave_dfs = {k: v for k, v in dfs.items() if k.startswith('metrics_df_test_heave')}\n",
    "\n",
    "# Define your custom x-axis order\n",
    "custom_order = [\n",
    "    'T4p5s_Hs1m', \n",
    "    'T4p5s_Hs2m', \n",
    "    'Tp6p8s_Hs1m',\n",
    "    'Tp6p8s_Hs2m',\n",
    "    'Tp6p8s_Hs4m',\n",
    "    'Tp6p8s_Hs6m',\n",
    "    'Tp6p8s_Hs8m',\n",
    "    'T10p2s_Hs1m',\n",
    "    'Tp10p2_Hs2m',\n",
    "    'T10p2s_Hs4m'\n",
    "]\n",
    "pretty_custom_order = [test_case_pretty_map.get(tc, tc) for tc in custom_order]\n",
    "\n",
    "# Create color map to maintain consistent color for each `comment_value`\n",
    "color_map = {}\n",
    "\n",
    "# Create two subplots with independent y-axes\n",
    "fig = make_subplots(\n",
    "    rows=1, cols=2,\n",
    "    column_widths=[0.75, 0.25],\n",
    "    subplot_titles=(\"Test Cases R²\", \"Train/Validation R² Scores\"),\n",
    "    shared_yaxes=False\n",
    ")\n",
    "\n",
    "for df_name, original_df in heave_dfs.items():\n",
    "    df = original_df.copy()\n",
    "\n",
    "    # Extract na, nb, nf from df_name\n",
    "    match = re.search(r'na(\\d+)_nb(\\d+)_nf(\\d+)', df_name)\n",
    "    if match:\n",
    "        na_val, nb_val, nf_val = match.groups()\n",
    "        comment_value = f'na={na_val}, nb={nb_val}, nd=-{nf_val}'\n",
    "    else:\n",
    "        comment_value = df_name\n",
    "\n",
    "    # Assign color\n",
    "    if comment_value not in color_map:\n",
    "        color_map[comment_value] = px.colors.qualitative.Plotly[len(color_map) % len(px.colors.qualitative.Plotly)]\n",
    "\n",
    "    # Identify correct column\n",
    "    if 'test case' in df.columns:\n",
    "        test_case_col = 'test case'\n",
    "    elif 'test_case' in df.columns:\n",
    "        test_case_col = 'test_case'\n",
    "    else:\n",
    "        raise ValueError(f\"No valid 'test_case' column found in {df_name}\")\n",
    "\n",
    "    # Map and sort\n",
    "    df[test_case_col] = df[test_case_col].map(test_case_pretty_map).astype('category')\n",
    "    df[test_case_col] = pd.Categorical(df[test_case_col], categories=pretty_custom_order, ordered=True)\n",
    "    df = df.sort_values(test_case_col)\n",
    "\n",
    "    # Conditional dash style for specific comment_values\n",
    "    if comment_value in ['na=2, nb=3, nd=-6', 'na=2, nb=3, nd=-7']:\n",
    "        line_style = dict(color=color_map[comment_value], dash='6,10')\n",
    "    else:\n",
    "        line_style = dict(color=color_map[comment_value])\n",
    "\n",
    "    # Plot R² line\n",
    "    fig.add_trace(\n",
    "        go.Scatter(\n",
    "            x=df[test_case_col],\n",
    "            y=df['r2_test_heave'],\n",
    "            mode='lines+markers',\n",
    "            name=comment_value,\n",
    "            legendgroup=comment_value,\n",
    "            line=line_style\n",
    "        ),\n",
    "        row=1, col=1\n",
    "    )\n",
    "\n",
    "    # Summary plot\n",
    "    summary_row = df_summary_heave[\n",
    "        (df_summary_heave['na'] == int(na_val)) & \n",
    "        (df_summary_heave['nb'] == int(nb_val)) & \n",
    "        (df_summary_heave['nd'] == -int(nf_val))\n",
    "    ]\n",
    "\n",
    "    if not summary_row.empty:\n",
    "        r2_train = summary_row['r2_train'].values[0]\n",
    "        r2_val = summary_row['r2_val'].values[0]\n",
    "\n",
    "        fig.add_trace(\n",
    "            go.Scatter(\n",
    "                x=[comment_value],\n",
    "                y=[r2_train],\n",
    "                mode='markers',\n",
    "                marker=dict(symbol='x', size=8, color=color_map[comment_value]),\n",
    "                name=f'{comment_value} Train',\n",
    "                legendgroup=comment_value,\n",
    "                showlegend=False\n",
    "            ),\n",
    "            row=1, col=2\n",
    "        )\n",
    "\n",
    "        fig.add_trace(\n",
    "            go.Scatter(\n",
    "                x=[comment_value],\n",
    "                y=[r2_val],\n",
    "                mode='markers',\n",
    "                marker=dict(symbol='square', size=8, color=color_map[comment_value]),\n",
    "                name=f'{comment_value} Val',\n",
    "                legendgroup=comment_value,\n",
    "                showlegend=False\n",
    "            ),\n",
    "            row=1, col=2\n",
    "        )\n",
    "\n",
    "# Add legend markers\n",
    "fig.add_trace(\n",
    "    go.Scatter(\n",
    "        x=[None], y=[None],\n",
    "        mode='markers',\n",
    "        marker=dict(symbol='x', size=7, color='grey'),\n",
    "        name='Train R²',\n",
    "        showlegend=True\n",
    "    ),\n",
    "    row=1, col=2\n",
    ")\n",
    "\n",
    "fig.add_trace(\n",
    "    go.Scatter(\n",
    "        x=[None], y=[None],\n",
    "        mode='markers',\n",
    "        marker=dict(symbol='square', size=7, color='grey'),\n",
    "        name='Validation R²',\n",
    "        showlegend=True\n",
    "    ),\n",
    "    row=1, col=2\n",
    ")\n",
    "\n",
    "# Layout\n",
    "fig.update_layout(\n",
    "    title=\"Test R² Scores for Heave Prediction Across Sea Conditions and Lags Combinations - ARX Heave Model\",\n",
    "    xaxis_title=\"Test Case\",\n",
    "    xaxis2_title=\"Model Combination\",\n",
    "    yaxis_title=\"R² Score\",\n",
    "    template=\"plotly_white\",\n",
    "    height=600,\n",
    "    width=1200,\n",
    "    legend_title=\"na + nb + nd combination\",\n",
    "    xaxis=dict(\n",
    "        categoryorder='array',\n",
    "        categoryarray=pretty_custom_order\n",
    "    ),\n",
    "    yaxis2=dict(\n",
    "        title=\"Train/Validation R² Score\",\n",
    "        range=[0, 1],\n",
    "        showgrid=True\n",
    "    )\n",
    ")\n",
    "\n",
    "fig.show()\n"
   ]
  },
  {
   "cell_type": "code",
   "execution_count": 225,
   "id": "478d5447",
   "metadata": {},
   "outputs": [
    {
     "name": "stdout",
     "output_type": "stream",
     "text": [
      "   nd  nb  na  r2_train  r2_val\n",
      "0  -2   2   2    0.9569  0.9351\n",
      "1  -5   2   2    0.9730  0.9424\n",
      "2  -6   2   2    0.9773  0.9450\n",
      "3  -7   2   2    0.9908  0.9574\n",
      "4  -8   2   2    0.9908  0.9572\n",
      "5  -2   3   2    0.9590  0.9279\n",
      "6  -5   3   2    0.9730  0.9424\n",
      "7  -6   3   2    0.9776  0.9450\n"
     ]
    }
   ],
   "source": [
    "# Define the data manually as a list of dictionaries\n",
    "data_pitch = [\n",
    "    {'nd': -2, 'nb': 2, 'na': 2, 'r2_train': 0.9569, 'r2_val': 0.9351},\n",
    "    {'nd': -5, 'nb': 2, 'na': 2, 'r2_train': 0.9730, 'r2_val': 0.9424},\n",
    "    {'nd': -6, 'nb': 2, 'na': 2, 'r2_train': 0.9773, 'r2_val': 0.9450},\n",
    "    {'nd': -7, 'nb': 2, 'na': 2, 'r2_train': 0.9908, 'r2_val': 0.9574},\n",
    "    {'nd': -8, 'nb': 2, 'na': 2, 'r2_train': 0.9908, 'r2_val': 0.9572},\n",
    "    \n",
    "    {'nd': -2, 'nb': 3, 'na': 2, 'r2_train': 0.9590, 'r2_val': 0.9279},\n",
    "    {'nd': -5, 'nb': 3, 'na': 2, 'r2_train': 0.9730, 'r2_val': 0.9424},\n",
    "    {'nd': -6, 'nb': 3, 'na': 2, 'r2_train': 0.9776, 'r2_val': 0.9450}]\n",
    "\n",
    "# Create a DataFrame\n",
    "df_summary_pitch = pd.DataFrame(data_pitch)\n",
    "\n",
    "# Display it\n",
    "print(df_summary_pitch)\n",
    "\n"
   ]
  },
  {
   "cell_type": "code",
   "execution_count": null,
   "id": "fc48c263",
   "metadata": {},
   "outputs": [],
   "source": []
  },
  {
   "cell_type": "code",
   "execution_count": 226,
   "id": "32c66c7c",
   "metadata": {},
   "outputs": [
    {
     "data": {
      "application/vnd.plotly.v1+json": {
       "config": {
        "plotlyServerURL": "https://plot.ly"
       },
       "data": [
        {
         "legendgroup": "na=2, nb=2, nd=-2",
         "line": {
          "color": "#636EFA"
         },
         "mode": "lines+markers",
         "name": "na=2, nb=2, nd=-2",
         "type": "scatter",
         "x": [
          "Tp = 4.5 s, Hs = 1 m",
          "Tp = 4.5 s, Hs = 2 m",
          "Tp = 6.8 s, Hs = 1 m",
          "Tp = 6.8 s, Hs = 2 m",
          "Tp = 6.8 s, Hs = 4 m",
          "Tp = 6.8 s, Hs = 6 m",
          "Tp = 6.8 s, Hs = 8 m",
          "Tp = 10.2 s, Hs = 1 m",
          "Tp = 10.2 s, Hs = 2 m",
          "Tp = 10.2 s, Hs = 4 m"
         ],
         "xaxis": "x",
         "y": [
          0.6808705290908736,
          0.6516733430797175,
          0.9571293364088732,
          0.9557193748292068,
          0.9452755197780082,
          0.9158801222805608,
          0.8153306823843846,
          0.8233301134539743,
          0.8255660507733481,
          0.8193151358658483
         ],
         "yaxis": "y"
        },
        {
         "legendgroup": "na=2, nb=2, nd=-2",
         "marker": {
          "color": "#636EFA",
          "size": 8,
          "symbol": "x"
         },
         "mode": "markers",
         "name": "na=2, nb=2, nd=-2 Train",
         "showlegend": false,
         "type": "scatter",
         "x": [
          "na=2, nb=2, nd=-2"
         ],
         "xaxis": "x2",
         "y": [
          0.9569
         ],
         "yaxis": "y2"
        },
        {
         "legendgroup": "na=2, nb=2, nd=-2",
         "marker": {
          "color": "#636EFA",
          "size": 8,
          "symbol": "square"
         },
         "mode": "markers",
         "name": "na=2, nb=2, nd=-2 Val",
         "showlegend": false,
         "type": "scatter",
         "x": [
          "na=2, nb=2, nd=-2"
         ],
         "xaxis": "x2",
         "y": [
          0.9351
         ],
         "yaxis": "y2"
        },
        {
         "legendgroup": "na=2, nb=2, nd=-5",
         "line": {
          "color": "#EF553B"
         },
         "mode": "lines+markers",
         "name": "na=2, nb=2, nd=-5",
         "type": "scatter",
         "x": [
          "Tp = 4.5 s, Hs = 1 m",
          "Tp = 4.5 s, Hs = 2 m",
          "Tp = 6.8 s, Hs = 1 m",
          "Tp = 6.8 s, Hs = 2 m",
          "Tp = 6.8 s, Hs = 4 m",
          "Tp = 6.8 s, Hs = 6 m",
          "Tp = 6.8 s, Hs = 8 m",
          "Tp = 10.2 s, Hs = 1 m",
          "Tp = 10.2 s, Hs = 2 m",
          "Tp = 10.2 s, Hs = 4 m"
         ],
         "xaxis": "x",
         "y": [
          0.8125457155439537,
          0.811254541468316,
          0.9609674331230792,
          0.9614796962298297,
          0.9597354240943174,
          0.9376625385152952,
          0.8230977670499819,
          0.9633383017004704,
          0.9661783406327148,
          0.96396589749906
         ],
         "yaxis": "y"
        },
        {
         "legendgroup": "na=2, nb=2, nd=-5",
         "marker": {
          "color": "#EF553B",
          "size": 8,
          "symbol": "x"
         },
         "mode": "markers",
         "name": "na=2, nb=2, nd=-5 Train",
         "showlegend": false,
         "type": "scatter",
         "x": [
          "na=2, nb=2, nd=-5"
         ],
         "xaxis": "x2",
         "y": [
          0.973
         ],
         "yaxis": "y2"
        },
        {
         "legendgroup": "na=2, nb=2, nd=-5",
         "marker": {
          "color": "#EF553B",
          "size": 8,
          "symbol": "square"
         },
         "mode": "markers",
         "name": "na=2, nb=2, nd=-5 Val",
         "showlegend": false,
         "type": "scatter",
         "x": [
          "na=2, nb=2, nd=-5"
         ],
         "xaxis": "x2",
         "y": [
          0.9424
         ],
         "yaxis": "y2"
        },
        {
         "legendgroup": "na=2, nb=2, nd=-6",
         "line": {
          "color": "#00CC96"
         },
         "mode": "lines+markers",
         "name": "na=2, nb=2, nd=-6",
         "type": "scatter",
         "x": [
          "Tp = 4.5 s, Hs = 1 m",
          "Tp = 4.5 s, Hs = 2 m",
          "Tp = 6.8 s, Hs = 1 m",
          "Tp = 6.8 s, Hs = 2 m",
          "Tp = 6.8 s, Hs = 4 m",
          "Tp = 6.8 s, Hs = 6 m",
          "Tp = 6.8 s, Hs = 8 m",
          "Tp = 10.2 s, Hs = 1 m",
          "Tp = 10.2 s, Hs = 2 m",
          "Tp = 10.2 s, Hs = 4 m"
         ],
         "xaxis": "x",
         "y": [
          0.8224999889265215,
          0.8201595093599681,
          0.9639078263136606,
          0.964361679951886,
          0.9622619156597828,
          0.9397001268732388,
          0.8225527941753783,
          0.9553488157438204,
          0.9580040623616132,
          0.9559800867774436
         ],
         "yaxis": "y"
        },
        {
         "legendgroup": "na=2, nb=2, nd=-6",
         "marker": {
          "color": "#00CC96",
          "size": 8,
          "symbol": "x"
         },
         "mode": "markers",
         "name": "na=2, nb=2, nd=-6 Train",
         "showlegend": false,
         "type": "scatter",
         "x": [
          "na=2, nb=2, nd=-6"
         ],
         "xaxis": "x2",
         "y": [
          0.9773
         ],
         "yaxis": "y2"
        },
        {
         "legendgroup": "na=2, nb=2, nd=-6",
         "marker": {
          "color": "#00CC96",
          "size": 8,
          "symbol": "square"
         },
         "mode": "markers",
         "name": "na=2, nb=2, nd=-6 Val",
         "showlegend": false,
         "type": "scatter",
         "x": [
          "na=2, nb=2, nd=-6"
         ],
         "xaxis": "x2",
         "y": [
          0.945
         ],
         "yaxis": "y2"
        },
        {
         "legendgroup": "na=2, nb=2, nd=-7",
         "line": {
          "color": "#AB63FA"
         },
         "mode": "lines+markers",
         "name": "na=2, nb=2, nd=-7",
         "type": "scatter",
         "x": [
          "Tp = 4.5 s, Hs = 1 m",
          "Tp = 4.5 s, Hs = 2 m",
          "Tp = 6.8 s, Hs = 1 m",
          "Tp = 6.8 s, Hs = 2 m",
          "Tp = 6.8 s, Hs = 4 m",
          "Tp = 6.8 s, Hs = 6 m",
          "Tp = 6.8 s, Hs = 8 m",
          "Tp = 10.2 s, Hs = 1 m",
          "Tp = 10.2 s, Hs = 2 m",
          "Tp = 10.2 s, Hs = 4 m"
         ],
         "xaxis": "x",
         "y": [
          0.8604299682914623,
          0.857677765132681,
          0.9769210416306434,
          0.9767957439940914,
          0.9708612419755712,
          0.9409261042574886,
          0.8219566919465588,
          0.9086440169277138,
          0.9104922466288536,
          0.905909779970896
         ],
         "yaxis": "y"
        },
        {
         "legendgroup": "na=2, nb=2, nd=-7",
         "marker": {
          "color": "#AB63FA",
          "size": 8,
          "symbol": "x"
         },
         "mode": "markers",
         "name": "na=2, nb=2, nd=-7 Train",
         "showlegend": false,
         "type": "scatter",
         "x": [
          "na=2, nb=2, nd=-7"
         ],
         "xaxis": "x2",
         "y": [
          0.9908
         ],
         "yaxis": "y2"
        },
        {
         "legendgroup": "na=2, nb=2, nd=-7",
         "marker": {
          "color": "#AB63FA",
          "size": 8,
          "symbol": "square"
         },
         "mode": "markers",
         "name": "na=2, nb=2, nd=-7 Val",
         "showlegend": false,
         "type": "scatter",
         "x": [
          "na=2, nb=2, nd=-7"
         ],
         "xaxis": "x2",
         "y": [
          0.9574
         ],
         "yaxis": "y2"
        },
        {
         "legendgroup": "na=2, nb=2, nd=-8",
         "line": {
          "color": "#FFA15A"
         },
         "mode": "lines+markers",
         "name": "na=2, nb=2, nd=-8",
         "type": "scatter",
         "x": [
          "Tp = 4.5 s, Hs = 1 m",
          "Tp = 4.5 s, Hs = 2 m",
          "Tp = 6.8 s, Hs = 1 m",
          "Tp = 6.8 s, Hs = 2 m",
          "Tp = 6.8 s, Hs = 4 m",
          "Tp = 6.8 s, Hs = 6 m",
          "Tp = 6.8 s, Hs = 8 m",
          "Tp = 10.2 s, Hs = 1 m",
          "Tp = 10.2 s, Hs = 2 m",
          "Tp = 10.2 s, Hs = 4 m"
         ],
         "xaxis": "x",
         "y": [
          0.8596968435753283,
          0.8568667706991044,
          0.9768695548376544,
          0.9767263169594242,
          0.9706969191294568,
          0.9405817887452536,
          0.8212232787656895,
          0.9032637426951012,
          0.9050731623654844,
          0.9004222902365469
         ],
         "yaxis": "y"
        },
        {
         "legendgroup": "na=2, nb=2, nd=-8",
         "marker": {
          "color": "#FFA15A",
          "size": 8,
          "symbol": "x"
         },
         "mode": "markers",
         "name": "na=2, nb=2, nd=-8 Train",
         "showlegend": false,
         "type": "scatter",
         "x": [
          "na=2, nb=2, nd=-8"
         ],
         "xaxis": "x2",
         "y": [
          0.9908
         ],
         "yaxis": "y2"
        },
        {
         "legendgroup": "na=2, nb=2, nd=-8",
         "marker": {
          "color": "#FFA15A",
          "size": 8,
          "symbol": "square"
         },
         "mode": "markers",
         "name": "na=2, nb=2, nd=-8 Val",
         "showlegend": false,
         "type": "scatter",
         "x": [
          "na=2, nb=2, nd=-8"
         ],
         "xaxis": "x2",
         "y": [
          0.9572
         ],
         "yaxis": "y2"
        },
        {
         "marker": {
          "color": "grey",
          "size": 7,
          "symbol": "x"
         },
         "mode": "markers",
         "name": " Train R²",
         "showlegend": true,
         "type": "scatter",
         "x": [
          null
         ],
         "xaxis": "x2",
         "y": [
          null
         ],
         "yaxis": "y2"
        },
        {
         "marker": {
          "color": "grey",
          "size": 7,
          "symbol": "square"
         },
         "mode": "markers",
         "name": "Validation R²",
         "showlegend": true,
         "type": "scatter",
         "x": [
          null
         ],
         "xaxis": "x2",
         "y": [
          null
         ],
         "yaxis": "y2"
        }
       ],
       "layout": {
        "annotations": [
         {
          "font": {
           "size": 16
          },
          "showarrow": false,
          "text": "Test Cases R²",
          "x": 0.3375,
          "xanchor": "center",
          "xref": "paper",
          "y": 1,
          "yanchor": "bottom",
          "yref": "paper"
         },
         {
          "font": {
           "size": 16
          },
          "showarrow": false,
          "text": "Train/Validation R² Scores",
          "x": 0.8875,
          "xanchor": "center",
          "xref": "paper",
          "y": 1,
          "yanchor": "bottom",
          "yref": "paper"
         }
        ],
        "height": 600,
        "legend": {
         "title": {
          "text": "na + nb + nd combination"
         }
        },
        "template": {
         "data": {
          "bar": [
           {
            "error_x": {
             "color": "#2a3f5f"
            },
            "error_y": {
             "color": "#2a3f5f"
            },
            "marker": {
             "line": {
              "color": "white",
              "width": 0.5
             },
             "pattern": {
              "fillmode": "overlay",
              "size": 10,
              "solidity": 0.2
             }
            },
            "type": "bar"
           }
          ],
          "barpolar": [
           {
            "marker": {
             "line": {
              "color": "white",
              "width": 0.5
             },
             "pattern": {
              "fillmode": "overlay",
              "size": 10,
              "solidity": 0.2
             }
            },
            "type": "barpolar"
           }
          ],
          "carpet": [
           {
            "aaxis": {
             "endlinecolor": "#2a3f5f",
             "gridcolor": "#C8D4E3",
             "linecolor": "#C8D4E3",
             "minorgridcolor": "#C8D4E3",
             "startlinecolor": "#2a3f5f"
            },
            "baxis": {
             "endlinecolor": "#2a3f5f",
             "gridcolor": "#C8D4E3",
             "linecolor": "#C8D4E3",
             "minorgridcolor": "#C8D4E3",
             "startlinecolor": "#2a3f5f"
            },
            "type": "carpet"
           }
          ],
          "choropleth": [
           {
            "colorbar": {
             "outlinewidth": 0,
             "ticks": ""
            },
            "type": "choropleth"
           }
          ],
          "contour": [
           {
            "colorbar": {
             "outlinewidth": 0,
             "ticks": ""
            },
            "colorscale": [
             [
              0,
              "#0d0887"
             ],
             [
              0.1111111111111111,
              "#46039f"
             ],
             [
              0.2222222222222222,
              "#7201a8"
             ],
             [
              0.3333333333333333,
              "#9c179e"
             ],
             [
              0.4444444444444444,
              "#bd3786"
             ],
             [
              0.5555555555555556,
              "#d8576b"
             ],
             [
              0.6666666666666666,
              "#ed7953"
             ],
             [
              0.7777777777777778,
              "#fb9f3a"
             ],
             [
              0.8888888888888888,
              "#fdca26"
             ],
             [
              1,
              "#f0f921"
             ]
            ],
            "type": "contour"
           }
          ],
          "contourcarpet": [
           {
            "colorbar": {
             "outlinewidth": 0,
             "ticks": ""
            },
            "type": "contourcarpet"
           }
          ],
          "heatmap": [
           {
            "colorbar": {
             "outlinewidth": 0,
             "ticks": ""
            },
            "colorscale": [
             [
              0,
              "#0d0887"
             ],
             [
              0.1111111111111111,
              "#46039f"
             ],
             [
              0.2222222222222222,
              "#7201a8"
             ],
             [
              0.3333333333333333,
              "#9c179e"
             ],
             [
              0.4444444444444444,
              "#bd3786"
             ],
             [
              0.5555555555555556,
              "#d8576b"
             ],
             [
              0.6666666666666666,
              "#ed7953"
             ],
             [
              0.7777777777777778,
              "#fb9f3a"
             ],
             [
              0.8888888888888888,
              "#fdca26"
             ],
             [
              1,
              "#f0f921"
             ]
            ],
            "type": "heatmap"
           }
          ],
          "heatmapgl": [
           {
            "colorbar": {
             "outlinewidth": 0,
             "ticks": ""
            },
            "colorscale": [
             [
              0,
              "#0d0887"
             ],
             [
              0.1111111111111111,
              "#46039f"
             ],
             [
              0.2222222222222222,
              "#7201a8"
             ],
             [
              0.3333333333333333,
              "#9c179e"
             ],
             [
              0.4444444444444444,
              "#bd3786"
             ],
             [
              0.5555555555555556,
              "#d8576b"
             ],
             [
              0.6666666666666666,
              "#ed7953"
             ],
             [
              0.7777777777777778,
              "#fb9f3a"
             ],
             [
              0.8888888888888888,
              "#fdca26"
             ],
             [
              1,
              "#f0f921"
             ]
            ],
            "type": "heatmapgl"
           }
          ],
          "histogram": [
           {
            "marker": {
             "pattern": {
              "fillmode": "overlay",
              "size": 10,
              "solidity": 0.2
             }
            },
            "type": "histogram"
           }
          ],
          "histogram2d": [
           {
            "colorbar": {
             "outlinewidth": 0,
             "ticks": ""
            },
            "colorscale": [
             [
              0,
              "#0d0887"
             ],
             [
              0.1111111111111111,
              "#46039f"
             ],
             [
              0.2222222222222222,
              "#7201a8"
             ],
             [
              0.3333333333333333,
              "#9c179e"
             ],
             [
              0.4444444444444444,
              "#bd3786"
             ],
             [
              0.5555555555555556,
              "#d8576b"
             ],
             [
              0.6666666666666666,
              "#ed7953"
             ],
             [
              0.7777777777777778,
              "#fb9f3a"
             ],
             [
              0.8888888888888888,
              "#fdca26"
             ],
             [
              1,
              "#f0f921"
             ]
            ],
            "type": "histogram2d"
           }
          ],
          "histogram2dcontour": [
           {
            "colorbar": {
             "outlinewidth": 0,
             "ticks": ""
            },
            "colorscale": [
             [
              0,
              "#0d0887"
             ],
             [
              0.1111111111111111,
              "#46039f"
             ],
             [
              0.2222222222222222,
              "#7201a8"
             ],
             [
              0.3333333333333333,
              "#9c179e"
             ],
             [
              0.4444444444444444,
              "#bd3786"
             ],
             [
              0.5555555555555556,
              "#d8576b"
             ],
             [
              0.6666666666666666,
              "#ed7953"
             ],
             [
              0.7777777777777778,
              "#fb9f3a"
             ],
             [
              0.8888888888888888,
              "#fdca26"
             ],
             [
              1,
              "#f0f921"
             ]
            ],
            "type": "histogram2dcontour"
           }
          ],
          "mesh3d": [
           {
            "colorbar": {
             "outlinewidth": 0,
             "ticks": ""
            },
            "type": "mesh3d"
           }
          ],
          "parcoords": [
           {
            "line": {
             "colorbar": {
              "outlinewidth": 0,
              "ticks": ""
             }
            },
            "type": "parcoords"
           }
          ],
          "pie": [
           {
            "automargin": true,
            "type": "pie"
           }
          ],
          "scatter": [
           {
            "fillpattern": {
             "fillmode": "overlay",
             "size": 10,
             "solidity": 0.2
            },
            "type": "scatter"
           }
          ],
          "scatter3d": [
           {
            "line": {
             "colorbar": {
              "outlinewidth": 0,
              "ticks": ""
             }
            },
            "marker": {
             "colorbar": {
              "outlinewidth": 0,
              "ticks": ""
             }
            },
            "type": "scatter3d"
           }
          ],
          "scattercarpet": [
           {
            "marker": {
             "colorbar": {
              "outlinewidth": 0,
              "ticks": ""
             }
            },
            "type": "scattercarpet"
           }
          ],
          "scattergeo": [
           {
            "marker": {
             "colorbar": {
              "outlinewidth": 0,
              "ticks": ""
             }
            },
            "type": "scattergeo"
           }
          ],
          "scattergl": [
           {
            "marker": {
             "colorbar": {
              "outlinewidth": 0,
              "ticks": ""
             }
            },
            "type": "scattergl"
           }
          ],
          "scattermapbox": [
           {
            "marker": {
             "colorbar": {
              "outlinewidth": 0,
              "ticks": ""
             }
            },
            "type": "scattermapbox"
           }
          ],
          "scatterpolar": [
           {
            "marker": {
             "colorbar": {
              "outlinewidth": 0,
              "ticks": ""
             }
            },
            "type": "scatterpolar"
           }
          ],
          "scatterpolargl": [
           {
            "marker": {
             "colorbar": {
              "outlinewidth": 0,
              "ticks": ""
             }
            },
            "type": "scatterpolargl"
           }
          ],
          "scatterternary": [
           {
            "marker": {
             "colorbar": {
              "outlinewidth": 0,
              "ticks": ""
             }
            },
            "type": "scatterternary"
           }
          ],
          "surface": [
           {
            "colorbar": {
             "outlinewidth": 0,
             "ticks": ""
            },
            "colorscale": [
             [
              0,
              "#0d0887"
             ],
             [
              0.1111111111111111,
              "#46039f"
             ],
             [
              0.2222222222222222,
              "#7201a8"
             ],
             [
              0.3333333333333333,
              "#9c179e"
             ],
             [
              0.4444444444444444,
              "#bd3786"
             ],
             [
              0.5555555555555556,
              "#d8576b"
             ],
             [
              0.6666666666666666,
              "#ed7953"
             ],
             [
              0.7777777777777778,
              "#fb9f3a"
             ],
             [
              0.8888888888888888,
              "#fdca26"
             ],
             [
              1,
              "#f0f921"
             ]
            ],
            "type": "surface"
           }
          ],
          "table": [
           {
            "cells": {
             "fill": {
              "color": "#EBF0F8"
             },
             "line": {
              "color": "white"
             }
            },
            "header": {
             "fill": {
              "color": "#C8D4E3"
             },
             "line": {
              "color": "white"
             }
            },
            "type": "table"
           }
          ]
         },
         "layout": {
          "annotationdefaults": {
           "arrowcolor": "#2a3f5f",
           "arrowhead": 0,
           "arrowwidth": 1
          },
          "autotypenumbers": "strict",
          "coloraxis": {
           "colorbar": {
            "outlinewidth": 0,
            "ticks": ""
           }
          },
          "colorscale": {
           "diverging": [
            [
             0,
             "#8e0152"
            ],
            [
             0.1,
             "#c51b7d"
            ],
            [
             0.2,
             "#de77ae"
            ],
            [
             0.3,
             "#f1b6da"
            ],
            [
             0.4,
             "#fde0ef"
            ],
            [
             0.5,
             "#f7f7f7"
            ],
            [
             0.6,
             "#e6f5d0"
            ],
            [
             0.7,
             "#b8e186"
            ],
            [
             0.8,
             "#7fbc41"
            ],
            [
             0.9,
             "#4d9221"
            ],
            [
             1,
             "#276419"
            ]
           ],
           "sequential": [
            [
             0,
             "#0d0887"
            ],
            [
             0.1111111111111111,
             "#46039f"
            ],
            [
             0.2222222222222222,
             "#7201a8"
            ],
            [
             0.3333333333333333,
             "#9c179e"
            ],
            [
             0.4444444444444444,
             "#bd3786"
            ],
            [
             0.5555555555555556,
             "#d8576b"
            ],
            [
             0.6666666666666666,
             "#ed7953"
            ],
            [
             0.7777777777777778,
             "#fb9f3a"
            ],
            [
             0.8888888888888888,
             "#fdca26"
            ],
            [
             1,
             "#f0f921"
            ]
           ],
           "sequentialminus": [
            [
             0,
             "#0d0887"
            ],
            [
             0.1111111111111111,
             "#46039f"
            ],
            [
             0.2222222222222222,
             "#7201a8"
            ],
            [
             0.3333333333333333,
             "#9c179e"
            ],
            [
             0.4444444444444444,
             "#bd3786"
            ],
            [
             0.5555555555555556,
             "#d8576b"
            ],
            [
             0.6666666666666666,
             "#ed7953"
            ],
            [
             0.7777777777777778,
             "#fb9f3a"
            ],
            [
             0.8888888888888888,
             "#fdca26"
            ],
            [
             1,
             "#f0f921"
            ]
           ]
          },
          "colorway": [
           "#636efa",
           "#EF553B",
           "#00cc96",
           "#ab63fa",
           "#FFA15A",
           "#19d3f3",
           "#FF6692",
           "#B6E880",
           "#FF97FF",
           "#FECB52"
          ],
          "font": {
           "color": "#2a3f5f"
          },
          "geo": {
           "bgcolor": "white",
           "lakecolor": "white",
           "landcolor": "white",
           "showlakes": true,
           "showland": true,
           "subunitcolor": "#C8D4E3"
          },
          "hoverlabel": {
           "align": "left"
          },
          "hovermode": "closest",
          "mapbox": {
           "style": "light"
          },
          "paper_bgcolor": "white",
          "plot_bgcolor": "white",
          "polar": {
           "angularaxis": {
            "gridcolor": "#EBF0F8",
            "linecolor": "#EBF0F8",
            "ticks": ""
           },
           "bgcolor": "white",
           "radialaxis": {
            "gridcolor": "#EBF0F8",
            "linecolor": "#EBF0F8",
            "ticks": ""
           }
          },
          "scene": {
           "xaxis": {
            "backgroundcolor": "white",
            "gridcolor": "#DFE8F3",
            "gridwidth": 2,
            "linecolor": "#EBF0F8",
            "showbackground": true,
            "ticks": "",
            "zerolinecolor": "#EBF0F8"
           },
           "yaxis": {
            "backgroundcolor": "white",
            "gridcolor": "#DFE8F3",
            "gridwidth": 2,
            "linecolor": "#EBF0F8",
            "showbackground": true,
            "ticks": "",
            "zerolinecolor": "#EBF0F8"
           },
           "zaxis": {
            "backgroundcolor": "white",
            "gridcolor": "#DFE8F3",
            "gridwidth": 2,
            "linecolor": "#EBF0F8",
            "showbackground": true,
            "ticks": "",
            "zerolinecolor": "#EBF0F8"
           }
          },
          "shapedefaults": {
           "line": {
            "color": "#2a3f5f"
           }
          },
          "ternary": {
           "aaxis": {
            "gridcolor": "#DFE8F3",
            "linecolor": "#A2B1C6",
            "ticks": ""
           },
           "baxis": {
            "gridcolor": "#DFE8F3",
            "linecolor": "#A2B1C6",
            "ticks": ""
           },
           "bgcolor": "white",
           "caxis": {
            "gridcolor": "#DFE8F3",
            "linecolor": "#A2B1C6",
            "ticks": ""
           }
          },
          "title": {
           "x": 0.05
          },
          "xaxis": {
           "automargin": true,
           "gridcolor": "#EBF0F8",
           "linecolor": "#EBF0F8",
           "ticks": "",
           "title": {
            "standoff": 15
           },
           "zerolinecolor": "#EBF0F8",
           "zerolinewidth": 2
          },
          "yaxis": {
           "automargin": true,
           "gridcolor": "#EBF0F8",
           "linecolor": "#EBF0F8",
           "ticks": "",
           "title": {
            "standoff": 15
           },
           "zerolinecolor": "#EBF0F8",
           "zerolinewidth": 2
          }
         }
        },
        "title": {
         "text": "Test R² Scores for Pitch Prediction Across Sea Conditions and Lags Combinations - ARX Pitch Model"
        },
        "width": 1200,
        "xaxis": {
         "anchor": "y",
         "categoryarray": [
          "Tp = 4.5 s, Hs = 1 m",
          "Tp = 4.5 s, Hs = 2 m",
          "Tp = 6.8 s, Hs = 1 m",
          "Tp = 6.8 s, Hs = 2 m",
          "Tp = 6.8 s, Hs = 4 m",
          "Tp = 6.8 s, Hs = 6 m",
          "Tp = 6.8 s, Hs = 8 m",
          "Tp = 10.2 s, Hs = 1 m",
          "Tp = 10.2 s, Hs = 2 m",
          "Tp = 10.2 s, Hs = 4 m"
         ],
         "categoryorder": "array",
         "domain": [
          0,
          0.675
         ],
         "title": {
          "text": "Test Case"
         }
        },
        "xaxis2": {
         "anchor": "y2",
         "domain": [
          0.775,
          1
         ],
         "title": {
          "text": "Model Combination"
         }
        },
        "yaxis": {
         "anchor": "x",
         "domain": [
          0,
          1
         ],
         "title": {
          "text": "R² Score"
         }
        },
        "yaxis2": {
         "anchor": "x2",
         "domain": [
          0,
          1
         ],
         "range": [
          0,
          1
         ],
         "showgrid": true,
         "title": {
          "text": "Train/Validation R² Score"
         }
        }
       }
      }
     },
     "metadata": {},
     "output_type": "display_data"
    }
   ],
   "source": [
    "# Group the pitch dataframes correctly\n",
    "pitch_dfs = {k: v for k, v in dfs.items() if k.startswith('metrics_df_test_pitch')}\n",
    "\n",
    "# Define your custom x-axis order\n",
    "custom_order = [\n",
    "    'T4p5s_Hs1m', \n",
    "    'T4p5s_Hs2m', \n",
    "    'Tp6p8s_Hs1m',\n",
    "    'Tp6p8s_Hs2m',\n",
    "    'Tp6p8s_Hs4m',\n",
    "    'Tp6p8s_Hs6m',\n",
    "    'Tp6p8s_Hs8m',\n",
    "    'T10p2s_Hs1m',\n",
    "    'Tp10p2_Hs2m',\n",
    "    'T10p2s_Hs4m'\n",
    "]\n",
    "pretty_custom_order = [test_case_pretty_map.get(tc, tc) for tc in custom_order]\n",
    "\n",
    "# Create color map to maintain consistent color for each `comment_value`\n",
    "color_map = {}\n",
    "\n",
    "# Create two subplots with independent y-axes\n",
    "fig = make_subplots(\n",
    "    rows=1, cols=2,\n",
    "    column_widths=[0.75, 0.25],\n",
    "    subplot_titles=(\"Test Cases R²\", \"Train/Validation R² Scores\"),\n",
    "    shared_yaxes=False  # Disable shared y-axes\n",
    ")\n",
    "\n",
    "for df_name, original_df in pitch_dfs.items():\n",
    "    df = original_df.copy()\n",
    "    # Extract na, nb, nf from df_name\n",
    "    match = re.search(r'na(\\d+)_nb(\\d+)_nf(\\d+)', df_name)\n",
    "    if match:\n",
    "        na_val, nb_val, nf_val = match.groups()\n",
    "        comment_value = f'na={na_val}, nb={nb_val}, nd=-{nf_val}'\n",
    "    else:\n",
    "        comment_value = df_name\n",
    "\n",
    "    # Assign color to each unique comment_value if not already assigned\n",
    "    if comment_value not in color_map:\n",
    "        color_map[comment_value] = px.colors.qualitative.Plotly[len(color_map) % len(px.colors.qualitative.Plotly)]\n",
    "\n",
    "    # Find the correct test case column\n",
    "    if 'test case' in df.columns:\n",
    "        test_case_col = 'test case'\n",
    "    elif 'test_case' in df.columns:\n",
    "        test_case_col = 'test_case'\n",
    "    else:\n",
    "        raise ValueError(f\"No valid 'test_case' column found in {df_name}\")\n",
    "    \n",
    "    # Sort based on custom order\n",
    "    df[test_case_col] = pd.Categorical(df[test_case_col], categories=custom_order, ordered=True)\n",
    "    df[test_case_col] = df[test_case_col].map(test_case_pretty_map).astype('category')\n",
    "    df[test_case_col] = pd.Categorical(df[test_case_col], categories=pretty_custom_order, ordered=True)\n",
    "    df = df.sort_values(test_case_col)\n",
    "\n",
    "        # Plot the main line (pitch)\n",
    "    if comment_value == 'na=2, nb=3, nd=-5':\n",
    "        line_style = dict(color=color_map[comment_value], dash='6,10')  # Custom dashed line\n",
    "    else:\n",
    "        line_style = dict(color=color_map[comment_value])\n",
    "\n",
    "    fig.add_trace(\n",
    "        go.Scatter(\n",
    "            x=df[test_case_col],\n",
    "            y=df['r2_test_pitch'],\n",
    "            mode='lines+markers',\n",
    "            name=comment_value,\n",
    "            legendgroup=comment_value,\n",
    "            line=line_style\n",
    "        ),\n",
    "        row=1, col=1\n",
    "    )\n",
    "\n",
    "    # Now plot the train/val points from df_summary_pitch\n",
    "    summary_row = df_summary_pitch[(df_summary_pitch['na'] == int(na_val)) & \n",
    "                                      (df_summary_pitch['nb'] == int(nb_val)) &\n",
    "                                      (df_summary_pitch['nd'] == -int(nf_val))]\n",
    "\n",
    "    if not summary_row.empty:\n",
    "        r2_train = summary_row['r2_train'].values[0]\n",
    "        r2_val = summary_row['r2_val'].values[0]\n",
    "\n",
    "        fig.add_trace(\n",
    "            go.Scatter(\n",
    "                x=[comment_value],\n",
    "                y=[r2_train],\n",
    "                mode='markers',\n",
    "                marker=dict(symbol='x', size=8, color=color_map[comment_value]),  # Use the assigned color\n",
    "                name=f'{comment_value} Train',\n",
    "                legendgroup=comment_value,\n",
    "                showlegend=False\n",
    "            ),\n",
    "            row=1, col=2\n",
    "        )\n",
    "\n",
    "        fig.add_trace(\n",
    "            go.Scatter(\n",
    "                x=[comment_value],\n",
    "                y=[r2_val],\n",
    "                mode='markers',\n",
    "                marker=dict(symbol='square', size=8, color=color_map[comment_value]),  # Use the assigned color\n",
    "                name=f'{comment_value} Val',\n",
    "                legendgroup=comment_value,\n",
    "                showlegend=False\n",
    "            ),\n",
    "            row=1, col=2\n",
    "        )\n",
    "# Add legend-only markers to clarify symbol meaning\n",
    "fig.add_trace(\n",
    "    go.Scatter(\n",
    "        x=[None], y=[None],\n",
    "        mode='markers',\n",
    "        marker=dict(symbol='x', size=7, color='grey'),\n",
    "        name=' Train R²',\n",
    "        showlegend=True\n",
    "    ),\n",
    "    row=1, col=2\n",
    ")\n",
    "\n",
    "fig.add_trace(\n",
    "    go.Scatter(\n",
    "        x=[None], y=[None],\n",
    "        mode='markers',\n",
    "        marker=dict(symbol='square', size=7, color='grey'),\n",
    "        name='Validation R²',\n",
    "        showlegend=True\n",
    "    ),\n",
    "    row=1, col=2\n",
    ")\n",
    "\n",
    "# Final layout adjustments\n",
    "fig.update_layout(\n",
    "    title=\"Test R² Scores for Pitch Prediction Across Sea Conditions and Lags Combinations - ARX Pitch Model\",\n",
    "    xaxis_title=\"Test Case\",\n",
    "    xaxis2_title=\"Model Combination\",\n",
    "    yaxis_title=\"R² Score\",\n",
    "    template=\"plotly_white\",\n",
    "    height=600,\n",
    "    width=1200,\n",
    "    legend_title=\"na + nb + nd combination\",\n",
    "    xaxis=dict(\n",
    "        categoryorder='array',\n",
    "        categoryarray=pretty_custom_order\n",
    "    ),\n",
    "    # Adjust the zoom to fit the second plot\n",
    "    yaxis2=dict(\n",
    "        title=\"Train/Validation R² Score\",\n",
    "        range=[0, 1],  # You can adjust the range based on the data\n",
    "        showgrid=True\n",
    "    )\n",
    ")\n",
    "\n",
    "fig.show()\n"
   ]
  },
  {
   "cell_type": "code",
   "execution_count": 229,
   "id": "dd0f0906",
   "metadata": {},
   "outputs": [
    {
     "name": "stdout",
     "output_type": "stream",
     "text": [
      "   nd  nb  na  r2_train  r2_val\n",
      "0  -2   2   2    0.9064  0.8908\n",
      "1  -2   3   2    0.9231  0.8907\n",
      "2  -2   4   2    0.9435  0.8893\n",
      "3  -5   2   2    0.9185  0.8800\n",
      "4  -5   3   2    0.9185  0.8800\n",
      "5  -7   2   2    0.9689  0.9435\n",
      "6  -7   3   2    0.9689  0.9435\n"
     ]
    }
   ],
   "source": [
    "# Define the data manually as a list of dictionaries\n",
    "data_pendulum = [\n",
    "    {'nd': -2, 'nb': 2, 'na': 2, 'r2_train': 0.9064, 'r2_val': 0.8908},\n",
    "    {'nd': -2, 'nb': 3, 'na': 2, 'r2_train': 0.9231, 'r2_val': 0.8907},\n",
    "    {'nd': -2, 'nb': 4, 'na': 2, 'r2_train': 0.9435, 'r2_val': 0.8893},\n",
    "    \n",
    "    {'nd': -5, 'nb': 2, 'na': 2, 'r2_train': 0.9185, 'r2_val': 0.8800},\n",
    "    {'nd': -5, 'nb': 3, 'na': 2, 'r2_train': 0.9185, 'r2_val': 0.8800},\n",
    "    \n",
    "    {'nd': -7, 'nb': 2, 'na': 2, 'r2_train': 0.9689, 'r2_val': 0.9435},\n",
    "    {'nd': -7, 'nb': 3, 'na': 2, 'r2_train': 0.9689, 'r2_val': 0.9435}\n",
    " \n",
    "]\n",
    "\n",
    "# Create a DataFrame\n",
    "df_summary_pendulum = pd.DataFrame(data_pendulum)\n",
    "\n",
    "# Display it\n",
    "print(df_summary_pendulum)\n",
    "\n"
   ]
  },
  {
   "cell_type": "code",
   "execution_count": 231,
   "id": "35f8287a",
   "metadata": {},
   "outputs": [
    {
     "data": {
      "application/vnd.plotly.v1+json": {
       "config": {
        "plotlyServerURL": "https://plot.ly"
       },
       "data": [
        {
         "legendgroup": "na=2, nb=2, nd=-2",
         "line": {
          "color": "#636EFA"
         },
         "mode": "lines+markers",
         "name": "na=2, nb=2, nd=-2",
         "type": "scatter",
         "x": [
          "Tp = 4.5 s, Hs = 1 m",
          "Tp = 4.5 s, Hs = 2 m",
          "Tp = 6.8 s, Hs = 1 m",
          "Tp = 6.8 s, Hs = 2 m",
          "Tp = 6.8 s, Hs = 4 m",
          "Tp = 6.8 s, Hs = 6 m",
          "Tp = 6.8 s, Hs = 8 m",
          "Tp = 10.2 s, Hs = 1 m",
          "Tp = 10.2 s, Hs = 2 m",
          "Tp = 10.2 s, Hs = 4 m"
         ],
         "xaxis": "x",
         "y": [
          -3.197304276174152,
          -3.2295620482613465,
          0.8902370728500305,
          0.8891285712049753,
          0.8821352694628178,
          0.8682599125042116,
          0.8041256144864629,
          0.7456870999197702,
          0.7475219826312828,
          0.7414781314636172
         ],
         "yaxis": "y"
        },
        {
         "legendgroup": "na=2, nb=2, nd=-2",
         "marker": {
          "color": "#636EFA",
          "size": 8,
          "symbol": "x"
         },
         "mode": "markers",
         "name": "na=2, nb=2, nd=-2 Train",
         "showlegend": false,
         "type": "scatter",
         "x": [
          "na=2, nb=2, nd=-2"
         ],
         "xaxis": "x2",
         "y": [
          0.9064
         ],
         "yaxis": "y2"
        },
        {
         "legendgroup": "na=2, nb=2, nd=-2",
         "marker": {
          "color": "#636EFA",
          "size": 8,
          "symbol": "square"
         },
         "mode": "markers",
         "name": "na=2, nb=2, nd=-2 Val",
         "showlegend": false,
         "type": "scatter",
         "x": [
          "na=2, nb=2, nd=-2"
         ],
         "xaxis": "x2",
         "y": [
          0.8908
         ],
         "yaxis": "y2"
        },
        {
         "legendgroup": "na=2, nb=2, nd=-7",
         "line": {
          "color": "#EF553B"
         },
         "mode": "lines+markers",
         "name": "na=2, nb=2, nd=-7",
         "type": "scatter",
         "x": [
          "Tp = 4.5 s, Hs = 1 m",
          "Tp = 4.5 s, Hs = 2 m",
          "Tp = 6.8 s, Hs = 1 m",
          "Tp = 6.8 s, Hs = 2 m",
          "Tp = 6.8 s, Hs = 4 m",
          "Tp = 6.8 s, Hs = 6 m",
          "Tp = 6.8 s, Hs = 8 m",
          "Tp = 10.2 s, Hs = 1 m",
          "Tp = 10.2 s, Hs = 2 m",
          "Tp = 10.2 s, Hs = 4 m"
         ],
         "xaxis": "x",
         "y": [
          -7.795583842897596,
          -3.06423840280148,
          0.3611233888546263,
          0.6390541684284519,
          0.7208030458917327,
          0.7773363188538327,
          0.8337659629324115,
          -0.6379789569730996,
          0.344357834128375,
          0.5870759041505678
         ],
         "yaxis": "y"
        },
        {
         "legendgroup": "na=2, nb=2, nd=-7",
         "marker": {
          "color": "#EF553B",
          "size": 8,
          "symbol": "x"
         },
         "mode": "markers",
         "name": "na=2, nb=2, nd=-7 Train",
         "showlegend": false,
         "type": "scatter",
         "x": [
          "na=2, nb=2, nd=-7"
         ],
         "xaxis": "x2",
         "y": [
          0.9689
         ],
         "yaxis": "y2"
        },
        {
         "legendgroup": "na=2, nb=2, nd=-7",
         "marker": {
          "color": "#EF553B",
          "size": 8,
          "symbol": "square"
         },
         "mode": "markers",
         "name": "na=2, nb=2, nd=-7 Val",
         "showlegend": false,
         "type": "scatter",
         "x": [
          "na=2, nb=2, nd=-7"
         ],
         "xaxis": "x2",
         "y": [
          0.9435
         ],
         "yaxis": "y2"
        },
        {
         "legendgroup": "na=2, nb=3, nd=-2",
         "line": {
          "color": "#00CC96"
         },
         "mode": "lines+markers",
         "name": "na=2, nb=3, nd=-2",
         "type": "scatter",
         "x": [
          "Tp = 4.5 s, Hs = 1 m",
          "Tp = 4.5 s, Hs = 2 m",
          "Tp = 6.8 s, Hs = 1 m",
          "Tp = 6.8 s, Hs = 2 m",
          "Tp = 6.8 s, Hs = 4 m",
          "Tp = 6.8 s, Hs = 6 m",
          "Tp = 6.8 s, Hs = 8 m",
          "Tp = 10.2 s, Hs = 1 m",
          "Tp = 10.2 s, Hs = 2 m",
          "Tp = 10.2 s, Hs = 4 m"
         ],
         "xaxis": "x",
         "y": [
          -2.511670790284587,
          -2.540640730802475,
          0.9099525198130932,
          0.9091079069987116,
          0.9025628154782944,
          0.8879375382939756,
          0.819458935623362,
          0.848571526974937,
          0.8511699176665279,
          0.8471723092098299
         ],
         "yaxis": "y"
        },
        {
         "legendgroup": "na=2, nb=3, nd=-2",
         "marker": {
          "color": "#00CC96",
          "size": 8,
          "symbol": "x"
         },
         "mode": "markers",
         "name": "na=2, nb=3, nd=-2 Train",
         "showlegend": false,
         "type": "scatter",
         "x": [
          "na=2, nb=3, nd=-2"
         ],
         "xaxis": "x2",
         "y": [
          0.9231
         ],
         "yaxis": "y2"
        },
        {
         "legendgroup": "na=2, nb=3, nd=-2",
         "marker": {
          "color": "#00CC96",
          "size": 8,
          "symbol": "square"
         },
         "mode": "markers",
         "name": "na=2, nb=3, nd=-2 Val",
         "showlegend": false,
         "type": "scatter",
         "x": [
          "na=2, nb=3, nd=-2"
         ],
         "xaxis": "x2",
         "y": [
          0.8907
         ],
         "yaxis": "y2"
        },
        {
         "legendgroup": "na=2, nb=4, nd=-2",
         "line": {
          "color": "#AB63FA"
         },
         "mode": "lines+markers",
         "name": "na=2, nb=4, nd=-2",
         "type": "scatter",
         "x": [
          "Tp = 4.5 s, Hs = 1 m",
          "Tp = 4.5 s, Hs = 2 m",
          "Tp = 6.8 s, Hs = 1 m",
          "Tp = 6.8 s, Hs = 2 m",
          "Tp = 6.8 s, Hs = 4 m",
          "Tp = 6.8 s, Hs = 6 m",
          "Tp = 6.8 s, Hs = 8 m",
          "Tp = 10.2 s, Hs = 1 m",
          "Tp = 10.2 s, Hs = 2 m",
          "Tp = 10.2 s, Hs = 4 m"
         ],
         "xaxis": "x",
         "y": [
          -1.5113844100808502,
          -1.5308357692442982,
          0.9345578798841286,
          0.9341363297047612,
          0.9287596181478952,
          0.913862200635466,
          0.8391363733271221,
          0.9568478418943376,
          0.9602189734431904,
          0.9589722830383128
         ],
         "yaxis": "y"
        },
        {
         "legendgroup": "na=2, nb=4, nd=-2",
         "marker": {
          "color": "#AB63FA",
          "size": 8,
          "symbol": "x"
         },
         "mode": "markers",
         "name": "na=2, nb=4, nd=-2 Train",
         "showlegend": false,
         "type": "scatter",
         "x": [
          "na=2, nb=4, nd=-2"
         ],
         "xaxis": "x2",
         "y": [
          0.9435
         ],
         "yaxis": "y2"
        },
        {
         "legendgroup": "na=2, nb=4, nd=-2",
         "marker": {
          "color": "#AB63FA",
          "size": 8,
          "symbol": "square"
         },
         "mode": "markers",
         "name": "na=2, nb=4, nd=-2 Val",
         "showlegend": false,
         "type": "scatter",
         "x": [
          "na=2, nb=4, nd=-2"
         ],
         "xaxis": "x2",
         "y": [
          0.8893
         ],
         "yaxis": "y2"
        },
        {
         "marker": {
          "color": "grey",
          "size": 7,
          "symbol": "x"
         },
         "mode": "markers",
         "name": " Train R²",
         "showlegend": true,
         "type": "scatter",
         "x": [
          null
         ],
         "xaxis": "x2",
         "y": [
          null
         ],
         "yaxis": "y2"
        },
        {
         "marker": {
          "color": "grey",
          "size": 7,
          "symbol": "square"
         },
         "mode": "markers",
         "name": "Validation R²",
         "showlegend": true,
         "type": "scatter",
         "x": [
          null
         ],
         "xaxis": "x2",
         "y": [
          null
         ],
         "yaxis": "y2"
        }
       ],
       "layout": {
        "annotations": [
         {
          "font": {
           "size": 16
          },
          "showarrow": false,
          "text": "Test Cases R²",
          "x": 0.3375,
          "xanchor": "center",
          "xref": "paper",
          "y": 1,
          "yanchor": "bottom",
          "yref": "paper"
         },
         {
          "font": {
           "size": 16
          },
          "showarrow": false,
          "text": "Train/Validation R² Scores",
          "x": 0.8875,
          "xanchor": "center",
          "xref": "paper",
          "y": 1,
          "yanchor": "bottom",
          "yref": "paper"
         }
        ],
        "height": 600,
        "legend": {
         "title": {
          "text": "na + nb + nd combination"
         }
        },
        "template": {
         "data": {
          "bar": [
           {
            "error_x": {
             "color": "#2a3f5f"
            },
            "error_y": {
             "color": "#2a3f5f"
            },
            "marker": {
             "line": {
              "color": "white",
              "width": 0.5
             },
             "pattern": {
              "fillmode": "overlay",
              "size": 10,
              "solidity": 0.2
             }
            },
            "type": "bar"
           }
          ],
          "barpolar": [
           {
            "marker": {
             "line": {
              "color": "white",
              "width": 0.5
             },
             "pattern": {
              "fillmode": "overlay",
              "size": 10,
              "solidity": 0.2
             }
            },
            "type": "barpolar"
           }
          ],
          "carpet": [
           {
            "aaxis": {
             "endlinecolor": "#2a3f5f",
             "gridcolor": "#C8D4E3",
             "linecolor": "#C8D4E3",
             "minorgridcolor": "#C8D4E3",
             "startlinecolor": "#2a3f5f"
            },
            "baxis": {
             "endlinecolor": "#2a3f5f",
             "gridcolor": "#C8D4E3",
             "linecolor": "#C8D4E3",
             "minorgridcolor": "#C8D4E3",
             "startlinecolor": "#2a3f5f"
            },
            "type": "carpet"
           }
          ],
          "choropleth": [
           {
            "colorbar": {
             "outlinewidth": 0,
             "ticks": ""
            },
            "type": "choropleth"
           }
          ],
          "contour": [
           {
            "colorbar": {
             "outlinewidth": 0,
             "ticks": ""
            },
            "colorscale": [
             [
              0,
              "#0d0887"
             ],
             [
              0.1111111111111111,
              "#46039f"
             ],
             [
              0.2222222222222222,
              "#7201a8"
             ],
             [
              0.3333333333333333,
              "#9c179e"
             ],
             [
              0.4444444444444444,
              "#bd3786"
             ],
             [
              0.5555555555555556,
              "#d8576b"
             ],
             [
              0.6666666666666666,
              "#ed7953"
             ],
             [
              0.7777777777777778,
              "#fb9f3a"
             ],
             [
              0.8888888888888888,
              "#fdca26"
             ],
             [
              1,
              "#f0f921"
             ]
            ],
            "type": "contour"
           }
          ],
          "contourcarpet": [
           {
            "colorbar": {
             "outlinewidth": 0,
             "ticks": ""
            },
            "type": "contourcarpet"
           }
          ],
          "heatmap": [
           {
            "colorbar": {
             "outlinewidth": 0,
             "ticks": ""
            },
            "colorscale": [
             [
              0,
              "#0d0887"
             ],
             [
              0.1111111111111111,
              "#46039f"
             ],
             [
              0.2222222222222222,
              "#7201a8"
             ],
             [
              0.3333333333333333,
              "#9c179e"
             ],
             [
              0.4444444444444444,
              "#bd3786"
             ],
             [
              0.5555555555555556,
              "#d8576b"
             ],
             [
              0.6666666666666666,
              "#ed7953"
             ],
             [
              0.7777777777777778,
              "#fb9f3a"
             ],
             [
              0.8888888888888888,
              "#fdca26"
             ],
             [
              1,
              "#f0f921"
             ]
            ],
            "type": "heatmap"
           }
          ],
          "heatmapgl": [
           {
            "colorbar": {
             "outlinewidth": 0,
             "ticks": ""
            },
            "colorscale": [
             [
              0,
              "#0d0887"
             ],
             [
              0.1111111111111111,
              "#46039f"
             ],
             [
              0.2222222222222222,
              "#7201a8"
             ],
             [
              0.3333333333333333,
              "#9c179e"
             ],
             [
              0.4444444444444444,
              "#bd3786"
             ],
             [
              0.5555555555555556,
              "#d8576b"
             ],
             [
              0.6666666666666666,
              "#ed7953"
             ],
             [
              0.7777777777777778,
              "#fb9f3a"
             ],
             [
              0.8888888888888888,
              "#fdca26"
             ],
             [
              1,
              "#f0f921"
             ]
            ],
            "type": "heatmapgl"
           }
          ],
          "histogram": [
           {
            "marker": {
             "pattern": {
              "fillmode": "overlay",
              "size": 10,
              "solidity": 0.2
             }
            },
            "type": "histogram"
           }
          ],
          "histogram2d": [
           {
            "colorbar": {
             "outlinewidth": 0,
             "ticks": ""
            },
            "colorscale": [
             [
              0,
              "#0d0887"
             ],
             [
              0.1111111111111111,
              "#46039f"
             ],
             [
              0.2222222222222222,
              "#7201a8"
             ],
             [
              0.3333333333333333,
              "#9c179e"
             ],
             [
              0.4444444444444444,
              "#bd3786"
             ],
             [
              0.5555555555555556,
              "#d8576b"
             ],
             [
              0.6666666666666666,
              "#ed7953"
             ],
             [
              0.7777777777777778,
              "#fb9f3a"
             ],
             [
              0.8888888888888888,
              "#fdca26"
             ],
             [
              1,
              "#f0f921"
             ]
            ],
            "type": "histogram2d"
           }
          ],
          "histogram2dcontour": [
           {
            "colorbar": {
             "outlinewidth": 0,
             "ticks": ""
            },
            "colorscale": [
             [
              0,
              "#0d0887"
             ],
             [
              0.1111111111111111,
              "#46039f"
             ],
             [
              0.2222222222222222,
              "#7201a8"
             ],
             [
              0.3333333333333333,
              "#9c179e"
             ],
             [
              0.4444444444444444,
              "#bd3786"
             ],
             [
              0.5555555555555556,
              "#d8576b"
             ],
             [
              0.6666666666666666,
              "#ed7953"
             ],
             [
              0.7777777777777778,
              "#fb9f3a"
             ],
             [
              0.8888888888888888,
              "#fdca26"
             ],
             [
              1,
              "#f0f921"
             ]
            ],
            "type": "histogram2dcontour"
           }
          ],
          "mesh3d": [
           {
            "colorbar": {
             "outlinewidth": 0,
             "ticks": ""
            },
            "type": "mesh3d"
           }
          ],
          "parcoords": [
           {
            "line": {
             "colorbar": {
              "outlinewidth": 0,
              "ticks": ""
             }
            },
            "type": "parcoords"
           }
          ],
          "pie": [
           {
            "automargin": true,
            "type": "pie"
           }
          ],
          "scatter": [
           {
            "fillpattern": {
             "fillmode": "overlay",
             "size": 10,
             "solidity": 0.2
            },
            "type": "scatter"
           }
          ],
          "scatter3d": [
           {
            "line": {
             "colorbar": {
              "outlinewidth": 0,
              "ticks": ""
             }
            },
            "marker": {
             "colorbar": {
              "outlinewidth": 0,
              "ticks": ""
             }
            },
            "type": "scatter3d"
           }
          ],
          "scattercarpet": [
           {
            "marker": {
             "colorbar": {
              "outlinewidth": 0,
              "ticks": ""
             }
            },
            "type": "scattercarpet"
           }
          ],
          "scattergeo": [
           {
            "marker": {
             "colorbar": {
              "outlinewidth": 0,
              "ticks": ""
             }
            },
            "type": "scattergeo"
           }
          ],
          "scattergl": [
           {
            "marker": {
             "colorbar": {
              "outlinewidth": 0,
              "ticks": ""
             }
            },
            "type": "scattergl"
           }
          ],
          "scattermapbox": [
           {
            "marker": {
             "colorbar": {
              "outlinewidth": 0,
              "ticks": ""
             }
            },
            "type": "scattermapbox"
           }
          ],
          "scatterpolar": [
           {
            "marker": {
             "colorbar": {
              "outlinewidth": 0,
              "ticks": ""
             }
            },
            "type": "scatterpolar"
           }
          ],
          "scatterpolargl": [
           {
            "marker": {
             "colorbar": {
              "outlinewidth": 0,
              "ticks": ""
             }
            },
            "type": "scatterpolargl"
           }
          ],
          "scatterternary": [
           {
            "marker": {
             "colorbar": {
              "outlinewidth": 0,
              "ticks": ""
             }
            },
            "type": "scatterternary"
           }
          ],
          "surface": [
           {
            "colorbar": {
             "outlinewidth": 0,
             "ticks": ""
            },
            "colorscale": [
             [
              0,
              "#0d0887"
             ],
             [
              0.1111111111111111,
              "#46039f"
             ],
             [
              0.2222222222222222,
              "#7201a8"
             ],
             [
              0.3333333333333333,
              "#9c179e"
             ],
             [
              0.4444444444444444,
              "#bd3786"
             ],
             [
              0.5555555555555556,
              "#d8576b"
             ],
             [
              0.6666666666666666,
              "#ed7953"
             ],
             [
              0.7777777777777778,
              "#fb9f3a"
             ],
             [
              0.8888888888888888,
              "#fdca26"
             ],
             [
              1,
              "#f0f921"
             ]
            ],
            "type": "surface"
           }
          ],
          "table": [
           {
            "cells": {
             "fill": {
              "color": "#EBF0F8"
             },
             "line": {
              "color": "white"
             }
            },
            "header": {
             "fill": {
              "color": "#C8D4E3"
             },
             "line": {
              "color": "white"
             }
            },
            "type": "table"
           }
          ]
         },
         "layout": {
          "annotationdefaults": {
           "arrowcolor": "#2a3f5f",
           "arrowhead": 0,
           "arrowwidth": 1
          },
          "autotypenumbers": "strict",
          "coloraxis": {
           "colorbar": {
            "outlinewidth": 0,
            "ticks": ""
           }
          },
          "colorscale": {
           "diverging": [
            [
             0,
             "#8e0152"
            ],
            [
             0.1,
             "#c51b7d"
            ],
            [
             0.2,
             "#de77ae"
            ],
            [
             0.3,
             "#f1b6da"
            ],
            [
             0.4,
             "#fde0ef"
            ],
            [
             0.5,
             "#f7f7f7"
            ],
            [
             0.6,
             "#e6f5d0"
            ],
            [
             0.7,
             "#b8e186"
            ],
            [
             0.8,
             "#7fbc41"
            ],
            [
             0.9,
             "#4d9221"
            ],
            [
             1,
             "#276419"
            ]
           ],
           "sequential": [
            [
             0,
             "#0d0887"
            ],
            [
             0.1111111111111111,
             "#46039f"
            ],
            [
             0.2222222222222222,
             "#7201a8"
            ],
            [
             0.3333333333333333,
             "#9c179e"
            ],
            [
             0.4444444444444444,
             "#bd3786"
            ],
            [
             0.5555555555555556,
             "#d8576b"
            ],
            [
             0.6666666666666666,
             "#ed7953"
            ],
            [
             0.7777777777777778,
             "#fb9f3a"
            ],
            [
             0.8888888888888888,
             "#fdca26"
            ],
            [
             1,
             "#f0f921"
            ]
           ],
           "sequentialminus": [
            [
             0,
             "#0d0887"
            ],
            [
             0.1111111111111111,
             "#46039f"
            ],
            [
             0.2222222222222222,
             "#7201a8"
            ],
            [
             0.3333333333333333,
             "#9c179e"
            ],
            [
             0.4444444444444444,
             "#bd3786"
            ],
            [
             0.5555555555555556,
             "#d8576b"
            ],
            [
             0.6666666666666666,
             "#ed7953"
            ],
            [
             0.7777777777777778,
             "#fb9f3a"
            ],
            [
             0.8888888888888888,
             "#fdca26"
            ],
            [
             1,
             "#f0f921"
            ]
           ]
          },
          "colorway": [
           "#636efa",
           "#EF553B",
           "#00cc96",
           "#ab63fa",
           "#FFA15A",
           "#19d3f3",
           "#FF6692",
           "#B6E880",
           "#FF97FF",
           "#FECB52"
          ],
          "font": {
           "color": "#2a3f5f"
          },
          "geo": {
           "bgcolor": "white",
           "lakecolor": "white",
           "landcolor": "white",
           "showlakes": true,
           "showland": true,
           "subunitcolor": "#C8D4E3"
          },
          "hoverlabel": {
           "align": "left"
          },
          "hovermode": "closest",
          "mapbox": {
           "style": "light"
          },
          "paper_bgcolor": "white",
          "plot_bgcolor": "white",
          "polar": {
           "angularaxis": {
            "gridcolor": "#EBF0F8",
            "linecolor": "#EBF0F8",
            "ticks": ""
           },
           "bgcolor": "white",
           "radialaxis": {
            "gridcolor": "#EBF0F8",
            "linecolor": "#EBF0F8",
            "ticks": ""
           }
          },
          "scene": {
           "xaxis": {
            "backgroundcolor": "white",
            "gridcolor": "#DFE8F3",
            "gridwidth": 2,
            "linecolor": "#EBF0F8",
            "showbackground": true,
            "ticks": "",
            "zerolinecolor": "#EBF0F8"
           },
           "yaxis": {
            "backgroundcolor": "white",
            "gridcolor": "#DFE8F3",
            "gridwidth": 2,
            "linecolor": "#EBF0F8",
            "showbackground": true,
            "ticks": "",
            "zerolinecolor": "#EBF0F8"
           },
           "zaxis": {
            "backgroundcolor": "white",
            "gridcolor": "#DFE8F3",
            "gridwidth": 2,
            "linecolor": "#EBF0F8",
            "showbackground": true,
            "ticks": "",
            "zerolinecolor": "#EBF0F8"
           }
          },
          "shapedefaults": {
           "line": {
            "color": "#2a3f5f"
           }
          },
          "ternary": {
           "aaxis": {
            "gridcolor": "#DFE8F3",
            "linecolor": "#A2B1C6",
            "ticks": ""
           },
           "baxis": {
            "gridcolor": "#DFE8F3",
            "linecolor": "#A2B1C6",
            "ticks": ""
           },
           "bgcolor": "white",
           "caxis": {
            "gridcolor": "#DFE8F3",
            "linecolor": "#A2B1C6",
            "ticks": ""
           }
          },
          "title": {
           "x": 0.05
          },
          "xaxis": {
           "automargin": true,
           "gridcolor": "#EBF0F8",
           "linecolor": "#EBF0F8",
           "ticks": "",
           "title": {
            "standoff": 15
           },
           "zerolinecolor": "#EBF0F8",
           "zerolinewidth": 2
          },
          "yaxis": {
           "automargin": true,
           "gridcolor": "#EBF0F8",
           "linecolor": "#EBF0F8",
           "ticks": "",
           "title": {
            "standoff": 15
           },
           "zerolinecolor": "#EBF0F8",
           "zerolinewidth": 2
          }
         }
        },
        "title": {
         "text": "Test R² Scores for Pendulum Prediction Across Sea Conditions and Lags Combinations - ARX Pendulum Model"
        },
        "width": 1200,
        "xaxis": {
         "anchor": "y",
         "categoryarray": [
          "Tp = 4.5 s, Hs = 1 m",
          "Tp = 4.5 s, Hs = 2 m",
          "Tp = 6.8 s, Hs = 1 m",
          "Tp = 6.8 s, Hs = 2 m",
          "Tp = 6.8 s, Hs = 4 m",
          "Tp = 6.8 s, Hs = 6 m",
          "Tp = 6.8 s, Hs = 8 m",
          "Tp = 10.2 s, Hs = 1 m",
          "Tp = 10.2 s, Hs = 2 m",
          "Tp = 10.2 s, Hs = 4 m"
         ],
         "categoryorder": "array",
         "domain": [
          0,
          0.675
         ],
         "title": {
          "text": "Test Case"
         }
        },
        "xaxis2": {
         "anchor": "y2",
         "domain": [
          0.775,
          1
         ],
         "title": {
          "text": "Model Combination"
         }
        },
        "yaxis": {
         "anchor": "x",
         "domain": [
          0,
          1
         ],
         "range": [
          0,
          1
         ],
         "showgrid": true,
         "title": {
          "text": "R² Score"
         }
        },
        "yaxis2": {
         "anchor": "x2",
         "domain": [
          0,
          1
         ],
         "showgrid": true,
         "title": {
          "text": "Train/Validation R² Score"
         }
        }
       }
      }
     },
     "metadata": {},
     "output_type": "display_data"
    }
   ],
   "source": [
    "# Group the pitch dataframes correctly\n",
    "pendulum_dfs = {k: v for k, v in dfs.items() if k.startswith('metrics_df_test_pendulum')}\n",
    "\n",
    "# Define your custom x-axis order\n",
    "custom_order = [\n",
    "    'T4p5s_Hs1m', \n",
    "    'T4p5s_Hs2m', \n",
    "    'Tp6p8s_Hs1m',\n",
    "    'Tp6p8s_Hs2m',\n",
    "    'Tp6p8s_Hs4m',\n",
    "    'Tp6p8s_Hs6m',\n",
    "    'Tp6p8s_Hs8m',\n",
    "    'T10p2s_Hs1m',\n",
    "    'Tp10p2_Hs2m',\n",
    "    'T10p2s_Hs4m'\n",
    "]\n",
    "pretty_custom_order = [test_case_pretty_map.get(tc, tc) for tc in custom_order]\n",
    "\n",
    "# Create color map to maintain consistent color for each `comment_value`\n",
    "color_map = {}\n",
    "\n",
    "# Create two subplots with independent y-axes\n",
    "fig = make_subplots(\n",
    "    rows=1, cols=2,\n",
    "    column_widths=[0.75, 0.25],\n",
    "    subplot_titles=(\"Test Cases R²\", \"Train/Validation R² Scores\"),\n",
    "    shared_yaxes=False  # Disable shared y-axes\n",
    ")\n",
    "\n",
    "for df_name, original_df in pendulum_dfs.items():\n",
    "    df = original_df.copy()\n",
    "    # Extract na, nb, nf from df_name\n",
    "    match = re.search(r'na(\\d+)_nb(\\d+)_nf(\\d+)', df_name)\n",
    "    if match:\n",
    "        na_val, nb_val, nf_val = match.groups()\n",
    "        comment_value = f'na={na_val}, nb={nb_val}, nd=-{nf_val}'\n",
    "    else:\n",
    "        comment_value = df_name\n",
    "\n",
    "    # Assign color to each unique comment_value if not already assigned\n",
    "    if comment_value not in color_map:\n",
    "        color_map[comment_value] = px.colors.qualitative.Plotly[len(color_map) % len(px.colors.qualitative.Plotly)]\n",
    "\n",
    "    # Find the correct test case column\n",
    "    if 'test case' in df.columns:\n",
    "        test_case_col = 'test case'\n",
    "    elif 'test_case' in df.columns:\n",
    "        test_case_col = 'test_case'\n",
    "    else:\n",
    "        raise ValueError(f\"No valid 'test_case' column found in {df_name}\")\n",
    "    \n",
    "    # Sort based on custom order\n",
    "    df[test_case_col] = pd.Categorical(df[test_case_col], categories=custom_order, ordered=True)\n",
    "    df[test_case_col] = df[test_case_col].map(test_case_pretty_map).astype('category')\n",
    "    df[test_case_col] = pd.Categorical(df[test_case_col], categories=pretty_custom_order, ordered=True)\n",
    "    df = df.sort_values(test_case_col)\n",
    "\n",
    "       # Plot the main line (pitch)\n",
    "    if comment_value == 'na=2, nb=3, nd=-7':\n",
    "        line_style = dict(color=color_map[comment_value], dash='6,10')  # Custom dashed line\n",
    "    else:\n",
    "        line_style = dict(color=color_map[comment_value])\n",
    "\n",
    "    fig.add_trace(\n",
    "        go.Scatter(\n",
    "            x=df[test_case_col],\n",
    "            y=df['r2_test_pendulum'],\n",
    "            mode='lines+markers',\n",
    "            name=comment_value,\n",
    "            legendgroup=comment_value,\n",
    "            line=line_style\n",
    "        ),\n",
    "        row=1, col=1\n",
    "    )\n",
    "\n",
    "    # Now plot the train/val points from df_summary_pitch\n",
    "    summary_row = df_summary_pendulum[(df_summary_pendulum['na'] == int(na_val)) & \n",
    "                                      (df_summary_pendulum['nb'] == int(nb_val)) &\n",
    "                                      (df_summary_pendulum['nd'] == -int(nf_val))]\n",
    "\n",
    "    if not summary_row.empty:\n",
    "        r2_train = summary_row['r2_train'].values[0]\n",
    "        r2_val = summary_row['r2_val'].values[0]\n",
    "\n",
    "        fig.add_trace(\n",
    "            go.Scatter(\n",
    "                x=[comment_value],\n",
    "                y=[r2_train],\n",
    "                mode='markers',\n",
    "                marker=dict(symbol='x', size=8, color=color_map[comment_value]),  # Use the assigned color\n",
    "                name=f'{comment_value} Train',\n",
    "                legendgroup=comment_value,\n",
    "                showlegend=False\n",
    "            ),\n",
    "            row=1, col=2\n",
    "        )\n",
    "\n",
    "        fig.add_trace(\n",
    "            go.Scatter(\n",
    "                x=[comment_value],\n",
    "                y=[r2_val],\n",
    "                mode='markers',\n",
    "                marker=dict(symbol='square', size=8, color=color_map[comment_value]),  # Use the assigned color\n",
    "                name=f'{comment_value} Val',\n",
    "                legendgroup=comment_value,\n",
    "                showlegend=False\n",
    "            ),\n",
    "            row=1, col=2\n",
    "        )\n",
    "\n",
    "# Add legend-only markers to clarify symbol meaning\n",
    "fig.add_trace(\n",
    "    go.Scatter(\n",
    "        x=[None], y=[None],\n",
    "        mode='markers',\n",
    "        marker=dict(symbol='x', size=7, color='grey'),\n",
    "        name=' Train R²',\n",
    "        showlegend=True\n",
    "    ),\n",
    "    row=1, col=2\n",
    ")\n",
    "\n",
    "fig.add_trace(\n",
    "    go.Scatter(\n",
    "        x=[None], y=[None],\n",
    "        mode='markers',\n",
    "        marker=dict(symbol='square', size=7, color='grey'),\n",
    "        name='Validation R²',\n",
    "        showlegend=True\n",
    "    ),\n",
    "    row=1, col=2\n",
    ")\n",
    "\n",
    "# Final layout adjustments\n",
    "fig.update_layout(\n",
    "    title=\"Test R² Scores for Pendulum Prediction Across Sea Conditions and Lags Combinations - ARX Pendulum Model\",\n",
    "    xaxis_title=\"Test Case\",\n",
    "    xaxis2_title=\"Model Combination\",\n",
    "    yaxis_title=\"R² Score\",\n",
    "    template=\"plotly_white\",\n",
    "    height=600,\n",
    "    width=1200,\n",
    "    legend_title=\"na + nb + nd combination\",\n",
    "    xaxis=dict(\n",
    "        categoryorder='array',\n",
    "        categoryarray=pretty_custom_order\n",
    "    ),\n",
    "    # Adjust the zoom to fit the second plot\n",
    "    yaxis2=dict(\n",
    "        title=\"Train/Validation R² Score\",\n",
    "        \n",
    "        showgrid=True,\n",
    "   \n",
    "       \n",
    "    )\n",
    "    ,\n",
    "      yaxis1=dict(\n",
    "      \n",
    "        \n",
    "        showgrid=True,\n",
    "   \n",
    "        range=[0, 1]  # You can adjust the range based on the data\n",
    "      \n",
    "    )\n",
    ")\n",
    "\n",
    "fig.show()\n"
   ]
  },
  {
   "cell_type": "markdown",
   "id": "f22d267d",
   "metadata": {},
   "source": [
    "# XGBoost-NARX - 1 Model for all Dofs"
   ]
  },
  {
   "cell_type": "code",
   "execution_count": 92,
   "id": "c3d18fa2",
   "metadata": {},
   "outputs": [],
   "source": [
    "dfs_xgb_3dof = {}  # dictionary to store DataFrames"
   ]
  },
  {
   "cell_type": "code",
   "execution_count": null,
   "id": "bf2a0d24",
   "metadata": {},
   "outputs": [],
   "source": [
    "\n",
    "# load  data\n",
    "folder = \"Xgboost/results/3dof_model/test_best_models/metrics/*.csv\"\n",
    "# Get all CSV files\n",
    "csv_files = sorted(glob.glob(folder))  # sort for consistent numbering\n",
    "\n",
    "# Load each CSV into a dynamically named variable\n",
    "\n",
    "for file_path in csv_files:\n",
    "    file_name = os.path.basename(file_path)  # Get filename (e.g., \"heave_case1.csv\")\n",
    "    file_base = os.path.splitext(file_name)[0]  # Remove '.csv', so just \"heave_case1\"\n",
    "    \n",
    "    df_name = file_base  # Use file_base as the dataframe name\n",
    "    dfs_xgb_3dof[df_name] = pd.read_csv(file_path)\n"
   ]
  },
  {
   "cell_type": "code",
   "execution_count": 94,
   "id": "9ae3996d",
   "metadata": {},
   "outputs": [
    {
     "name": "stdout",
     "output_type": "stream",
     "text": [
      "Xgboost_3dof_ver2_extra_na2_nb0_nf10.joblib_metrics: (10, 12)\n",
      "Xgboost_3dof_ver2_extra_na2_nb1_nf9.joblib_metrics: (10, 12)\n",
      "Xgboost_3dof_ver2_extra_na2_nb2_nf8.joblib_metrics: (10, 12)\n",
      "Xgboost_3dof_ver2_na2_nb3_nf7.joblib_metrics: (10, 12)\n",
      "Xgboost_3dof_ver2_na2_nb4_nf6.joblib_metrics: (10, 12)\n"
     ]
    }
   ],
   "source": [
    "# Loop over all dfs to extract diffrent dfs\n",
    "for name, df in dfs_xgb_3dof.items():\n",
    "    print(f\"{name}: {df.shape}\")"
   ]
  },
  {
   "cell_type": "code",
   "execution_count": 95,
   "id": "72fcdb1b",
   "metadata": {},
   "outputs": [
    {
     "name": "stdout",
     "output_type": "stream",
     "text": [
      "   nd  nb  na  r2_train  r2_val\n",
      "0 -10   0   2     0.959   0.965\n",
      "1  -9   1   2     0.956   0.962\n",
      "2  -8   2   2     0.954   0.956\n",
      "3  -7   3   2     0.943   0.952\n",
      "4  -6   4   2     0.940   0.945\n"
     ]
    }
   ],
   "source": [
    "# Define the data manually as a list of dictionaries\n",
    "data_heave_xgb_3dof = [\n",
    "    {'nd': -10, 'nb': 0, 'na': 2, 'r2_train': 0.959, 'r2_val': 0.965},\n",
    "    \n",
    "    {'nd': -9, 'nb': 1, 'na': 2, 'r2_train': 0.956, 'r2_val': 0.962},\n",
    "    \n",
    "    {'nd': -8, 'nb': 2, 'na': 2, 'r2_train': 0.954, 'r2_val': 0.956},\n",
    "    \n",
    "    {'nd': -7, 'nb': 3, 'na': 2, 'r2_train': 0.943, 'r2_val': 0.952},\n",
    "    \n",
    "    {'nd': -6, 'nb': 4, 'na': 2, 'r2_train': 0.940, 'r2_val': 0.945}\n",
    "    \n",
    "    \n",
    "    \n",
    "    \n",
    "]\n",
    "# Create a DataFrame\n",
    "df_summary_heave_xgb_3dof = pd.DataFrame(data_heave_xgb_3dof)\n",
    "\n",
    "# Display it\n",
    "print(df_summary_heave_xgb_3dof)\n",
    "\n"
   ]
  },
  {
   "cell_type": "code",
   "execution_count": 96,
   "id": "7a425cce",
   "metadata": {},
   "outputs": [
    {
     "name": "stdout",
     "output_type": "stream",
     "text": [
      "   nd  nb  na  r2_train  r2_val\n",
      "0 -10   0   2     0.892   0.893\n",
      "1  -9   1   2     0.897   0.897\n",
      "2  -8   2   2     0.900   0.886\n",
      "3  -7   3   2     0.885   0.881\n",
      "4  -6   4   2     0.886   0.874\n"
     ]
    }
   ],
   "source": [
    "# Define the data manually as a list of dictionaries\n",
    "data_pitch_xgb_3dof = [\n",
    "    {'nd': -10, 'nb': 0, 'na': 2, 'r2_train': 0.892, 'r2_val': 0.893},\n",
    "    \n",
    "    {'nd': -9, 'nb': 1, 'na': 2, 'r2_train': 0.897, 'r2_val': 0.897},\n",
    "    \n",
    "    {'nd': -8, 'nb': 2, 'na': 2, 'r2_train': 0.900, 'r2_val': 0.886},\n",
    "    \n",
    "    {'nd': -7, 'nb': 3, 'na': 2, 'r2_train': 0.885, 'r2_val': 0.881},\n",
    "    \n",
    "    {'nd': -6, 'nb': 4, 'na': 2, 'r2_train': 0.886, 'r2_val': 0.874}\n",
    "    \n",
    "    \n",
    "    \n",
    "    \n",
    "]\n",
    "# Create a DataFrame\n",
    "df_summary_pitch_xgb_3dof = pd.DataFrame(data_pitch_xgb_3dof)\n",
    "\n",
    "# Display it\n",
    "print(df_summary_pitch_xgb_3dof)"
   ]
  },
  {
   "cell_type": "code",
   "execution_count": 97,
   "id": "7bfb49b0",
   "metadata": {},
   "outputs": [
    {
     "name": "stdout",
     "output_type": "stream",
     "text": [
      "   nd  nb  na  r2_train  r2_val\n",
      "0 -10   0   2     0.840   0.841\n",
      "1  -9   1   2     0.853   0.846\n",
      "2  -8   2   2     0.855   0.841\n",
      "3  -7   3   2     0.852   0.812\n",
      "4  -6   4   2     0.855   0.839\n"
     ]
    }
   ],
   "source": [
    "# Define the data manually as a list of dictionaries\n",
    "data_pendulum_xgb_3dof = [\n",
    "    {'nd': -10, 'nb': 0, 'na': 2, 'r2_train': 0.840, 'r2_val': 0.841},\n",
    "    \n",
    "    {'nd': -9, 'nb': 1, 'na': 2, 'r2_train': 0.853, 'r2_val': 0.846},\n",
    "    \n",
    "    {'nd': -8, 'nb': 2, 'na': 2, 'r2_train': 0.855, 'r2_val': 0.841},\n",
    "    \n",
    "    {'nd': -7, 'nb': 3, 'na': 2, 'r2_train': 0.852, 'r2_val': 0.812},\n",
    "    \n",
    "    {'nd': -6, 'nb': 4, 'na': 2, 'r2_train': 0.855, 'r2_val': 0.839}\n",
    "    \n",
    "    \n",
    "]\n",
    "# Create a DataFrame\n",
    "df_summary_pendulum_xgb_3dof = pd.DataFrame(data_pendulum_xgb_3dof)\n",
    "\n",
    "# Display it\n",
    "print(df_summary_pendulum_xgb_3dof)"
   ]
  },
  {
   "cell_type": "code",
   "execution_count": 233,
   "id": "f827e0e7",
   "metadata": {},
   "outputs": [
    {
     "data": {
      "application/vnd.plotly.v1+json": {
       "config": {
        "plotlyServerURL": "https://plot.ly"
       },
       "data": [
        {
         "legendgroup": "na=2, nb=0, nd=-10",
         "line": {
          "color": "#636EFA"
         },
         "mode": "lines+markers",
         "name": "na=2, nb=0, nd=-10",
         "type": "scatter",
         "x": [
          "Tp = 4.5 s, Hs = 1 m",
          "Tp = 4.5 s, Hs = 2 m",
          "Tp = 6.8 s, Hs = 1 m",
          "Tp = 6.8 s, Hs = 2 m",
          "Tp = 6.8 s, Hs = 4 m",
          "Tp = 6.8 s, Hs = 6 m",
          "Tp = 6.8 s, Hs = 8 m",
          "Tp = 10.2 s, Hs = 1 m",
          "Tp = 10.2 s, Hs = 2 m",
          "Tp = 10.2 s, Hs = 4 m"
         ],
         "xaxis": "x",
         "y": [
          0.5706417126219215,
          0.464335198496776,
          0.9460060099499766,
          0.9690763782864368,
          0.8282004441746694,
          0.6520056490297601,
          0.4936142596242832,
          0.9446138966968798,
          0.9564678124515767,
          0.8453218084714165
         ],
         "yaxis": "y"
        },
        {
         "legendgroup": "na=2, nb=0, nd=-10",
         "marker": {
          "color": "#636EFA",
          "size": 8,
          "symbol": "x"
         },
         "mode": "markers",
         "name": "na=2, nb=0, nd=-10 Train",
         "showlegend": false,
         "type": "scatter",
         "x": [
          "na=2, nb=0, nd=-10"
         ],
         "xaxis": "x2",
         "y": [
          0.959
         ],
         "yaxis": "y2"
        },
        {
         "legendgroup": "na=2, nb=0, nd=-10",
         "marker": {
          "color": "#636EFA",
          "size": 8,
          "symbol": "square"
         },
         "mode": "markers",
         "name": "na=2, nb=0, nd=-10 Val",
         "showlegend": false,
         "type": "scatter",
         "x": [
          "na=2, nb=0, nd=-10"
         ],
         "xaxis": "x2",
         "y": [
          0.965
         ],
         "yaxis": "y2"
        },
        {
         "legendgroup": "na=2, nb=1, nd=-9",
         "line": {
          "color": "#EF553B"
         },
         "mode": "lines+markers",
         "name": "na=2, nb=1, nd=-9",
         "type": "scatter",
         "x": [
          "Tp = 4.5 s, Hs = 1 m",
          "Tp = 4.5 s, Hs = 2 m",
          "Tp = 6.8 s, Hs = 1 m",
          "Tp = 6.8 s, Hs = 2 m",
          "Tp = 6.8 s, Hs = 4 m",
          "Tp = 6.8 s, Hs = 6 m",
          "Tp = 6.8 s, Hs = 8 m",
          "Tp = 10.2 s, Hs = 1 m",
          "Tp = 10.2 s, Hs = 2 m",
          "Tp = 10.2 s, Hs = 4 m"
         ],
         "xaxis": "x",
         "y": [
          0.4541861690067938,
          0.4467987959547147,
          0.940451582306712,
          0.9652865323792592,
          0.8181846987489712,
          0.6388477774309769,
          0.4833600263238632,
          0.9311274413446152,
          0.9523587089164915,
          0.8494483414187015
         ],
         "yaxis": "y"
        },
        {
         "legendgroup": "na=2, nb=1, nd=-9",
         "marker": {
          "color": "#EF553B",
          "size": 8,
          "symbol": "x"
         },
         "mode": "markers",
         "name": "na=2, nb=1, nd=-9 Train",
         "showlegend": false,
         "type": "scatter",
         "x": [
          "na=2, nb=1, nd=-9"
         ],
         "xaxis": "x2",
         "y": [
          0.956
         ],
         "yaxis": "y2"
        },
        {
         "legendgroup": "na=2, nb=1, nd=-9",
         "marker": {
          "color": "#EF553B",
          "size": 8,
          "symbol": "square"
         },
         "mode": "markers",
         "name": "na=2, nb=1, nd=-9 Val",
         "showlegend": false,
         "type": "scatter",
         "x": [
          "na=2, nb=1, nd=-9"
         ],
         "xaxis": "x2",
         "y": [
          0.962
         ],
         "yaxis": "y2"
        },
        {
         "legendgroup": "na=2, nb=2, nd=-8",
         "line": {
          "color": "#00CC96"
         },
         "mode": "lines+markers",
         "name": "na=2, nb=2, nd=-8",
         "type": "scatter",
         "x": [
          "Tp = 4.5 s, Hs = 1 m",
          "Tp = 4.5 s, Hs = 2 m",
          "Tp = 6.8 s, Hs = 1 m",
          "Tp = 6.8 s, Hs = 2 m",
          "Tp = 6.8 s, Hs = 4 m",
          "Tp = 6.8 s, Hs = 6 m",
          "Tp = 6.8 s, Hs = 8 m",
          "Tp = 10.2 s, Hs = 1 m",
          "Tp = 10.2 s, Hs = 2 m",
          "Tp = 10.2 s, Hs = 4 m"
         ],
         "xaxis": "x",
         "y": [
          0.5151825458030317,
          0.4201978546157063,
          0.9175503826231703,
          0.9619023268824032,
          0.8200487305662605,
          0.6460229472686538,
          0.5064274915165594,
          0.900322321072583,
          0.9452411807770196,
          0.8448364121267642
         ],
         "yaxis": "y"
        },
        {
         "legendgroup": "na=2, nb=2, nd=-8",
         "marker": {
          "color": "#00CC96",
          "size": 8,
          "symbol": "x"
         },
         "mode": "markers",
         "name": "na=2, nb=2, nd=-8 Train",
         "showlegend": false,
         "type": "scatter",
         "x": [
          "na=2, nb=2, nd=-8"
         ],
         "xaxis": "x2",
         "y": [
          0.954
         ],
         "yaxis": "y2"
        },
        {
         "legendgroup": "na=2, nb=2, nd=-8",
         "marker": {
          "color": "#00CC96",
          "size": 8,
          "symbol": "square"
         },
         "mode": "markers",
         "name": "na=2, nb=2, nd=-8 Val",
         "showlegend": false,
         "type": "scatter",
         "x": [
          "na=2, nb=2, nd=-8"
         ],
         "xaxis": "x2",
         "y": [
          0.956
         ],
         "yaxis": "y2"
        },
        {
         "legendgroup": "na=2, nb=3, nd=-7",
         "line": {
          "color": "#AB63FA"
         },
         "mode": "lines+markers",
         "name": "na=2, nb=3, nd=-7",
         "type": "scatter",
         "x": [
          "Tp = 4.5 s, Hs = 1 m",
          "Tp = 4.5 s, Hs = 2 m",
          "Tp = 6.8 s, Hs = 1 m",
          "Tp = 6.8 s, Hs = 2 m",
          "Tp = 6.8 s, Hs = 4 m",
          "Tp = 6.8 s, Hs = 6 m",
          "Tp = 6.8 s, Hs = 8 m",
          "Tp = 10.2 s, Hs = 1 m",
          "Tp = 10.2 s, Hs = 2 m",
          "Tp = 10.2 s, Hs = 4 m"
         ],
         "xaxis": "x",
         "y": [
          0.358383434460325,
          0.2957328774298422,
          0.9115511033225528,
          0.9541794165253652,
          0.8134862170244987,
          0.6377846710823651,
          0.4957703797467987,
          0.8898628775576036,
          0.9200184966806214,
          0.8306348335889294
         ],
         "yaxis": "y"
        },
        {
         "legendgroup": "na=2, nb=3, nd=-7",
         "marker": {
          "color": "#AB63FA",
          "size": 8,
          "symbol": "x"
         },
         "mode": "markers",
         "name": "na=2, nb=3, nd=-7 Train",
         "showlegend": false,
         "type": "scatter",
         "x": [
          "na=2, nb=3, nd=-7"
         ],
         "xaxis": "x2",
         "y": [
          0.943
         ],
         "yaxis": "y2"
        },
        {
         "legendgroup": "na=2, nb=3, nd=-7",
         "marker": {
          "color": "#AB63FA",
          "size": 8,
          "symbol": "square"
         },
         "mode": "markers",
         "name": "na=2, nb=3, nd=-7 Val",
         "showlegend": false,
         "type": "scatter",
         "x": [
          "na=2, nb=3, nd=-7"
         ],
         "xaxis": "x2",
         "y": [
          0.952
         ],
         "yaxis": "y2"
        },
        {
         "legendgroup": "na=2, nb=4, nd=-6",
         "line": {
          "color": "#FFA15A"
         },
         "mode": "lines+markers",
         "name": "na=2, nb=4, nd=-6",
         "type": "scatter",
         "x": [
          "Tp = 4.5 s, Hs = 1 m",
          "Tp = 4.5 s, Hs = 2 m",
          "Tp = 6.8 s, Hs = 1 m",
          "Tp = 6.8 s, Hs = 2 m",
          "Tp = 6.8 s, Hs = 4 m",
          "Tp = 6.8 s, Hs = 6 m",
          "Tp = 6.8 s, Hs = 8 m",
          "Tp = 10.2 s, Hs = 1 m",
          "Tp = 10.2 s, Hs = 2 m",
          "Tp = 10.2 s, Hs = 4 m"
         ],
         "xaxis": "x",
         "y": [
          0.2436386746032504,
          0.3154758289238236,
          0.9085480339171234,
          0.9490084241678002,
          0.822350680141952,
          0.6499362025949068,
          0.5029344923803793,
          0.8589472848800558,
          0.9012843961319456,
          0.8111078135986145
         ],
         "yaxis": "y"
        },
        {
         "legendgroup": "na=2, nb=4, nd=-6",
         "marker": {
          "color": "#FFA15A",
          "size": 8,
          "symbol": "x"
         },
         "mode": "markers",
         "name": "na=2, nb=4, nd=-6 Train",
         "showlegend": false,
         "type": "scatter",
         "x": [
          "na=2, nb=4, nd=-6"
         ],
         "xaxis": "x2",
         "y": [
          0.94
         ],
         "yaxis": "y2"
        },
        {
         "legendgroup": "na=2, nb=4, nd=-6",
         "marker": {
          "color": "#FFA15A",
          "size": 8,
          "symbol": "square"
         },
         "mode": "markers",
         "name": "na=2, nb=4, nd=-6 Val",
         "showlegend": false,
         "type": "scatter",
         "x": [
          "na=2, nb=4, nd=-6"
         ],
         "xaxis": "x2",
         "y": [
          0.945
         ],
         "yaxis": "y2"
        },
        {
         "marker": {
          "color": "grey",
          "size": 7,
          "symbol": "x"
         },
         "mode": "markers",
         "name": " Train R²",
         "showlegend": true,
         "type": "scatter",
         "x": [
          null
         ],
         "xaxis": "x2",
         "y": [
          null
         ],
         "yaxis": "y2"
        },
        {
         "marker": {
          "color": "grey",
          "size": 7,
          "symbol": "square"
         },
         "mode": "markers",
         "name": "Validation R²",
         "showlegend": true,
         "type": "scatter",
         "x": [
          null
         ],
         "xaxis": "x2",
         "y": [
          null
         ],
         "yaxis": "y2"
        }
       ],
       "layout": {
        "annotations": [
         {
          "font": {
           "size": 16
          },
          "showarrow": false,
          "text": "Test Cases R²",
          "x": 0.3375,
          "xanchor": "center",
          "xref": "paper",
          "y": 1,
          "yanchor": "bottom",
          "yref": "paper"
         },
         {
          "font": {
           "size": 16
          },
          "showarrow": false,
          "text": "Train/Validation R² Scores",
          "x": 0.8875,
          "xanchor": "center",
          "xref": "paper",
          "y": 1,
          "yanchor": "bottom",
          "yref": "paper"
         }
        ],
        "height": 600,
        "legend": {
         "title": {
          "text": "na + nb + nd combination"
         }
        },
        "template": {
         "data": {
          "bar": [
           {
            "error_x": {
             "color": "#2a3f5f"
            },
            "error_y": {
             "color": "#2a3f5f"
            },
            "marker": {
             "line": {
              "color": "white",
              "width": 0.5
             },
             "pattern": {
              "fillmode": "overlay",
              "size": 10,
              "solidity": 0.2
             }
            },
            "type": "bar"
           }
          ],
          "barpolar": [
           {
            "marker": {
             "line": {
              "color": "white",
              "width": 0.5
             },
             "pattern": {
              "fillmode": "overlay",
              "size": 10,
              "solidity": 0.2
             }
            },
            "type": "barpolar"
           }
          ],
          "carpet": [
           {
            "aaxis": {
             "endlinecolor": "#2a3f5f",
             "gridcolor": "#C8D4E3",
             "linecolor": "#C8D4E3",
             "minorgridcolor": "#C8D4E3",
             "startlinecolor": "#2a3f5f"
            },
            "baxis": {
             "endlinecolor": "#2a3f5f",
             "gridcolor": "#C8D4E3",
             "linecolor": "#C8D4E3",
             "minorgridcolor": "#C8D4E3",
             "startlinecolor": "#2a3f5f"
            },
            "type": "carpet"
           }
          ],
          "choropleth": [
           {
            "colorbar": {
             "outlinewidth": 0,
             "ticks": ""
            },
            "type": "choropleth"
           }
          ],
          "contour": [
           {
            "colorbar": {
             "outlinewidth": 0,
             "ticks": ""
            },
            "colorscale": [
             [
              0,
              "#0d0887"
             ],
             [
              0.1111111111111111,
              "#46039f"
             ],
             [
              0.2222222222222222,
              "#7201a8"
             ],
             [
              0.3333333333333333,
              "#9c179e"
             ],
             [
              0.4444444444444444,
              "#bd3786"
             ],
             [
              0.5555555555555556,
              "#d8576b"
             ],
             [
              0.6666666666666666,
              "#ed7953"
             ],
             [
              0.7777777777777778,
              "#fb9f3a"
             ],
             [
              0.8888888888888888,
              "#fdca26"
             ],
             [
              1,
              "#f0f921"
             ]
            ],
            "type": "contour"
           }
          ],
          "contourcarpet": [
           {
            "colorbar": {
             "outlinewidth": 0,
             "ticks": ""
            },
            "type": "contourcarpet"
           }
          ],
          "heatmap": [
           {
            "colorbar": {
             "outlinewidth": 0,
             "ticks": ""
            },
            "colorscale": [
             [
              0,
              "#0d0887"
             ],
             [
              0.1111111111111111,
              "#46039f"
             ],
             [
              0.2222222222222222,
              "#7201a8"
             ],
             [
              0.3333333333333333,
              "#9c179e"
             ],
             [
              0.4444444444444444,
              "#bd3786"
             ],
             [
              0.5555555555555556,
              "#d8576b"
             ],
             [
              0.6666666666666666,
              "#ed7953"
             ],
             [
              0.7777777777777778,
              "#fb9f3a"
             ],
             [
              0.8888888888888888,
              "#fdca26"
             ],
             [
              1,
              "#f0f921"
             ]
            ],
            "type": "heatmap"
           }
          ],
          "heatmapgl": [
           {
            "colorbar": {
             "outlinewidth": 0,
             "ticks": ""
            },
            "colorscale": [
             [
              0,
              "#0d0887"
             ],
             [
              0.1111111111111111,
              "#46039f"
             ],
             [
              0.2222222222222222,
              "#7201a8"
             ],
             [
              0.3333333333333333,
              "#9c179e"
             ],
             [
              0.4444444444444444,
              "#bd3786"
             ],
             [
              0.5555555555555556,
              "#d8576b"
             ],
             [
              0.6666666666666666,
              "#ed7953"
             ],
             [
              0.7777777777777778,
              "#fb9f3a"
             ],
             [
              0.8888888888888888,
              "#fdca26"
             ],
             [
              1,
              "#f0f921"
             ]
            ],
            "type": "heatmapgl"
           }
          ],
          "histogram": [
           {
            "marker": {
             "pattern": {
              "fillmode": "overlay",
              "size": 10,
              "solidity": 0.2
             }
            },
            "type": "histogram"
           }
          ],
          "histogram2d": [
           {
            "colorbar": {
             "outlinewidth": 0,
             "ticks": ""
            },
            "colorscale": [
             [
              0,
              "#0d0887"
             ],
             [
              0.1111111111111111,
              "#46039f"
             ],
             [
              0.2222222222222222,
              "#7201a8"
             ],
             [
              0.3333333333333333,
              "#9c179e"
             ],
             [
              0.4444444444444444,
              "#bd3786"
             ],
             [
              0.5555555555555556,
              "#d8576b"
             ],
             [
              0.6666666666666666,
              "#ed7953"
             ],
             [
              0.7777777777777778,
              "#fb9f3a"
             ],
             [
              0.8888888888888888,
              "#fdca26"
             ],
             [
              1,
              "#f0f921"
             ]
            ],
            "type": "histogram2d"
           }
          ],
          "histogram2dcontour": [
           {
            "colorbar": {
             "outlinewidth": 0,
             "ticks": ""
            },
            "colorscale": [
             [
              0,
              "#0d0887"
             ],
             [
              0.1111111111111111,
              "#46039f"
             ],
             [
              0.2222222222222222,
              "#7201a8"
             ],
             [
              0.3333333333333333,
              "#9c179e"
             ],
             [
              0.4444444444444444,
              "#bd3786"
             ],
             [
              0.5555555555555556,
              "#d8576b"
             ],
             [
              0.6666666666666666,
              "#ed7953"
             ],
             [
              0.7777777777777778,
              "#fb9f3a"
             ],
             [
              0.8888888888888888,
              "#fdca26"
             ],
             [
              1,
              "#f0f921"
             ]
            ],
            "type": "histogram2dcontour"
           }
          ],
          "mesh3d": [
           {
            "colorbar": {
             "outlinewidth": 0,
             "ticks": ""
            },
            "type": "mesh3d"
           }
          ],
          "parcoords": [
           {
            "line": {
             "colorbar": {
              "outlinewidth": 0,
              "ticks": ""
             }
            },
            "type": "parcoords"
           }
          ],
          "pie": [
           {
            "automargin": true,
            "type": "pie"
           }
          ],
          "scatter": [
           {
            "fillpattern": {
             "fillmode": "overlay",
             "size": 10,
             "solidity": 0.2
            },
            "type": "scatter"
           }
          ],
          "scatter3d": [
           {
            "line": {
             "colorbar": {
              "outlinewidth": 0,
              "ticks": ""
             }
            },
            "marker": {
             "colorbar": {
              "outlinewidth": 0,
              "ticks": ""
             }
            },
            "type": "scatter3d"
           }
          ],
          "scattercarpet": [
           {
            "marker": {
             "colorbar": {
              "outlinewidth": 0,
              "ticks": ""
             }
            },
            "type": "scattercarpet"
           }
          ],
          "scattergeo": [
           {
            "marker": {
             "colorbar": {
              "outlinewidth": 0,
              "ticks": ""
             }
            },
            "type": "scattergeo"
           }
          ],
          "scattergl": [
           {
            "marker": {
             "colorbar": {
              "outlinewidth": 0,
              "ticks": ""
             }
            },
            "type": "scattergl"
           }
          ],
          "scattermapbox": [
           {
            "marker": {
             "colorbar": {
              "outlinewidth": 0,
              "ticks": ""
             }
            },
            "type": "scattermapbox"
           }
          ],
          "scatterpolar": [
           {
            "marker": {
             "colorbar": {
              "outlinewidth": 0,
              "ticks": ""
             }
            },
            "type": "scatterpolar"
           }
          ],
          "scatterpolargl": [
           {
            "marker": {
             "colorbar": {
              "outlinewidth": 0,
              "ticks": ""
             }
            },
            "type": "scatterpolargl"
           }
          ],
          "scatterternary": [
           {
            "marker": {
             "colorbar": {
              "outlinewidth": 0,
              "ticks": ""
             }
            },
            "type": "scatterternary"
           }
          ],
          "surface": [
           {
            "colorbar": {
             "outlinewidth": 0,
             "ticks": ""
            },
            "colorscale": [
             [
              0,
              "#0d0887"
             ],
             [
              0.1111111111111111,
              "#46039f"
             ],
             [
              0.2222222222222222,
              "#7201a8"
             ],
             [
              0.3333333333333333,
              "#9c179e"
             ],
             [
              0.4444444444444444,
              "#bd3786"
             ],
             [
              0.5555555555555556,
              "#d8576b"
             ],
             [
              0.6666666666666666,
              "#ed7953"
             ],
             [
              0.7777777777777778,
              "#fb9f3a"
             ],
             [
              0.8888888888888888,
              "#fdca26"
             ],
             [
              1,
              "#f0f921"
             ]
            ],
            "type": "surface"
           }
          ],
          "table": [
           {
            "cells": {
             "fill": {
              "color": "#EBF0F8"
             },
             "line": {
              "color": "white"
             }
            },
            "header": {
             "fill": {
              "color": "#C8D4E3"
             },
             "line": {
              "color": "white"
             }
            },
            "type": "table"
           }
          ]
         },
         "layout": {
          "annotationdefaults": {
           "arrowcolor": "#2a3f5f",
           "arrowhead": 0,
           "arrowwidth": 1
          },
          "autotypenumbers": "strict",
          "coloraxis": {
           "colorbar": {
            "outlinewidth": 0,
            "ticks": ""
           }
          },
          "colorscale": {
           "diverging": [
            [
             0,
             "#8e0152"
            ],
            [
             0.1,
             "#c51b7d"
            ],
            [
             0.2,
             "#de77ae"
            ],
            [
             0.3,
             "#f1b6da"
            ],
            [
             0.4,
             "#fde0ef"
            ],
            [
             0.5,
             "#f7f7f7"
            ],
            [
             0.6,
             "#e6f5d0"
            ],
            [
             0.7,
             "#b8e186"
            ],
            [
             0.8,
             "#7fbc41"
            ],
            [
             0.9,
             "#4d9221"
            ],
            [
             1,
             "#276419"
            ]
           ],
           "sequential": [
            [
             0,
             "#0d0887"
            ],
            [
             0.1111111111111111,
             "#46039f"
            ],
            [
             0.2222222222222222,
             "#7201a8"
            ],
            [
             0.3333333333333333,
             "#9c179e"
            ],
            [
             0.4444444444444444,
             "#bd3786"
            ],
            [
             0.5555555555555556,
             "#d8576b"
            ],
            [
             0.6666666666666666,
             "#ed7953"
            ],
            [
             0.7777777777777778,
             "#fb9f3a"
            ],
            [
             0.8888888888888888,
             "#fdca26"
            ],
            [
             1,
             "#f0f921"
            ]
           ],
           "sequentialminus": [
            [
             0,
             "#0d0887"
            ],
            [
             0.1111111111111111,
             "#46039f"
            ],
            [
             0.2222222222222222,
             "#7201a8"
            ],
            [
             0.3333333333333333,
             "#9c179e"
            ],
            [
             0.4444444444444444,
             "#bd3786"
            ],
            [
             0.5555555555555556,
             "#d8576b"
            ],
            [
             0.6666666666666666,
             "#ed7953"
            ],
            [
             0.7777777777777778,
             "#fb9f3a"
            ],
            [
             0.8888888888888888,
             "#fdca26"
            ],
            [
             1,
             "#f0f921"
            ]
           ]
          },
          "colorway": [
           "#636efa",
           "#EF553B",
           "#00cc96",
           "#ab63fa",
           "#FFA15A",
           "#19d3f3",
           "#FF6692",
           "#B6E880",
           "#FF97FF",
           "#FECB52"
          ],
          "font": {
           "color": "#2a3f5f"
          },
          "geo": {
           "bgcolor": "white",
           "lakecolor": "white",
           "landcolor": "white",
           "showlakes": true,
           "showland": true,
           "subunitcolor": "#C8D4E3"
          },
          "hoverlabel": {
           "align": "left"
          },
          "hovermode": "closest",
          "mapbox": {
           "style": "light"
          },
          "paper_bgcolor": "white",
          "plot_bgcolor": "white",
          "polar": {
           "angularaxis": {
            "gridcolor": "#EBF0F8",
            "linecolor": "#EBF0F8",
            "ticks": ""
           },
           "bgcolor": "white",
           "radialaxis": {
            "gridcolor": "#EBF0F8",
            "linecolor": "#EBF0F8",
            "ticks": ""
           }
          },
          "scene": {
           "xaxis": {
            "backgroundcolor": "white",
            "gridcolor": "#DFE8F3",
            "gridwidth": 2,
            "linecolor": "#EBF0F8",
            "showbackground": true,
            "ticks": "",
            "zerolinecolor": "#EBF0F8"
           },
           "yaxis": {
            "backgroundcolor": "white",
            "gridcolor": "#DFE8F3",
            "gridwidth": 2,
            "linecolor": "#EBF0F8",
            "showbackground": true,
            "ticks": "",
            "zerolinecolor": "#EBF0F8"
           },
           "zaxis": {
            "backgroundcolor": "white",
            "gridcolor": "#DFE8F3",
            "gridwidth": 2,
            "linecolor": "#EBF0F8",
            "showbackground": true,
            "ticks": "",
            "zerolinecolor": "#EBF0F8"
           }
          },
          "shapedefaults": {
           "line": {
            "color": "#2a3f5f"
           }
          },
          "ternary": {
           "aaxis": {
            "gridcolor": "#DFE8F3",
            "linecolor": "#A2B1C6",
            "ticks": ""
           },
           "baxis": {
            "gridcolor": "#DFE8F3",
            "linecolor": "#A2B1C6",
            "ticks": ""
           },
           "bgcolor": "white",
           "caxis": {
            "gridcolor": "#DFE8F3",
            "linecolor": "#A2B1C6",
            "ticks": ""
           }
          },
          "title": {
           "x": 0.05
          },
          "xaxis": {
           "automargin": true,
           "gridcolor": "#EBF0F8",
           "linecolor": "#EBF0F8",
           "ticks": "",
           "title": {
            "standoff": 15
           },
           "zerolinecolor": "#EBF0F8",
           "zerolinewidth": 2
          },
          "yaxis": {
           "automargin": true,
           "gridcolor": "#EBF0F8",
           "linecolor": "#EBF0F8",
           "ticks": "",
           "title": {
            "standoff": 15
           },
           "zerolinecolor": "#EBF0F8",
           "zerolinewidth": 2
          }
         }
        },
        "title": {
         "text": "Test R² Scores for Heave Prediction Across Sea Conditions and Lags Combinations - Combined XGBoost Model for All DoFs"
        },
        "width": 1200,
        "xaxis": {
         "anchor": "y",
         "categoryarray": [
          "Tp = 4.5 s, Hs = 1 m",
          "Tp = 4.5 s, Hs = 2 m",
          "Tp = 6.8 s, Hs = 1 m",
          "Tp = 6.8 s, Hs = 2 m",
          "Tp = 6.8 s, Hs = 4 m",
          "Tp = 6.8 s, Hs = 6 m",
          "Tp = 6.8 s, Hs = 8 m",
          "Tp = 10.2 s, Hs = 1 m",
          "Tp = 10.2 s, Hs = 2 m",
          "Tp = 10.2 s, Hs = 4 m"
         ],
         "categoryorder": "array",
         "domain": [
          0,
          0.675
         ],
         "title": {
          "text": "Test Case"
         }
        },
        "xaxis2": {
         "anchor": "y2",
         "domain": [
          0.775,
          1
         ],
         "title": {
          "text": "Model Combination"
         }
        },
        "yaxis": {
         "anchor": "x",
         "domain": [
          0,
          1
         ],
         "title": {
          "text": "R² Score"
         }
        },
        "yaxis2": {
         "anchor": "x2",
         "domain": [
          0,
          1
         ],
         "range": [
          0,
          1
         ],
         "showgrid": true,
         "title": {
          "text": "Train/Validation R² Score"
         }
        }
       }
      }
     },
     "metadata": {},
     "output_type": "display_data"
    }
   ],
   "source": [
    "# Define your custom x-axis order\n",
    "custom_order = [\n",
    "    'T4p5s_Hs1m', \n",
    "    'T4p5s_Hs2m', \n",
    "    'Tp6p8s_Hs1m',\n",
    "    'Tp6p8s_Hs2m',\n",
    "    'Tp6p8s_Hs4m',\n",
    "    'Tp6p8s_Hs6m',\n",
    "    'Tp6p8s_Hs8m',\n",
    "    'T10p2s_Hs1m',\n",
    "    'Tp10p2_Hs2m',\n",
    "    'T10p2s_Hs4m'\n",
    "]\n",
    "pretty_custom_order = [test_case_pretty_map.get(tc, tc) for tc in custom_order]\n",
    "\n",
    "# Create color map to maintain consistent color for each `comment_value`\n",
    "color_map = {}\n",
    "\n",
    "# Create two subplots with independent y-axes\n",
    "fig = make_subplots(\n",
    "    rows=1, cols=2,\n",
    "    column_widths=[0.75, 0.25],\n",
    "    subplot_titles=(\"Test Cases R²\", \"Train/Validation R² Scores\"),\n",
    "    shared_yaxes=False  # Disable shared y-axes\n",
    ")\n",
    "\n",
    "for df_name, original_df  in dfs_xgb_3dof.items():\n",
    "    df = original_df.copy()\n",
    "    # Extract na, nb, nf from df_name\n",
    "    match = re.search(r'na(\\d+)_nb(\\d+)_nf(\\d+)', df_name)\n",
    "    if match:\n",
    "        na_val, nb_val, nf_val = match.groups()\n",
    "        comment_value = f'na={na_val}, nb={nb_val}, nd=-{nf_val}'\n",
    "    else:\n",
    "        comment_value = df_name\n",
    "\n",
    "    # Assign color to each unique comment_value if not already assigned\n",
    "    if comment_value not in color_map:\n",
    "        color_map[comment_value] = px.colors.qualitative.Plotly[len(color_map) % len(px.colors.qualitative.Plotly)]\n",
    "\n",
    "    # Find the correct test case column\n",
    "    if 'test case' in df.columns:\n",
    "        test_case_col = 'test case'\n",
    "    elif 'test_case' in df.columns:\n",
    "        test_case_col = 'test_case'\n",
    "    else:\n",
    "        raise ValueError(f\"No valid 'test_case' column found in {df_name}\")\n",
    "    \n",
    "    # Sort based on custom order\n",
    "    df[test_case_col] = pd.Categorical(df[test_case_col], categories=custom_order, ordered=True)\n",
    "    df[test_case_col] = df[test_case_col].map(test_case_pretty_map).astype('category')\n",
    "    df[test_case_col] = pd.Categorical(df[test_case_col], categories=pretty_custom_order, ordered=True)\n",
    "    df = df.sort_values(test_case_col)\n",
    "\n",
    "    # Plot the main line (pendulum)\n",
    "    fig.add_trace(\n",
    "        go.Scatter(\n",
    "            x=df[test_case_col],\n",
    "            y=df['r2_test_heave'],  # Correct for pendulum\n",
    "            mode='lines+markers',\n",
    "            name=comment_value,\n",
    "            legendgroup=comment_value,\n",
    "            line=dict(color=color_map[comment_value])  # Use the assigned color\n",
    "        ),\n",
    "        row=1, col=1\n",
    "    )\n",
    "\n",
    "    # Now plot the train/val points from df_summary_pitch\n",
    "    summary_row = df_summary_heave_xgb_3dof[(df_summary_heave_xgb_3dof['na'] == int(na_val)) & \n",
    "                                      (df_summary_heave_xgb_3dof['nb'] == int(nb_val)) &\n",
    "                                      (df_summary_heave_xgb_3dof['nd'] == -int(nf_val))]\n",
    "\n",
    "    if nb_val == 2:\n",
    "            line_width = 4    # Thicker line for highlighting\n",
    "            marker_size = 12  # Larger markers for highlighting\n",
    "            marker_symbol = 'star'\n",
    "    else:\n",
    "            line_width = 2\n",
    "            marker_size = 8\n",
    "            marker_symbol = 'circle'\n",
    "            \n",
    "    if not summary_row.empty:\n",
    "        r2_train = summary_row['r2_train'].values[0]\n",
    "        r2_val = summary_row['r2_val'].values[0]\n",
    "\n",
    "        fig.add_trace(\n",
    "            go.Scatter(\n",
    "                x=[comment_value],\n",
    "                y=[r2_train],\n",
    "                mode='markers',\n",
    "                marker=dict(symbol='x', size=8, color=color_map[comment_value]),  # Use the assigned color\n",
    "                name=f'{comment_value} Train',\n",
    "                legendgroup=comment_value,\n",
    "                showlegend=False\n",
    "            ),\n",
    "            row=1, col=2\n",
    "        )\n",
    "\n",
    "        fig.add_trace(\n",
    "            go.Scatter(\n",
    "                x=[comment_value],\n",
    "                y=[r2_val],\n",
    "                mode='markers',\n",
    "                marker=dict(symbol='square', size=8, color=color_map[comment_value]),  # Use the assigned color\n",
    "                name=f'{comment_value} Val',\n",
    "                legendgroup=comment_value,\n",
    "                showlegend=False\n",
    "            ),\n",
    "            row=1, col=2\n",
    "        )\n",
    "# Add legend-only markers to clarify symbol meaning\n",
    "fig.add_trace(\n",
    "    go.Scatter(\n",
    "        x=[None], y=[None],\n",
    "        mode='markers',\n",
    "        marker=dict(symbol='x', size=7, color='grey'),\n",
    "        name=' Train R²',\n",
    "        showlegend=True\n",
    "    ),\n",
    "    row=1, col=2\n",
    ")\n",
    "\n",
    "fig.add_trace(\n",
    "    go.Scatter(\n",
    "        x=[None], y=[None],\n",
    "        mode='markers',\n",
    "        marker=dict(symbol='square', size=7, color='grey'),\n",
    "        name='Validation R²',\n",
    "        showlegend=True\n",
    "    ),\n",
    "    row=1, col=2\n",
    ")\n",
    "# Final layout adjustments\n",
    "fig.update_layout(\n",
    "    title=\"Test R² Scores for Heave Prediction Across Sea Conditions and Lags Combinations - Combined XGBoost Model for All DoFs\",\n",
    "    xaxis_title=\"Test Case\",\n",
    "    xaxis2_title=\"Model Combination\",\n",
    "    yaxis_title=\"R² Score\",\n",
    "    template=\"plotly_white\",\n",
    "    height=600,\n",
    "    width=1200,\n",
    "    legend_title=\"na + nb + nd combination\",\n",
    "    xaxis=dict(\n",
    "        categoryorder='array',\n",
    "        categoryarray=pretty_custom_order\n",
    "    ),\n",
    "    # Adjust the zoom to fit the second plot\n",
    "    yaxis2=dict(\n",
    "        title=\"Train/Validation R² Score\",\n",
    "        range=[0, 1],  # You can adjust the range based on the data\n",
    "        showgrid=True\n",
    "    )\n",
    ")\n",
    "\n",
    "fig.show()\n"
   ]
  },
  {
   "cell_type": "code",
   "execution_count": 234,
   "id": "c0133527",
   "metadata": {},
   "outputs": [
    {
     "data": {
      "application/vnd.plotly.v1+json": {
       "config": {
        "plotlyServerURL": "https://plot.ly"
       },
       "data": [
        {
         "legendgroup": "na=2, nb=0, nd=-10",
         "line": {
          "color": "#636EFA"
         },
         "name": "na=2, nb=0, nd=-10",
         "type": "scatter",
         "x": [
          "Tp = 4.5 s, Hs = 1 m",
          "Tp = 4.5 s, Hs = 2 m",
          "Tp = 6.8 s, Hs = 1 m",
          "Tp = 6.8 s, Hs = 2 m",
          "Tp = 6.8 s, Hs = 4 m",
          "Tp = 6.8 s, Hs = 6 m",
          "Tp = 6.8 s, Hs = 8 m",
          "Tp = 10.2 s, Hs = 1 m",
          "Tp = 10.2 s, Hs = 2 m",
          "Tp = 10.2 s, Hs = 4 m"
         ],
         "xaxis": "x",
         "y": [
          0.668849542674461,
          0.5426635736996401,
          0.8424051253996367,
          0.8999950031892295,
          0.7463457619476577,
          0.6279683981241819,
          0.5329893833828544,
          0.4743779297485989,
          0.762718675877011,
          0.484118179436791
         ],
         "yaxis": "y"
        },
        {
         "legendgroup": "na=2, nb=0, nd=-10",
         "marker": {
          "color": "#636EFA",
          "size": 8,
          "symbol": "x"
         },
         "mode": "markers",
         "name": "na=2, nb=0, nd=-10 Train",
         "showlegend": false,
         "type": "scatter",
         "x": [
          "na=2, nb=0, nd=-10"
         ],
         "xaxis": "x2",
         "y": [
          0.892
         ],
         "yaxis": "y2"
        },
        {
         "legendgroup": "na=2, nb=0, nd=-10",
         "marker": {
          "color": "#636EFA",
          "size": 8,
          "symbol": "square"
         },
         "mode": "markers",
         "name": "na=2, nb=0, nd=-10 Val",
         "showlegend": false,
         "type": "scatter",
         "x": [
          "na=2, nb=0, nd=-10"
         ],
         "xaxis": "x2",
         "y": [
          0.893
         ],
         "yaxis": "y2"
        },
        {
         "legendgroup": "na=2, nb=1, nd=-9",
         "line": {
          "color": "#EF553B"
         },
         "name": "na=2, nb=1, nd=-9",
         "type": "scatter",
         "x": [
          "Tp = 4.5 s, Hs = 1 m",
          "Tp = 4.5 s, Hs = 2 m",
          "Tp = 6.8 s, Hs = 1 m",
          "Tp = 6.8 s, Hs = 2 m",
          "Tp = 6.8 s, Hs = 4 m",
          "Tp = 6.8 s, Hs = 6 m",
          "Tp = 6.8 s, Hs = 8 m",
          "Tp = 10.2 s, Hs = 1 m",
          "Tp = 10.2 s, Hs = 2 m",
          "Tp = 10.2 s, Hs = 4 m"
         ],
         "xaxis": "x",
         "y": [
          0.6592324187038061,
          0.5405832329572651,
          0.8062837561310351,
          0.9019120929226208,
          0.7512935089291389,
          0.6064762976100178,
          0.507338348591041,
          0.2025139885953775,
          0.7636087508108506,
          0.6310195451060776
         ],
         "yaxis": "y"
        },
        {
         "legendgroup": "na=2, nb=1, nd=-9",
         "marker": {
          "color": "#EF553B",
          "size": 8,
          "symbol": "x"
         },
         "mode": "markers",
         "name": "na=2, nb=1, nd=-9 Train",
         "showlegend": false,
         "type": "scatter",
         "x": [
          "na=2, nb=1, nd=-9"
         ],
         "xaxis": "x2",
         "y": [
          0.897
         ],
         "yaxis": "y2"
        },
        {
         "legendgroup": "na=2, nb=1, nd=-9",
         "marker": {
          "color": "#EF553B",
          "size": 8,
          "symbol": "square"
         },
         "mode": "markers",
         "name": "na=2, nb=1, nd=-9 Val",
         "showlegend": false,
         "type": "scatter",
         "x": [
          "na=2, nb=1, nd=-9"
         ],
         "xaxis": "x2",
         "y": [
          0.897
         ],
         "yaxis": "y2"
        },
        {
         "legendgroup": "na=2, nb=2, nd=-8",
         "line": {
          "color": "#00CC96"
         },
         "name": "na=2, nb=2, nd=-8",
         "type": "scatter",
         "x": [
          "Tp = 4.5 s, Hs = 1 m",
          "Tp = 4.5 s, Hs = 2 m",
          "Tp = 6.8 s, Hs = 1 m",
          "Tp = 6.8 s, Hs = 2 m",
          "Tp = 6.8 s, Hs = 4 m",
          "Tp = 6.8 s, Hs = 6 m",
          "Tp = 6.8 s, Hs = 8 m",
          "Tp = 10.2 s, Hs = 1 m",
          "Tp = 10.2 s, Hs = 2 m",
          "Tp = 10.2 s, Hs = 4 m"
         ],
         "xaxis": "x",
         "y": [
          0.6530126748697436,
          0.5707537138746186,
          0.7807709451562673,
          0.9115725815890112,
          0.770203531270301,
          0.6261395059753054,
          0.5222241015028506,
          0.0569423697383107,
          0.7692570651667308,
          0.6488908322254852
         ],
         "yaxis": "y"
        },
        {
         "legendgroup": "na=2, nb=2, nd=-8",
         "marker": {
          "color": "#00CC96",
          "size": 8,
          "symbol": "x"
         },
         "mode": "markers",
         "name": "na=2, nb=2, nd=-8 Train",
         "showlegend": false,
         "type": "scatter",
         "x": [
          "na=2, nb=2, nd=-8"
         ],
         "xaxis": "x2",
         "y": [
          0.9
         ],
         "yaxis": "y2"
        },
        {
         "legendgroup": "na=2, nb=2, nd=-8",
         "marker": {
          "color": "#00CC96",
          "size": 8,
          "symbol": "square"
         },
         "mode": "markers",
         "name": "na=2, nb=2, nd=-8 Val",
         "showlegend": false,
         "type": "scatter",
         "x": [
          "na=2, nb=2, nd=-8"
         ],
         "xaxis": "x2",
         "y": [
          0.886
         ],
         "yaxis": "y2"
        },
        {
         "legendgroup": "na=2, nb=3, nd=-7",
         "line": {
          "color": "#AB63FA"
         },
         "name": "na=2, nb=3, nd=-7",
         "type": "scatter",
         "x": [
          "Tp = 4.5 s, Hs = 1 m",
          "Tp = 4.5 s, Hs = 2 m",
          "Tp = 6.8 s, Hs = 1 m",
          "Tp = 6.8 s, Hs = 2 m",
          "Tp = 6.8 s, Hs = 4 m",
          "Tp = 6.8 s, Hs = 6 m",
          "Tp = 6.8 s, Hs = 8 m",
          "Tp = 10.2 s, Hs = 1 m",
          "Tp = 10.2 s, Hs = 2 m",
          "Tp = 10.2 s, Hs = 4 m"
         ],
         "xaxis": "x",
         "y": [
          0.5879633083801796,
          0.5012946394114499,
          0.78149125470081,
          0.8936070462956953,
          0.7794041490840162,
          0.6397103723725208,
          0.5271310809576422,
          0.1369614388607616,
          0.7376594737871078,
          0.6717250547264587
         ],
         "yaxis": "y"
        },
        {
         "legendgroup": "na=2, nb=3, nd=-7",
         "marker": {
          "color": "#AB63FA",
          "size": 8,
          "symbol": "x"
         },
         "mode": "markers",
         "name": "na=2, nb=3, nd=-7 Train",
         "showlegend": false,
         "type": "scatter",
         "x": [
          "na=2, nb=3, nd=-7"
         ],
         "xaxis": "x2",
         "y": [
          0.885
         ],
         "yaxis": "y2"
        },
        {
         "legendgroup": "na=2, nb=3, nd=-7",
         "marker": {
          "color": "#AB63FA",
          "size": 8,
          "symbol": "square"
         },
         "mode": "markers",
         "name": "na=2, nb=3, nd=-7 Val",
         "showlegend": false,
         "type": "scatter",
         "x": [
          "na=2, nb=3, nd=-7"
         ],
         "xaxis": "x2",
         "y": [
          0.881
         ],
         "yaxis": "y2"
        },
        {
         "legendgroup": "na=2, nb=4, nd=-6",
         "line": {
          "color": "#FFA15A"
         },
         "name": "na=2, nb=4, nd=-6",
         "type": "scatter",
         "x": [
          "Tp = 4.5 s, Hs = 1 m",
          "Tp = 4.5 s, Hs = 2 m",
          "Tp = 6.8 s, Hs = 1 m",
          "Tp = 6.8 s, Hs = 2 m",
          "Tp = 6.8 s, Hs = 4 m",
          "Tp = 6.8 s, Hs = 6 m",
          "Tp = 6.8 s, Hs = 8 m",
          "Tp = 10.2 s, Hs = 1 m",
          "Tp = 10.2 s, Hs = 2 m",
          "Tp = 10.2 s, Hs = 4 m"
         ],
         "xaxis": "x",
         "y": [
          0.6319397090288714,
          0.5175712086668744,
          0.7704366642719543,
          0.8800510557875781,
          0.7771679969058264,
          0.6346913201960822,
          0.5186909805074884,
          0.102768038799036,
          0.7215785461016189,
          0.7397799521475152
         ],
         "yaxis": "y"
        },
        {
         "legendgroup": "na=2, nb=4, nd=-6",
         "marker": {
          "color": "#FFA15A",
          "size": 8,
          "symbol": "x"
         },
         "mode": "markers",
         "name": "na=2, nb=4, nd=-6 Train",
         "showlegend": false,
         "type": "scatter",
         "x": [
          "na=2, nb=4, nd=-6"
         ],
         "xaxis": "x2",
         "y": [
          0.886
         ],
         "yaxis": "y2"
        },
        {
         "legendgroup": "na=2, nb=4, nd=-6",
         "marker": {
          "color": "#FFA15A",
          "size": 8,
          "symbol": "square"
         },
         "mode": "markers",
         "name": "na=2, nb=4, nd=-6 Val",
         "showlegend": false,
         "type": "scatter",
         "x": [
          "na=2, nb=4, nd=-6"
         ],
         "xaxis": "x2",
         "y": [
          0.874
         ],
         "yaxis": "y2"
        },
        {
         "marker": {
          "color": "grey",
          "size": 7,
          "symbol": "x"
         },
         "mode": "markers",
         "name": " Train R²",
         "showlegend": true,
         "type": "scatter",
         "x": [
          null
         ],
         "xaxis": "x2",
         "y": [
          null
         ],
         "yaxis": "y2"
        },
        {
         "marker": {
          "color": "grey",
          "size": 7,
          "symbol": "square"
         },
         "mode": "markers",
         "name": "Validation R²",
         "showlegend": true,
         "type": "scatter",
         "x": [
          null
         ],
         "xaxis": "x2",
         "y": [
          null
         ],
         "yaxis": "y2"
        }
       ],
       "layout": {
        "annotations": [
         {
          "font": {
           "size": 16
          },
          "showarrow": false,
          "text": "Test Cases R²",
          "x": 0.3375,
          "xanchor": "center",
          "xref": "paper",
          "y": 1,
          "yanchor": "bottom",
          "yref": "paper"
         },
         {
          "font": {
           "size": 16
          },
          "showarrow": false,
          "text": "Train/Validation R² Scores",
          "x": 0.8875,
          "xanchor": "center",
          "xref": "paper",
          "y": 1,
          "yanchor": "bottom",
          "yref": "paper"
         }
        ],
        "height": 600,
        "legend": {
         "title": {
          "text": "na + nb + nd combination"
         }
        },
        "template": {
         "data": {
          "bar": [
           {
            "error_x": {
             "color": "#2a3f5f"
            },
            "error_y": {
             "color": "#2a3f5f"
            },
            "marker": {
             "line": {
              "color": "white",
              "width": 0.5
             },
             "pattern": {
              "fillmode": "overlay",
              "size": 10,
              "solidity": 0.2
             }
            },
            "type": "bar"
           }
          ],
          "barpolar": [
           {
            "marker": {
             "line": {
              "color": "white",
              "width": 0.5
             },
             "pattern": {
              "fillmode": "overlay",
              "size": 10,
              "solidity": 0.2
             }
            },
            "type": "barpolar"
           }
          ],
          "carpet": [
           {
            "aaxis": {
             "endlinecolor": "#2a3f5f",
             "gridcolor": "#C8D4E3",
             "linecolor": "#C8D4E3",
             "minorgridcolor": "#C8D4E3",
             "startlinecolor": "#2a3f5f"
            },
            "baxis": {
             "endlinecolor": "#2a3f5f",
             "gridcolor": "#C8D4E3",
             "linecolor": "#C8D4E3",
             "minorgridcolor": "#C8D4E3",
             "startlinecolor": "#2a3f5f"
            },
            "type": "carpet"
           }
          ],
          "choropleth": [
           {
            "colorbar": {
             "outlinewidth": 0,
             "ticks": ""
            },
            "type": "choropleth"
           }
          ],
          "contour": [
           {
            "colorbar": {
             "outlinewidth": 0,
             "ticks": ""
            },
            "colorscale": [
             [
              0,
              "#0d0887"
             ],
             [
              0.1111111111111111,
              "#46039f"
             ],
             [
              0.2222222222222222,
              "#7201a8"
             ],
             [
              0.3333333333333333,
              "#9c179e"
             ],
             [
              0.4444444444444444,
              "#bd3786"
             ],
             [
              0.5555555555555556,
              "#d8576b"
             ],
             [
              0.6666666666666666,
              "#ed7953"
             ],
             [
              0.7777777777777778,
              "#fb9f3a"
             ],
             [
              0.8888888888888888,
              "#fdca26"
             ],
             [
              1,
              "#f0f921"
             ]
            ],
            "type": "contour"
           }
          ],
          "contourcarpet": [
           {
            "colorbar": {
             "outlinewidth": 0,
             "ticks": ""
            },
            "type": "contourcarpet"
           }
          ],
          "heatmap": [
           {
            "colorbar": {
             "outlinewidth": 0,
             "ticks": ""
            },
            "colorscale": [
             [
              0,
              "#0d0887"
             ],
             [
              0.1111111111111111,
              "#46039f"
             ],
             [
              0.2222222222222222,
              "#7201a8"
             ],
             [
              0.3333333333333333,
              "#9c179e"
             ],
             [
              0.4444444444444444,
              "#bd3786"
             ],
             [
              0.5555555555555556,
              "#d8576b"
             ],
             [
              0.6666666666666666,
              "#ed7953"
             ],
             [
              0.7777777777777778,
              "#fb9f3a"
             ],
             [
              0.8888888888888888,
              "#fdca26"
             ],
             [
              1,
              "#f0f921"
             ]
            ],
            "type": "heatmap"
           }
          ],
          "heatmapgl": [
           {
            "colorbar": {
             "outlinewidth": 0,
             "ticks": ""
            },
            "colorscale": [
             [
              0,
              "#0d0887"
             ],
             [
              0.1111111111111111,
              "#46039f"
             ],
             [
              0.2222222222222222,
              "#7201a8"
             ],
             [
              0.3333333333333333,
              "#9c179e"
             ],
             [
              0.4444444444444444,
              "#bd3786"
             ],
             [
              0.5555555555555556,
              "#d8576b"
             ],
             [
              0.6666666666666666,
              "#ed7953"
             ],
             [
              0.7777777777777778,
              "#fb9f3a"
             ],
             [
              0.8888888888888888,
              "#fdca26"
             ],
             [
              1,
              "#f0f921"
             ]
            ],
            "type": "heatmapgl"
           }
          ],
          "histogram": [
           {
            "marker": {
             "pattern": {
              "fillmode": "overlay",
              "size": 10,
              "solidity": 0.2
             }
            },
            "type": "histogram"
           }
          ],
          "histogram2d": [
           {
            "colorbar": {
             "outlinewidth": 0,
             "ticks": ""
            },
            "colorscale": [
             [
              0,
              "#0d0887"
             ],
             [
              0.1111111111111111,
              "#46039f"
             ],
             [
              0.2222222222222222,
              "#7201a8"
             ],
             [
              0.3333333333333333,
              "#9c179e"
             ],
             [
              0.4444444444444444,
              "#bd3786"
             ],
             [
              0.5555555555555556,
              "#d8576b"
             ],
             [
              0.6666666666666666,
              "#ed7953"
             ],
             [
              0.7777777777777778,
              "#fb9f3a"
             ],
             [
              0.8888888888888888,
              "#fdca26"
             ],
             [
              1,
              "#f0f921"
             ]
            ],
            "type": "histogram2d"
           }
          ],
          "histogram2dcontour": [
           {
            "colorbar": {
             "outlinewidth": 0,
             "ticks": ""
            },
            "colorscale": [
             [
              0,
              "#0d0887"
             ],
             [
              0.1111111111111111,
              "#46039f"
             ],
             [
              0.2222222222222222,
              "#7201a8"
             ],
             [
              0.3333333333333333,
              "#9c179e"
             ],
             [
              0.4444444444444444,
              "#bd3786"
             ],
             [
              0.5555555555555556,
              "#d8576b"
             ],
             [
              0.6666666666666666,
              "#ed7953"
             ],
             [
              0.7777777777777778,
              "#fb9f3a"
             ],
             [
              0.8888888888888888,
              "#fdca26"
             ],
             [
              1,
              "#f0f921"
             ]
            ],
            "type": "histogram2dcontour"
           }
          ],
          "mesh3d": [
           {
            "colorbar": {
             "outlinewidth": 0,
             "ticks": ""
            },
            "type": "mesh3d"
           }
          ],
          "parcoords": [
           {
            "line": {
             "colorbar": {
              "outlinewidth": 0,
              "ticks": ""
             }
            },
            "type": "parcoords"
           }
          ],
          "pie": [
           {
            "automargin": true,
            "type": "pie"
           }
          ],
          "scatter": [
           {
            "fillpattern": {
             "fillmode": "overlay",
             "size": 10,
             "solidity": 0.2
            },
            "type": "scatter"
           }
          ],
          "scatter3d": [
           {
            "line": {
             "colorbar": {
              "outlinewidth": 0,
              "ticks": ""
             }
            },
            "marker": {
             "colorbar": {
              "outlinewidth": 0,
              "ticks": ""
             }
            },
            "type": "scatter3d"
           }
          ],
          "scattercarpet": [
           {
            "marker": {
             "colorbar": {
              "outlinewidth": 0,
              "ticks": ""
             }
            },
            "type": "scattercarpet"
           }
          ],
          "scattergeo": [
           {
            "marker": {
             "colorbar": {
              "outlinewidth": 0,
              "ticks": ""
             }
            },
            "type": "scattergeo"
           }
          ],
          "scattergl": [
           {
            "marker": {
             "colorbar": {
              "outlinewidth": 0,
              "ticks": ""
             }
            },
            "type": "scattergl"
           }
          ],
          "scattermapbox": [
           {
            "marker": {
             "colorbar": {
              "outlinewidth": 0,
              "ticks": ""
             }
            },
            "type": "scattermapbox"
           }
          ],
          "scatterpolar": [
           {
            "marker": {
             "colorbar": {
              "outlinewidth": 0,
              "ticks": ""
             }
            },
            "type": "scatterpolar"
           }
          ],
          "scatterpolargl": [
           {
            "marker": {
             "colorbar": {
              "outlinewidth": 0,
              "ticks": ""
             }
            },
            "type": "scatterpolargl"
           }
          ],
          "scatterternary": [
           {
            "marker": {
             "colorbar": {
              "outlinewidth": 0,
              "ticks": ""
             }
            },
            "type": "scatterternary"
           }
          ],
          "surface": [
           {
            "colorbar": {
             "outlinewidth": 0,
             "ticks": ""
            },
            "colorscale": [
             [
              0,
              "#0d0887"
             ],
             [
              0.1111111111111111,
              "#46039f"
             ],
             [
              0.2222222222222222,
              "#7201a8"
             ],
             [
              0.3333333333333333,
              "#9c179e"
             ],
             [
              0.4444444444444444,
              "#bd3786"
             ],
             [
              0.5555555555555556,
              "#d8576b"
             ],
             [
              0.6666666666666666,
              "#ed7953"
             ],
             [
              0.7777777777777778,
              "#fb9f3a"
             ],
             [
              0.8888888888888888,
              "#fdca26"
             ],
             [
              1,
              "#f0f921"
             ]
            ],
            "type": "surface"
           }
          ],
          "table": [
           {
            "cells": {
             "fill": {
              "color": "#EBF0F8"
             },
             "line": {
              "color": "white"
             }
            },
            "header": {
             "fill": {
              "color": "#C8D4E3"
             },
             "line": {
              "color": "white"
             }
            },
            "type": "table"
           }
          ]
         },
         "layout": {
          "annotationdefaults": {
           "arrowcolor": "#2a3f5f",
           "arrowhead": 0,
           "arrowwidth": 1
          },
          "autotypenumbers": "strict",
          "coloraxis": {
           "colorbar": {
            "outlinewidth": 0,
            "ticks": ""
           }
          },
          "colorscale": {
           "diverging": [
            [
             0,
             "#8e0152"
            ],
            [
             0.1,
             "#c51b7d"
            ],
            [
             0.2,
             "#de77ae"
            ],
            [
             0.3,
             "#f1b6da"
            ],
            [
             0.4,
             "#fde0ef"
            ],
            [
             0.5,
             "#f7f7f7"
            ],
            [
             0.6,
             "#e6f5d0"
            ],
            [
             0.7,
             "#b8e186"
            ],
            [
             0.8,
             "#7fbc41"
            ],
            [
             0.9,
             "#4d9221"
            ],
            [
             1,
             "#276419"
            ]
           ],
           "sequential": [
            [
             0,
             "#0d0887"
            ],
            [
             0.1111111111111111,
             "#46039f"
            ],
            [
             0.2222222222222222,
             "#7201a8"
            ],
            [
             0.3333333333333333,
             "#9c179e"
            ],
            [
             0.4444444444444444,
             "#bd3786"
            ],
            [
             0.5555555555555556,
             "#d8576b"
            ],
            [
             0.6666666666666666,
             "#ed7953"
            ],
            [
             0.7777777777777778,
             "#fb9f3a"
            ],
            [
             0.8888888888888888,
             "#fdca26"
            ],
            [
             1,
             "#f0f921"
            ]
           ],
           "sequentialminus": [
            [
             0,
             "#0d0887"
            ],
            [
             0.1111111111111111,
             "#46039f"
            ],
            [
             0.2222222222222222,
             "#7201a8"
            ],
            [
             0.3333333333333333,
             "#9c179e"
            ],
            [
             0.4444444444444444,
             "#bd3786"
            ],
            [
             0.5555555555555556,
             "#d8576b"
            ],
            [
             0.6666666666666666,
             "#ed7953"
            ],
            [
             0.7777777777777778,
             "#fb9f3a"
            ],
            [
             0.8888888888888888,
             "#fdca26"
            ],
            [
             1,
             "#f0f921"
            ]
           ]
          },
          "colorway": [
           "#636efa",
           "#EF553B",
           "#00cc96",
           "#ab63fa",
           "#FFA15A",
           "#19d3f3",
           "#FF6692",
           "#B6E880",
           "#FF97FF",
           "#FECB52"
          ],
          "font": {
           "color": "#2a3f5f"
          },
          "geo": {
           "bgcolor": "white",
           "lakecolor": "white",
           "landcolor": "white",
           "showlakes": true,
           "showland": true,
           "subunitcolor": "#C8D4E3"
          },
          "hoverlabel": {
           "align": "left"
          },
          "hovermode": "closest",
          "mapbox": {
           "style": "light"
          },
          "paper_bgcolor": "white",
          "plot_bgcolor": "white",
          "polar": {
           "angularaxis": {
            "gridcolor": "#EBF0F8",
            "linecolor": "#EBF0F8",
            "ticks": ""
           },
           "bgcolor": "white",
           "radialaxis": {
            "gridcolor": "#EBF0F8",
            "linecolor": "#EBF0F8",
            "ticks": ""
           }
          },
          "scene": {
           "xaxis": {
            "backgroundcolor": "white",
            "gridcolor": "#DFE8F3",
            "gridwidth": 2,
            "linecolor": "#EBF0F8",
            "showbackground": true,
            "ticks": "",
            "zerolinecolor": "#EBF0F8"
           },
           "yaxis": {
            "backgroundcolor": "white",
            "gridcolor": "#DFE8F3",
            "gridwidth": 2,
            "linecolor": "#EBF0F8",
            "showbackground": true,
            "ticks": "",
            "zerolinecolor": "#EBF0F8"
           },
           "zaxis": {
            "backgroundcolor": "white",
            "gridcolor": "#DFE8F3",
            "gridwidth": 2,
            "linecolor": "#EBF0F8",
            "showbackground": true,
            "ticks": "",
            "zerolinecolor": "#EBF0F8"
           }
          },
          "shapedefaults": {
           "line": {
            "color": "#2a3f5f"
           }
          },
          "ternary": {
           "aaxis": {
            "gridcolor": "#DFE8F3",
            "linecolor": "#A2B1C6",
            "ticks": ""
           },
           "baxis": {
            "gridcolor": "#DFE8F3",
            "linecolor": "#A2B1C6",
            "ticks": ""
           },
           "bgcolor": "white",
           "caxis": {
            "gridcolor": "#DFE8F3",
            "linecolor": "#A2B1C6",
            "ticks": ""
           }
          },
          "title": {
           "x": 0.05
          },
          "xaxis": {
           "automargin": true,
           "gridcolor": "#EBF0F8",
           "linecolor": "#EBF0F8",
           "ticks": "",
           "title": {
            "standoff": 15
           },
           "zerolinecolor": "#EBF0F8",
           "zerolinewidth": 2
          },
          "yaxis": {
           "automargin": true,
           "gridcolor": "#EBF0F8",
           "linecolor": "#EBF0F8",
           "ticks": "",
           "title": {
            "standoff": 15
           },
           "zerolinecolor": "#EBF0F8",
           "zerolinewidth": 2
          }
         }
        },
        "title": {
         "text": "Test R² Scores for Pitch Prediction Across Sea Conditions and Lags Combinations - Combined XGBoost Model for All DoFs"
        },
        "width": 1200,
        "xaxis": {
         "anchor": "y",
         "categoryarray": [
          "Tp = 4.5 s, Hs = 1 m",
          "Tp = 4.5 s, Hs = 2 m",
          "Tp = 6.8 s, Hs = 1 m",
          "Tp = 6.8 s, Hs = 2 m",
          "Tp = 6.8 s, Hs = 4 m",
          "Tp = 6.8 s, Hs = 6 m",
          "Tp = 6.8 s, Hs = 8 m",
          "Tp = 10.2 s, Hs = 1 m",
          "Tp = 10.2 s, Hs = 2 m",
          "Tp = 10.2 s, Hs = 4 m"
         ],
         "categoryorder": "array",
         "domain": [
          0,
          0.675
         ],
         "title": {
          "text": "Test Case"
         }
        },
        "xaxis2": {
         "anchor": "y2",
         "domain": [
          0.775,
          1
         ],
         "title": {
          "text": "Model Combination"
         }
        },
        "yaxis": {
         "anchor": "x",
         "domain": [
          0,
          1
         ],
         "title": {
          "text": "R² Score"
         }
        },
        "yaxis2": {
         "anchor": "x2",
         "domain": [
          0,
          1
         ],
         "range": [
          0,
          1
         ],
         "showgrid": true,
         "title": {
          "text": "Train/Validation R² Score"
         }
        }
       }
      }
     },
     "metadata": {},
     "output_type": "display_data"
    }
   ],
   "source": [
    "# Define your custom x-axis order\n",
    "custom_order = [\n",
    "    'T4p5s_Hs1m', \n",
    "    'T4p5s_Hs2m', \n",
    "    'Tp6p8s_Hs1m',\n",
    "    'Tp6p8s_Hs2m',\n",
    "    'Tp6p8s_Hs4m',\n",
    "    'Tp6p8s_Hs6m',\n",
    "    'Tp6p8s_Hs8m',\n",
    "    'T10p2s_Hs1m',\n",
    "    'Tp10p2_Hs2m',\n",
    "    'T10p2s_Hs4m'\n",
    "]\n",
    "pretty_custom_order = [test_case_pretty_map.get(tc, tc) for tc in custom_order]\n",
    "\n",
    "# Create color map to maintain consistent color for each `comment_value`\n",
    "color_map = {}\n",
    "\n",
    "# Create two subplots with independent y-axes\n",
    "fig = make_subplots(\n",
    "    rows=1, cols=2,\n",
    "    column_widths=[0.75, 0.25],\n",
    "    subplot_titles=(\"Test Cases R²\", \"Train/Validation R² Scores\"),\n",
    "    shared_yaxes=False  # Disable shared y-axes\n",
    ")\n",
    "\n",
    "for df_name, original_df  in dfs_xgb_3dof.items():\n",
    "    df = original_df.copy()\n",
    "    # Extract na, nb, nf from df_name\n",
    "    match = re.search(r'na(\\d+)_nb(\\d+)_nf(\\d+)', df_name)\n",
    "    if match:\n",
    "        na_val, nb_val, nf_val = match.groups()\n",
    "        comment_value = f'na={na_val}, nb={nb_val}, nd=-{nf_val}'\n",
    "    else:\n",
    "        comment_value = df_name\n",
    "\n",
    "    # Assign color to each unique comment_value if not already assigned\n",
    "    if comment_value not in color_map:\n",
    "        color_map[comment_value] = px.colors.qualitative.Plotly[len(color_map) % len(px.colors.qualitative.Plotly)]\n",
    "\n",
    "    # Find the correct test case column\n",
    "    if 'test case' in df.columns:\n",
    "        test_case_col = 'test case'\n",
    "    elif 'test_case' in df.columns:\n",
    "        test_case_col = 'test_case'\n",
    "    else:\n",
    "        raise ValueError(f\"No valid 'test_case' column found in {df_name}\")\n",
    "    \n",
    "    # Sort based on custom order\n",
    "    df[test_case_col] = pd.Categorical(df[test_case_col], categories=custom_order, ordered=True)\n",
    "    df[test_case_col] = df[test_case_col].map(test_case_pretty_map).astype('category')\n",
    "    df[test_case_col] = pd.Categorical(df[test_case_col], categories=pretty_custom_order, ordered=True)\n",
    "    df = df.sort_values(test_case_col)\n",
    "\n",
    "    # Plot the main line \n",
    "    fig.add_trace(\n",
    "        go.Scatter(\n",
    "            x=df[test_case_col],\n",
    "            y=df['r2_test_pitch'],  # Correct for\n",
    "            name=comment_value,\n",
    "            legendgroup=comment_value,\n",
    "            line=dict(color=color_map[comment_value])  # Use the assigned color\n",
    "        ),\n",
    "        row=1, col=1\n",
    "    )\n",
    "\n",
    "    # Now plot the train/val points from df_summary_pitch\n",
    "    summary_row = df_summary_pitch_xgb_3dof[(df_summary_pitch_xgb_3dof['na'] == int(na_val)) & \n",
    "                                      (df_summary_pitch_xgb_3dof['nb'] == int(nb_val)) &\n",
    "                                      (df_summary_pitch_xgb_3dof['nd'] == -int(nf_val))]\n",
    "\n",
    "                \n",
    "    if not summary_row.empty:\n",
    "        r2_train = summary_row['r2_train'].values[0]\n",
    "        r2_val = summary_row['r2_val'].values[0]\n",
    "\n",
    "        fig.add_trace(\n",
    "            go.Scatter(\n",
    "                x=[comment_value],\n",
    "                y=[r2_train],\n",
    "                mode='markers',\n",
    "                marker=dict(symbol='x', size=8, color=color_map[comment_value]),  # Use the assigned color\n",
    "                name=f'{comment_value} Train',\n",
    "                legendgroup=comment_value,\n",
    "                showlegend=False\n",
    "            ),\n",
    "            row=1, col=2\n",
    "        )\n",
    "\n",
    "        fig.add_trace(\n",
    "            go.Scatter(\n",
    "                x=[comment_value],\n",
    "                y=[r2_val],\n",
    "                mode='markers',\n",
    "                marker=dict(symbol='square', size=8, color=color_map[comment_value]),  # Use the assigned color\n",
    "                name=f'{comment_value} Val',\n",
    "                legendgroup=comment_value,\n",
    "                showlegend=False\n",
    "            ),\n",
    "            row=1, col=2\n",
    "        )\n",
    "# Add legend-only markers to clarify symbol meaning\n",
    "fig.add_trace(\n",
    "    go.Scatter(\n",
    "        x=[None], y=[None],\n",
    "        mode='markers',\n",
    "        marker=dict(symbol='x', size=7, color='grey'),\n",
    "        name=' Train R²',\n",
    "        showlegend=True\n",
    "    ),\n",
    "    row=1, col=2\n",
    ")\n",
    "\n",
    "fig.add_trace(\n",
    "    go.Scatter(\n",
    "        x=[None], y=[None],\n",
    "        mode='markers',\n",
    "        marker=dict(symbol='square', size=7, color='grey'),\n",
    "        name='Validation R²',\n",
    "        showlegend=True\n",
    "    ),\n",
    "    row=1, col=2\n",
    ")\n",
    "# Final layout adjustments\n",
    "fig.update_layout(\n",
    "    title=\"Test R² Scores for Pitch Prediction Across Sea Conditions and Lags Combinations - Combined XGBoost Model for All DoFs\",\n",
    "    xaxis_title=\"Test Case\",\n",
    "    xaxis2_title=\"Model Combination\",\n",
    "    yaxis_title=\"R² Score\",\n",
    "    template=\"plotly_white\",\n",
    "    height=600,\n",
    "    width=1200,\n",
    "    legend_title=\"na + nb + nd combination\",\n",
    "    xaxis=dict(\n",
    "        categoryorder='array',\n",
    "        categoryarray=pretty_custom_order\n",
    "    ),\n",
    "    # Adjust the zoom to fit the second plot\n",
    "    yaxis2=dict(\n",
    "        title=\"Train/Validation R² Score\",\n",
    "        range=[0, 1],  # You can adjust the range based on the data\n",
    "        showgrid=True\n",
    "    )\n",
    ")\n",
    "\n",
    "fig.show()\n"
   ]
  },
  {
   "cell_type": "code",
   "execution_count": 237,
   "id": "18ab02fd",
   "metadata": {},
   "outputs": [
    {
     "data": {
      "application/vnd.plotly.v1+json": {
       "config": {
        "plotlyServerURL": "https://plot.ly"
       },
       "data": [
        {
         "legendgroup": "na=2, nb=0, nd=-10",
         "line": {
          "color": "#636EFA"
         },
         "name": "na=2, nb=0, nd=-10",
         "type": "scatter",
         "x": [
          "Tp = 4.5 s, Hs = 1 m",
          "Tp = 4.5 s, Hs = 2 m",
          "Tp = 6.8 s, Hs = 1 m",
          "Tp = 6.8 s, Hs = 2 m",
          "Tp = 6.8 s, Hs = 4 m",
          "Tp = 6.8 s, Hs = 6 m",
          "Tp = 6.8 s, Hs = 8 m",
          "Tp = 10.2 s, Hs = 1 m",
          "Tp = 10.2 s, Hs = 2 m",
          "Tp = 10.2 s, Hs = 4 m"
         ],
         "xaxis": "x",
         "y": [
          -1.363882230593128,
          -1.6139294079042843,
          0.7986303055658954,
          0.8445520869757075,
          0.6417003723586219,
          0.5103990534625903,
          0.392253030814881,
          -0.9847023714041968,
          0.1523105874323389,
          0.0703759935230778
         ],
         "yaxis": "y"
        },
        {
         "legendgroup": "na=2, nb=0, nd=-10",
         "marker": {
          "color": "#636EFA",
          "size": 8,
          "symbol": "x"
         },
         "mode": "markers",
         "name": "na=2, nb=0, nd=-10 Train",
         "showlegend": false,
         "type": "scatter",
         "x": [
          "na=2, nb=0, nd=-10"
         ],
         "xaxis": "x2",
         "y": [
          0.84
         ],
         "yaxis": "y2"
        },
        {
         "legendgroup": "na=2, nb=0, nd=-10",
         "marker": {
          "color": "#636EFA",
          "size": 8,
          "symbol": "square"
         },
         "mode": "markers",
         "name": "na=2, nb=0, nd=-10 Val",
         "showlegend": false,
         "type": "scatter",
         "x": [
          "na=2, nb=0, nd=-10"
         ],
         "xaxis": "x2",
         "y": [
          0.841
         ],
         "yaxis": "y2"
        },
        {
         "legendgroup": "na=2, nb=1, nd=-9",
         "line": {
          "color": "#EF553B"
         },
         "name": "na=2, nb=1, nd=-9",
         "type": "scatter",
         "x": [
          "Tp = 4.5 s, Hs = 1 m",
          "Tp = 4.5 s, Hs = 2 m",
          "Tp = 6.8 s, Hs = 1 m",
          "Tp = 6.8 s, Hs = 2 m",
          "Tp = 6.8 s, Hs = 4 m",
          "Tp = 6.8 s, Hs = 6 m",
          "Tp = 6.8 s, Hs = 8 m",
          "Tp = 10.2 s, Hs = 1 m",
          "Tp = 10.2 s, Hs = 2 m",
          "Tp = 10.2 s, Hs = 4 m"
         ],
         "xaxis": "x",
         "y": [
          -1.681855891542341,
          -1.3259485208032098,
          0.7646814631080764,
          0.8585908018463453,
          0.6467936822251295,
          0.4863713820290644,
          0.3692009655581736,
          -1.1272021953789766,
          0.1315922787149578,
          0.1767775797012275
         ],
         "yaxis": "y"
        },
        {
         "legendgroup": "na=2, nb=1, nd=-9",
         "marker": {
          "color": "#EF553B",
          "size": 8,
          "symbol": "x"
         },
         "mode": "markers",
         "name": "na=2, nb=1, nd=-9 Train",
         "showlegend": false,
         "type": "scatter",
         "x": [
          "na=2, nb=1, nd=-9"
         ],
         "xaxis": "x2",
         "y": [
          0.853
         ],
         "yaxis": "y2"
        },
        {
         "legendgroup": "na=2, nb=1, nd=-9",
         "marker": {
          "color": "#EF553B",
          "size": 8,
          "symbol": "square"
         },
         "mode": "markers",
         "name": "na=2, nb=1, nd=-9 Val",
         "showlegend": false,
         "type": "scatter",
         "x": [
          "na=2, nb=1, nd=-9"
         ],
         "xaxis": "x2",
         "y": [
          0.846
         ],
         "yaxis": "y2"
        },
        {
         "legendgroup": "na=2, nb=2, nd=-8",
         "line": {
          "color": "#00CC96"
         },
         "name": "na=2, nb=2, nd=-8",
         "type": "scatter",
         "x": [
          "Tp = 4.5 s, Hs = 1 m",
          "Tp = 4.5 s, Hs = 2 m",
          "Tp = 6.8 s, Hs = 1 m",
          "Tp = 6.8 s, Hs = 2 m",
          "Tp = 6.8 s, Hs = 4 m",
          "Tp = 6.8 s, Hs = 6 m",
          "Tp = 6.8 s, Hs = 8 m",
          "Tp = 10.2 s, Hs = 1 m",
          "Tp = 10.2 s, Hs = 2 m",
          "Tp = 10.2 s, Hs = 4 m"
         ],
         "xaxis": "x",
         "y": [
          -1.747794097138375,
          -1.6189531540976896,
          0.7240472070732356,
          0.8541217639815251,
          0.6648799505044544,
          0.5006641387362092,
          0.3881183802481697,
          -0.8529812897989244,
          0.2405092908079007,
          0.2967053646934596
         ],
         "yaxis": "y"
        },
        {
         "legendgroup": "na=2, nb=2, nd=-8",
         "marker": {
          "color": "#00CC96",
          "size": 8,
          "symbol": "x"
         },
         "mode": "markers",
         "name": "na=2, nb=2, nd=-8 Train",
         "showlegend": false,
         "type": "scatter",
         "x": [
          "na=2, nb=2, nd=-8"
         ],
         "xaxis": "x2",
         "y": [
          0.855
         ],
         "yaxis": "y2"
        },
        {
         "legendgroup": "na=2, nb=2, nd=-8",
         "marker": {
          "color": "#00CC96",
          "size": 8,
          "symbol": "square"
         },
         "mode": "markers",
         "name": "na=2, nb=2, nd=-8 Val",
         "showlegend": false,
         "type": "scatter",
         "x": [
          "na=2, nb=2, nd=-8"
         ],
         "xaxis": "x2",
         "y": [
          0.841
         ],
         "yaxis": "y2"
        },
        {
         "legendgroup": "na=2, nb=3, nd=-7",
         "line": {
          "color": "#AB63FA"
         },
         "name": "na=2, nb=3, nd=-7",
         "type": "scatter",
         "x": [
          "Tp = 4.5 s, Hs = 1 m",
          "Tp = 4.5 s, Hs = 2 m",
          "Tp = 6.8 s, Hs = 1 m",
          "Tp = 6.8 s, Hs = 2 m",
          "Tp = 6.8 s, Hs = 4 m",
          "Tp = 6.8 s, Hs = 6 m",
          "Tp = 6.8 s, Hs = 8 m",
          "Tp = 10.2 s, Hs = 1 m",
          "Tp = 10.2 s, Hs = 2 m",
          "Tp = 10.2 s, Hs = 4 m"
         ],
         "xaxis": "x",
         "y": [
          -1.3062409725235629,
          -1.7375085564146755,
          0.7441059137589694,
          0.8647585148626307,
          0.6755323426765851,
          0.5066775997852917,
          0.3906396712369068,
          -0.8293221759074023,
          0.3006283015993443,
          0.391715584460601
         ],
         "yaxis": "y"
        },
        {
         "legendgroup": "na=2, nb=3, nd=-7",
         "marker": {
          "color": "#AB63FA",
          "size": 8,
          "symbol": "x"
         },
         "mode": "markers",
         "name": "na=2, nb=3, nd=-7 Train",
         "showlegend": false,
         "type": "scatter",
         "x": [
          "na=2, nb=3, nd=-7"
         ],
         "xaxis": "x2",
         "y": [
          0.852
         ],
         "yaxis": "y2"
        },
        {
         "legendgroup": "na=2, nb=3, nd=-7",
         "marker": {
          "color": "#AB63FA",
          "size": 8,
          "symbol": "square"
         },
         "mode": "markers",
         "name": "na=2, nb=3, nd=-7 Val",
         "showlegend": false,
         "type": "scatter",
         "x": [
          "na=2, nb=3, nd=-7"
         ],
         "xaxis": "x2",
         "y": [
          0.812
         ],
         "yaxis": "y2"
        },
        {
         "legendgroup": "na=2, nb=4, nd=-6",
         "line": {
          "color": "#FFA15A"
         },
         "name": "na=2, nb=4, nd=-6",
         "type": "scatter",
         "x": [
          "Tp = 4.5 s, Hs = 1 m",
          "Tp = 4.5 s, Hs = 2 m",
          "Tp = 6.8 s, Hs = 1 m",
          "Tp = 6.8 s, Hs = 2 m",
          "Tp = 6.8 s, Hs = 4 m",
          "Tp = 6.8 s, Hs = 6 m",
          "Tp = 6.8 s, Hs = 8 m",
          "Tp = 10.2 s, Hs = 1 m",
          "Tp = 10.2 s, Hs = 2 m",
          "Tp = 10.2 s, Hs = 4 m"
         ],
         "xaxis": "x",
         "y": [
          -1.6797136868595284,
          -1.4994867427704253,
          0.7365371509752754,
          0.853111420519771,
          0.6881714818772392,
          0.5193492586704423,
          0.3936652377449288,
          -0.7409283323819489,
          0.2349129427983628,
          0.4943673058307862
         ],
         "yaxis": "y"
        },
        {
         "legendgroup": "na=2, nb=4, nd=-6",
         "marker": {
          "color": "#FFA15A",
          "size": 8,
          "symbol": "x"
         },
         "mode": "markers",
         "name": "na=2, nb=4, nd=-6 Train",
         "showlegend": false,
         "type": "scatter",
         "x": [
          "na=2, nb=4, nd=-6"
         ],
         "xaxis": "x2",
         "y": [
          0.855
         ],
         "yaxis": "y2"
        },
        {
         "legendgroup": "na=2, nb=4, nd=-6",
         "marker": {
          "color": "#FFA15A",
          "size": 8,
          "symbol": "square"
         },
         "mode": "markers",
         "name": "na=2, nb=4, nd=-6 Val",
         "showlegend": false,
         "type": "scatter",
         "x": [
          "na=2, nb=4, nd=-6"
         ],
         "xaxis": "x2",
         "y": [
          0.839
         ],
         "yaxis": "y2"
        },
        {
         "marker": {
          "color": "grey",
          "size": 7,
          "symbol": "x"
         },
         "mode": "markers",
         "name": " Train R²",
         "showlegend": true,
         "type": "scatter",
         "x": [
          null
         ],
         "xaxis": "x2",
         "y": [
          null
         ],
         "yaxis": "y2"
        },
        {
         "marker": {
          "color": "grey",
          "size": 7,
          "symbol": "square"
         },
         "mode": "markers",
         "name": "Validation R²",
         "showlegend": true,
         "type": "scatter",
         "x": [
          null
         ],
         "xaxis": "x2",
         "y": [
          null
         ],
         "yaxis": "y2"
        }
       ],
       "layout": {
        "annotations": [
         {
          "font": {
           "size": 16
          },
          "showarrow": false,
          "text": "Test Cases R²",
          "x": 0.3375,
          "xanchor": "center",
          "xref": "paper",
          "y": 1,
          "yanchor": "bottom",
          "yref": "paper"
         },
         {
          "font": {
           "size": 16
          },
          "showarrow": false,
          "text": "Train/Validation R² Scores",
          "x": 0.8875,
          "xanchor": "center",
          "xref": "paper",
          "y": 1,
          "yanchor": "bottom",
          "yref": "paper"
         }
        ],
        "height": 600,
        "legend": {
         "title": {
          "text": "na + nb + nd combination"
         }
        },
        "template": {
         "data": {
          "bar": [
           {
            "error_x": {
             "color": "#2a3f5f"
            },
            "error_y": {
             "color": "#2a3f5f"
            },
            "marker": {
             "line": {
              "color": "white",
              "width": 0.5
             },
             "pattern": {
              "fillmode": "overlay",
              "size": 10,
              "solidity": 0.2
             }
            },
            "type": "bar"
           }
          ],
          "barpolar": [
           {
            "marker": {
             "line": {
              "color": "white",
              "width": 0.5
             },
             "pattern": {
              "fillmode": "overlay",
              "size": 10,
              "solidity": 0.2
             }
            },
            "type": "barpolar"
           }
          ],
          "carpet": [
           {
            "aaxis": {
             "endlinecolor": "#2a3f5f",
             "gridcolor": "#C8D4E3",
             "linecolor": "#C8D4E3",
             "minorgridcolor": "#C8D4E3",
             "startlinecolor": "#2a3f5f"
            },
            "baxis": {
             "endlinecolor": "#2a3f5f",
             "gridcolor": "#C8D4E3",
             "linecolor": "#C8D4E3",
             "minorgridcolor": "#C8D4E3",
             "startlinecolor": "#2a3f5f"
            },
            "type": "carpet"
           }
          ],
          "choropleth": [
           {
            "colorbar": {
             "outlinewidth": 0,
             "ticks": ""
            },
            "type": "choropleth"
           }
          ],
          "contour": [
           {
            "colorbar": {
             "outlinewidth": 0,
             "ticks": ""
            },
            "colorscale": [
             [
              0,
              "#0d0887"
             ],
             [
              0.1111111111111111,
              "#46039f"
             ],
             [
              0.2222222222222222,
              "#7201a8"
             ],
             [
              0.3333333333333333,
              "#9c179e"
             ],
             [
              0.4444444444444444,
              "#bd3786"
             ],
             [
              0.5555555555555556,
              "#d8576b"
             ],
             [
              0.6666666666666666,
              "#ed7953"
             ],
             [
              0.7777777777777778,
              "#fb9f3a"
             ],
             [
              0.8888888888888888,
              "#fdca26"
             ],
             [
              1,
              "#f0f921"
             ]
            ],
            "type": "contour"
           }
          ],
          "contourcarpet": [
           {
            "colorbar": {
             "outlinewidth": 0,
             "ticks": ""
            },
            "type": "contourcarpet"
           }
          ],
          "heatmap": [
           {
            "colorbar": {
             "outlinewidth": 0,
             "ticks": ""
            },
            "colorscale": [
             [
              0,
              "#0d0887"
             ],
             [
              0.1111111111111111,
              "#46039f"
             ],
             [
              0.2222222222222222,
              "#7201a8"
             ],
             [
              0.3333333333333333,
              "#9c179e"
             ],
             [
              0.4444444444444444,
              "#bd3786"
             ],
             [
              0.5555555555555556,
              "#d8576b"
             ],
             [
              0.6666666666666666,
              "#ed7953"
             ],
             [
              0.7777777777777778,
              "#fb9f3a"
             ],
             [
              0.8888888888888888,
              "#fdca26"
             ],
             [
              1,
              "#f0f921"
             ]
            ],
            "type": "heatmap"
           }
          ],
          "heatmapgl": [
           {
            "colorbar": {
             "outlinewidth": 0,
             "ticks": ""
            },
            "colorscale": [
             [
              0,
              "#0d0887"
             ],
             [
              0.1111111111111111,
              "#46039f"
             ],
             [
              0.2222222222222222,
              "#7201a8"
             ],
             [
              0.3333333333333333,
              "#9c179e"
             ],
             [
              0.4444444444444444,
              "#bd3786"
             ],
             [
              0.5555555555555556,
              "#d8576b"
             ],
             [
              0.6666666666666666,
              "#ed7953"
             ],
             [
              0.7777777777777778,
              "#fb9f3a"
             ],
             [
              0.8888888888888888,
              "#fdca26"
             ],
             [
              1,
              "#f0f921"
             ]
            ],
            "type": "heatmapgl"
           }
          ],
          "histogram": [
           {
            "marker": {
             "pattern": {
              "fillmode": "overlay",
              "size": 10,
              "solidity": 0.2
             }
            },
            "type": "histogram"
           }
          ],
          "histogram2d": [
           {
            "colorbar": {
             "outlinewidth": 0,
             "ticks": ""
            },
            "colorscale": [
             [
              0,
              "#0d0887"
             ],
             [
              0.1111111111111111,
              "#46039f"
             ],
             [
              0.2222222222222222,
              "#7201a8"
             ],
             [
              0.3333333333333333,
              "#9c179e"
             ],
             [
              0.4444444444444444,
              "#bd3786"
             ],
             [
              0.5555555555555556,
              "#d8576b"
             ],
             [
              0.6666666666666666,
              "#ed7953"
             ],
             [
              0.7777777777777778,
              "#fb9f3a"
             ],
             [
              0.8888888888888888,
              "#fdca26"
             ],
             [
              1,
              "#f0f921"
             ]
            ],
            "type": "histogram2d"
           }
          ],
          "histogram2dcontour": [
           {
            "colorbar": {
             "outlinewidth": 0,
             "ticks": ""
            },
            "colorscale": [
             [
              0,
              "#0d0887"
             ],
             [
              0.1111111111111111,
              "#46039f"
             ],
             [
              0.2222222222222222,
              "#7201a8"
             ],
             [
              0.3333333333333333,
              "#9c179e"
             ],
             [
              0.4444444444444444,
              "#bd3786"
             ],
             [
              0.5555555555555556,
              "#d8576b"
             ],
             [
              0.6666666666666666,
              "#ed7953"
             ],
             [
              0.7777777777777778,
              "#fb9f3a"
             ],
             [
              0.8888888888888888,
              "#fdca26"
             ],
             [
              1,
              "#f0f921"
             ]
            ],
            "type": "histogram2dcontour"
           }
          ],
          "mesh3d": [
           {
            "colorbar": {
             "outlinewidth": 0,
             "ticks": ""
            },
            "type": "mesh3d"
           }
          ],
          "parcoords": [
           {
            "line": {
             "colorbar": {
              "outlinewidth": 0,
              "ticks": ""
             }
            },
            "type": "parcoords"
           }
          ],
          "pie": [
           {
            "automargin": true,
            "type": "pie"
           }
          ],
          "scatter": [
           {
            "fillpattern": {
             "fillmode": "overlay",
             "size": 10,
             "solidity": 0.2
            },
            "type": "scatter"
           }
          ],
          "scatter3d": [
           {
            "line": {
             "colorbar": {
              "outlinewidth": 0,
              "ticks": ""
             }
            },
            "marker": {
             "colorbar": {
              "outlinewidth": 0,
              "ticks": ""
             }
            },
            "type": "scatter3d"
           }
          ],
          "scattercarpet": [
           {
            "marker": {
             "colorbar": {
              "outlinewidth": 0,
              "ticks": ""
             }
            },
            "type": "scattercarpet"
           }
          ],
          "scattergeo": [
           {
            "marker": {
             "colorbar": {
              "outlinewidth": 0,
              "ticks": ""
             }
            },
            "type": "scattergeo"
           }
          ],
          "scattergl": [
           {
            "marker": {
             "colorbar": {
              "outlinewidth": 0,
              "ticks": ""
             }
            },
            "type": "scattergl"
           }
          ],
          "scattermapbox": [
           {
            "marker": {
             "colorbar": {
              "outlinewidth": 0,
              "ticks": ""
             }
            },
            "type": "scattermapbox"
           }
          ],
          "scatterpolar": [
           {
            "marker": {
             "colorbar": {
              "outlinewidth": 0,
              "ticks": ""
             }
            },
            "type": "scatterpolar"
           }
          ],
          "scatterpolargl": [
           {
            "marker": {
             "colorbar": {
              "outlinewidth": 0,
              "ticks": ""
             }
            },
            "type": "scatterpolargl"
           }
          ],
          "scatterternary": [
           {
            "marker": {
             "colorbar": {
              "outlinewidth": 0,
              "ticks": ""
             }
            },
            "type": "scatterternary"
           }
          ],
          "surface": [
           {
            "colorbar": {
             "outlinewidth": 0,
             "ticks": ""
            },
            "colorscale": [
             [
              0,
              "#0d0887"
             ],
             [
              0.1111111111111111,
              "#46039f"
             ],
             [
              0.2222222222222222,
              "#7201a8"
             ],
             [
              0.3333333333333333,
              "#9c179e"
             ],
             [
              0.4444444444444444,
              "#bd3786"
             ],
             [
              0.5555555555555556,
              "#d8576b"
             ],
             [
              0.6666666666666666,
              "#ed7953"
             ],
             [
              0.7777777777777778,
              "#fb9f3a"
             ],
             [
              0.8888888888888888,
              "#fdca26"
             ],
             [
              1,
              "#f0f921"
             ]
            ],
            "type": "surface"
           }
          ],
          "table": [
           {
            "cells": {
             "fill": {
              "color": "#EBF0F8"
             },
             "line": {
              "color": "white"
             }
            },
            "header": {
             "fill": {
              "color": "#C8D4E3"
             },
             "line": {
              "color": "white"
             }
            },
            "type": "table"
           }
          ]
         },
         "layout": {
          "annotationdefaults": {
           "arrowcolor": "#2a3f5f",
           "arrowhead": 0,
           "arrowwidth": 1
          },
          "autotypenumbers": "strict",
          "coloraxis": {
           "colorbar": {
            "outlinewidth": 0,
            "ticks": ""
           }
          },
          "colorscale": {
           "diverging": [
            [
             0,
             "#8e0152"
            ],
            [
             0.1,
             "#c51b7d"
            ],
            [
             0.2,
             "#de77ae"
            ],
            [
             0.3,
             "#f1b6da"
            ],
            [
             0.4,
             "#fde0ef"
            ],
            [
             0.5,
             "#f7f7f7"
            ],
            [
             0.6,
             "#e6f5d0"
            ],
            [
             0.7,
             "#b8e186"
            ],
            [
             0.8,
             "#7fbc41"
            ],
            [
             0.9,
             "#4d9221"
            ],
            [
             1,
             "#276419"
            ]
           ],
           "sequential": [
            [
             0,
             "#0d0887"
            ],
            [
             0.1111111111111111,
             "#46039f"
            ],
            [
             0.2222222222222222,
             "#7201a8"
            ],
            [
             0.3333333333333333,
             "#9c179e"
            ],
            [
             0.4444444444444444,
             "#bd3786"
            ],
            [
             0.5555555555555556,
             "#d8576b"
            ],
            [
             0.6666666666666666,
             "#ed7953"
            ],
            [
             0.7777777777777778,
             "#fb9f3a"
            ],
            [
             0.8888888888888888,
             "#fdca26"
            ],
            [
             1,
             "#f0f921"
            ]
           ],
           "sequentialminus": [
            [
             0,
             "#0d0887"
            ],
            [
             0.1111111111111111,
             "#46039f"
            ],
            [
             0.2222222222222222,
             "#7201a8"
            ],
            [
             0.3333333333333333,
             "#9c179e"
            ],
            [
             0.4444444444444444,
             "#bd3786"
            ],
            [
             0.5555555555555556,
             "#d8576b"
            ],
            [
             0.6666666666666666,
             "#ed7953"
            ],
            [
             0.7777777777777778,
             "#fb9f3a"
            ],
            [
             0.8888888888888888,
             "#fdca26"
            ],
            [
             1,
             "#f0f921"
            ]
           ]
          },
          "colorway": [
           "#636efa",
           "#EF553B",
           "#00cc96",
           "#ab63fa",
           "#FFA15A",
           "#19d3f3",
           "#FF6692",
           "#B6E880",
           "#FF97FF",
           "#FECB52"
          ],
          "font": {
           "color": "#2a3f5f"
          },
          "geo": {
           "bgcolor": "white",
           "lakecolor": "white",
           "landcolor": "white",
           "showlakes": true,
           "showland": true,
           "subunitcolor": "#C8D4E3"
          },
          "hoverlabel": {
           "align": "left"
          },
          "hovermode": "closest",
          "mapbox": {
           "style": "light"
          },
          "paper_bgcolor": "white",
          "plot_bgcolor": "white",
          "polar": {
           "angularaxis": {
            "gridcolor": "#EBF0F8",
            "linecolor": "#EBF0F8",
            "ticks": ""
           },
           "bgcolor": "white",
           "radialaxis": {
            "gridcolor": "#EBF0F8",
            "linecolor": "#EBF0F8",
            "ticks": ""
           }
          },
          "scene": {
           "xaxis": {
            "backgroundcolor": "white",
            "gridcolor": "#DFE8F3",
            "gridwidth": 2,
            "linecolor": "#EBF0F8",
            "showbackground": true,
            "ticks": "",
            "zerolinecolor": "#EBF0F8"
           },
           "yaxis": {
            "backgroundcolor": "white",
            "gridcolor": "#DFE8F3",
            "gridwidth": 2,
            "linecolor": "#EBF0F8",
            "showbackground": true,
            "ticks": "",
            "zerolinecolor": "#EBF0F8"
           },
           "zaxis": {
            "backgroundcolor": "white",
            "gridcolor": "#DFE8F3",
            "gridwidth": 2,
            "linecolor": "#EBF0F8",
            "showbackground": true,
            "ticks": "",
            "zerolinecolor": "#EBF0F8"
           }
          },
          "shapedefaults": {
           "line": {
            "color": "#2a3f5f"
           }
          },
          "ternary": {
           "aaxis": {
            "gridcolor": "#DFE8F3",
            "linecolor": "#A2B1C6",
            "ticks": ""
           },
           "baxis": {
            "gridcolor": "#DFE8F3",
            "linecolor": "#A2B1C6",
            "ticks": ""
           },
           "bgcolor": "white",
           "caxis": {
            "gridcolor": "#DFE8F3",
            "linecolor": "#A2B1C6",
            "ticks": ""
           }
          },
          "title": {
           "x": 0.05
          },
          "xaxis": {
           "automargin": true,
           "gridcolor": "#EBF0F8",
           "linecolor": "#EBF0F8",
           "ticks": "",
           "title": {
            "standoff": 15
           },
           "zerolinecolor": "#EBF0F8",
           "zerolinewidth": 2
          },
          "yaxis": {
           "automargin": true,
           "gridcolor": "#EBF0F8",
           "linecolor": "#EBF0F8",
           "ticks": "",
           "title": {
            "standoff": 15
           },
           "zerolinecolor": "#EBF0F8",
           "zerolinewidth": 2
          }
         }
        },
        "title": {
         "text": "Test R² Scores for Pendulum Prediction Across Sea Conditions and Lags Combinations - Combined XGBoost Model for All DoFs"
        },
        "width": 1200,
        "xaxis": {
         "anchor": "y",
         "categoryarray": [
          "Tp = 4.5 s, Hs = 1 m",
          "Tp = 4.5 s, Hs = 2 m",
          "Tp = 6.8 s, Hs = 1 m",
          "Tp = 6.8 s, Hs = 2 m",
          "Tp = 6.8 s, Hs = 4 m",
          "Tp = 6.8 s, Hs = 6 m",
          "Tp = 6.8 s, Hs = 8 m",
          "Tp = 10.2 s, Hs = 1 m",
          "Tp = 10.2 s, Hs = 2 m",
          "Tp = 10.2 s, Hs = 4 m"
         ],
         "categoryorder": "array",
         "domain": [
          0,
          0.675
         ],
         "title": {
          "text": "Test Case"
         }
        },
        "xaxis2": {
         "anchor": "y2",
         "domain": [
          0.775,
          1
         ],
         "title": {
          "text": "Model Combination"
         }
        },
        "yaxis": {
         "anchor": "x",
         "domain": [
          0,
          1
         ],
         "range": [
          0,
          1
         ],
         "showgrid": true,
         "title": {
          "text": "Train/Validation R² Score"
         }
        },
        "yaxis2": {
         "anchor": "x2",
         "domain": [
          0,
          1
         ]
        }
       }
      }
     },
     "metadata": {},
     "output_type": "display_data"
    }
   ],
   "source": [
    "# Define your custom x-axis order\n",
    "custom_order = [\n",
    "    'T4p5s_Hs1m', \n",
    "    'T4p5s_Hs2m', \n",
    "    'Tp6p8s_Hs1m',\n",
    "    'Tp6p8s_Hs2m',\n",
    "    'Tp6p8s_Hs4m',\n",
    "    'Tp6p8s_Hs6m',\n",
    "    'Tp6p8s_Hs8m',\n",
    "    'T10p2s_Hs1m',\n",
    "    'Tp10p2_Hs2m',\n",
    "    'T10p2s_Hs4m'\n",
    "]\n",
    "pretty_custom_order = [test_case_pretty_map.get(tc, tc) for tc in custom_order]\n",
    "\n",
    "# Create color map to maintain consistent color for each `comment_value`\n",
    "color_map = {}\n",
    "\n",
    "# Create two subplots with independent y-axes\n",
    "fig = make_subplots(\n",
    "    rows=1, cols=2,\n",
    "    column_widths=[0.75, 0.25],\n",
    "    subplot_titles=(\"Test Cases R²\", \"Train/Validation R² Scores\"),\n",
    "    shared_yaxes=False  # Disable shared y-axes\n",
    ")\n",
    "\n",
    "for df_name, original_df  in dfs_xgb_3dof.items():\n",
    "    df = original_df.copy()\n",
    "\n",
    "    # Extract na, nb, nf from df_name\n",
    "    match = re.search(r'na(\\d+)_nb(\\d+)_nf(\\d+)', df_name)\n",
    "    if match:\n",
    "        na_val, nb_val, nf_val = match.groups()\n",
    "        comment_value = f'na={na_val}, nb={nb_val}, nd=-{nf_val}'\n",
    "    else:\n",
    "        comment_value = df_name\n",
    "\n",
    "    # Assign color to each unique comment_value if not already assigned\n",
    "    if comment_value not in color_map:\n",
    "        color_map[comment_value] = px.colors.qualitative.Plotly[len(color_map) % len(px.colors.qualitative.Plotly)]\n",
    "\n",
    "    # Find the correct test case column\n",
    "    if 'test case' in df.columns:\n",
    "        test_case_col = 'test case'\n",
    "    elif 'test_case' in df.columns:\n",
    "        test_case_col = 'test_case'\n",
    "    else:\n",
    "        raise ValueError(f\"No valid 'test_case' column found in {df_name}\")\n",
    "    \n",
    "    # Sort based on custom order\n",
    "    df[test_case_col] = pd.Categorical(df[test_case_col], categories=custom_order, ordered=True)\n",
    "    df[test_case_col] = df[test_case_col].map(test_case_pretty_map).astype('category')\n",
    "    df[test_case_col] = pd.Categorical(df[test_case_col], categories=pretty_custom_order, ordered=True)\n",
    "    df = df.sort_values(test_case_col)\n",
    "\n",
    "    # Plot the main line \n",
    "    fig.add_trace(\n",
    "        go.Scatter(\n",
    "            x=df[test_case_col],\n",
    "            y=df['r2_test_pendulum'],  # Correct for\n",
    "            name=comment_value,\n",
    "            legendgroup=comment_value,\n",
    "            line=dict(color=color_map[comment_value])  # Use the assigned color\n",
    "        ),\n",
    "        row=1, col=1\n",
    "    )\n",
    "\n",
    "    # Now plot the train/val points from df_summary_pitch\n",
    "    summary_row = df_summary_pendulum_xgb_3dof[(df_summary_pendulum_xgb_3dof['na'] == int(na_val)) & \n",
    "                                      (df_summary_pendulum_xgb_3dof['nb'] == int(nb_val)) &\n",
    "                                      (df_summary_pendulum_xgb_3dof['nd'] == -int(nf_val))]\n",
    "\n",
    "                \n",
    "    if not summary_row.empty:\n",
    "        r2_train = summary_row['r2_train'].values[0]\n",
    "        r2_val = summary_row['r2_val'].values[0]\n",
    "\n",
    "        fig.add_trace(\n",
    "            go.Scatter(\n",
    "                x=[comment_value],\n",
    "                y=[r2_train],\n",
    "                mode='markers',\n",
    "                marker=dict(symbol='x', size=8, color=color_map[comment_value]),  # Use the assigned color\n",
    "                name=f'{comment_value} Train',\n",
    "                legendgroup=comment_value,\n",
    "                showlegend=False\n",
    "            ),\n",
    "            row=1, col=2\n",
    "        )\n",
    "\n",
    "        fig.add_trace(\n",
    "            go.Scatter(\n",
    "                x=[comment_value],\n",
    "                y=[r2_val],\n",
    "                mode='markers',\n",
    "                marker=dict(symbol='square', size=8, color=color_map[comment_value]),  # Use the assigned color\n",
    "                name=f'{comment_value} Val',\n",
    "                legendgroup=comment_value,\n",
    "                showlegend=False\n",
    "            ),\n",
    "            row=1, col=2\n",
    "        )\n",
    "# Add legend-only markers to clarify symbol meaning\n",
    "fig.add_trace(\n",
    "    go.Scatter(\n",
    "        x=[None], y=[None],\n",
    "        mode='markers',\n",
    "        marker=dict(symbol='x', size=7, color='grey'),\n",
    "        name=' Train R²',\n",
    "        showlegend=True\n",
    "    ),\n",
    "    row=1, col=2\n",
    ")\n",
    "\n",
    "fig.add_trace(\n",
    "    go.Scatter(\n",
    "        x=[None], y=[None],\n",
    "        mode='markers',\n",
    "        marker=dict(symbol='square', size=7, color='grey'),\n",
    "        name='Validation R²',\n",
    "        showlegend=True\n",
    "    ),\n",
    "    row=1, col=2\n",
    ")\n",
    "# Final layout adjustments\n",
    "fig.update_layout(\n",
    "    title=\"Test R² Scores for Pendulum Prediction Across Sea Conditions and Lags Combinations - Combined XGBoost Model for All DoFs\",\n",
    "    xaxis_title=\"Test Case\",\n",
    "    xaxis2_title=\"Model Combination\",\n",
    "    yaxis_title=\"R² Score\",\n",
    "    template=\"plotly_white\",\n",
    "    height=600,\n",
    "    width=1200,\n",
    "    legend_title=\"na + nb + nd combination\",\n",
    "    xaxis=dict(\n",
    "        categoryorder='array',\n",
    "        categoryarray=pretty_custom_order\n",
    "    ),\n",
    "    # Adjust the zoom to fit the second plot\n",
    "    yaxis1=dict(\n",
    "        title=\"Train/Validation R² Score\",\n",
    "        range=[0, 1],  # You can adjust the range based on the data\n",
    "        showgrid=True\n",
    "    )\n",
    ")\n",
    "\n",
    "fig.show()\n"
   ]
  },
  {
   "cell_type": "markdown",
   "id": "0175b2dd",
   "metadata": {},
   "source": [
    "# XGBoost-NARX 1 Model for each DoF\n"
   ]
  },
  {
   "cell_type": "code",
   "execution_count": 240,
   "id": "66751810",
   "metadata": {},
   "outputs": [],
   "source": [
    "dfs_xgb_1dof = {}  # dictionary to store DataFrames"
   ]
  },
  {
   "cell_type": "code",
   "execution_count": 241,
   "id": "9a4a17cd",
   "metadata": {},
   "outputs": [],
   "source": [
    "# load heave data\n",
    "folder = \"Xgboost/results/1dof_model/heave/test_best_models/metrics/*.csv\"\n",
    "# Get all CSV files\n",
    "csv_files = sorted(glob.glob(folder))  # sort for consistent numbering\n",
    "\n",
    "# Load each CSV into a dynamically named variable\n",
    "\n",
    "for file_path in csv_files:\n",
    "    file_name = os.path.basename(file_path)  # Get filename (e.g., \"heave_case1.csv\")\n",
    "    file_base = os.path.splitext(file_name)[0]  # Remove '.csv', so just \"heave_case1\"\n",
    "    \n",
    "    df_name = file_base  # Use file_base as the dataframe name\n",
    "    dfs_xgb_1dof[df_name] = pd.read_csv(file_path)\n"
   ]
  },
  {
   "cell_type": "code",
   "execution_count": 242,
   "id": "8a960645",
   "metadata": {},
   "outputs": [],
   "source": [
    "# load pitch data\n",
    "folder = \"Xgboost/results/1dof_model/pitch/test_best_models/metrics/*.csv\"\n",
    "# Get all CSV files\n",
    "csv_files = sorted(glob.glob(folder))  # sort for consistent numbering\n",
    "\n",
    "# Load each CSV into a dynamically named variable\n",
    "\n",
    "for file_path in csv_files:\n",
    "    file_name = os.path.basename(file_path)  # Get filename (e.g., \"heave_case1.csv\")\n",
    "    file_base = os.path.splitext(file_name)[0]  # Remove '.csv', so just \"heave_case1\"\n",
    "    \n",
    "    df_name = file_base  # Use file_base as the dataframe name\n",
    "    dfs_xgb_1dof[df_name] = pd.read_csv(file_path)\n"
   ]
  },
  {
   "cell_type": "code",
   "execution_count": 243,
   "id": "efa4ac45",
   "metadata": {},
   "outputs": [],
   "source": [
    "# load pendulum data\n",
    "folder = \"Xgboost/results/1dof_model/pendulum/test_best_models/metrics/*.csv\"\n",
    "# Get all CSV files\n",
    "csv_files = sorted(glob.glob(folder))  # sort for consistent numbering\n",
    "\n",
    "# Load each CSV into a dynamically named variable\n",
    "\n",
    "for file_path in csv_files:\n",
    "    file_name = os.path.basename(file_path)  # Get filename (e.g., \"heave_case1.csv\")\n",
    "    file_base = os.path.splitext(file_name)[0]  # Remove '.csv', so just \"heave_case1\"\n",
    "    \n",
    "    df_name = file_base  # Use file_base as the dataframe name\n",
    "    dfs_xgb_1dof[df_name] = pd.read_csv(file_path)\n"
   ]
  },
  {
   "cell_type": "code",
   "execution_count": 244,
   "id": "7d0bda7f",
   "metadata": {},
   "outputs": [
    {
     "name": "stdout",
     "output_type": "stream",
     "text": [
      "metrics_Xgboost_heave_eta_only_na2_nb0_nf10.joblib: (10, 8)\n",
      "metrics_Xgboost_heave_eta_only_na2_nb0_nf11.joblib: (10, 8)\n",
      "metrics_Xgboost_heave_eta_only_na2_nb0_nf12.joblib: (10, 8)\n",
      "metrics_Xgboost_heave_eta_only_na2_nb0_nf13.joblib: (10, 8)\n",
      "metrics_Xgboost_heave_eta_only_na2_nb0_nf8.joblib: (10, 8)\n",
      "metrics_Xgboost_heave_eta_only_na2_nb0_nf9.joblib: (10, 8)\n",
      "metrics_pitch_Xgboost_pitch_ver2__na2_nb0_nf8.joblib: (10, 8)\n",
      "metrics_pitch_Xgboost_pitch_ver2__na2_nb4_nf4.joblib: (10, 8)\n",
      "metrics_pitch_Xgboost_pitch_ver2__na2_nb5_nf3.joblib: (10, 8)\n",
      "metrics_pitch_Xgboost_pitch_ver2__na2_nb6_nf2.joblib: (10, 8)\n",
      "metrics_pitch_Xgboost_pitch_ver2__na2_nb7_nf1.joblib: (10, 8)\n",
      "metrics_pendulum_Xgboost_pendulum_ver1__na2_nb9_nf1.joblib: (10, 8)\n",
      "metrics_pendulum_Xgboost_pendulum_ver2__na2_nb10_nf0.joblib: (10, 8)\n",
      "metrics_pendulum_Xgboost_pendulum_ver2__na2_nb8_nf2.joblib: (10, 8)\n"
     ]
    }
   ],
   "source": [
    "# Loop over all dfs to extract diffrent dfs\n",
    "for name, df in dfs_xgb_1dof.items():\n",
    "    print(f\"{name}: {df.shape}\")"
   ]
  },
  {
   "cell_type": "code",
   "execution_count": 245,
   "id": "b985b204",
   "metadata": {},
   "outputs": [
    {
     "name": "stdout",
     "output_type": "stream",
     "text": [
      "   nd  nb  na  r2_train  r2_val\n",
      "0  -8   0   2     0.922   0.928\n",
      "1  -9   0   2     0.925   0.930\n",
      "2 -10   0   2     0.929   0.935\n",
      "3 -11   0   2     0.926   0.934\n",
      "4 -12   0   2     0.931   0.940\n",
      "5 -13   0   2     0.929   0.938\n"
     ]
    }
   ],
   "source": [
    "# Define the data manually as a list of dictionaries\n",
    "data_heave_xgb_1dof = [\n",
    "    {'nd': -8, 'nb': 0, 'na': 2, 'r2_train': 0.922, 'r2_val': 0.928},\n",
    "    \n",
    "    {'nd': -9, 'nb': 0, 'na': 2, 'r2_train': 0.925, 'r2_val': 0.930},\n",
    "    \n",
    "    {'nd': -10, 'nb': 0, 'na': 2, 'r2_train': 0.929, 'r2_val': 0.935},\n",
    "    \n",
    "    {'nd': -11, 'nb': 0, 'na': 2, 'r2_train': 0.926, 'r2_val': 0.934},\n",
    "    \n",
    "    {'nd': -12, 'nb': 0, 'na': 2, 'r2_train': 0.931, 'r2_val': 0.940},\n",
    "\n",
    "    {'nd': -13, 'nb': 0, 'na': 2, 'r2_train': 0.929, 'r2_val': 0.938}\n",
    "\n",
    "    \n",
    "    \n",
    "    \n",
    "]\n",
    "# Create a DataFrame\n",
    "df_summary_heave_xgb_1dof = pd.DataFrame(data_heave_xgb_1dof)\n",
    "\n",
    "# Display it\n",
    "print(df_summary_heave_xgb_1dof)\n",
    "\n"
   ]
  },
  {
   "cell_type": "code",
   "execution_count": 246,
   "id": "7c1f0f18",
   "metadata": {},
   "outputs": [
    {
     "name": "stdout",
     "output_type": "stream",
     "text": [
      "   nd  nb  na  r2_train  r2_val\n",
      "0   0   8   2     0.781   0.793\n",
      "1  -1   7   2     0.803   0.785\n",
      "2  -2   6   2     0.801   0.790\n",
      "3  -3   5   2     0.802   0.788\n",
      "4  -4   4   2     0.794   0.772\n"
     ]
    }
   ],
   "source": [
    "# Define the data manually as a list of dictionaries\n",
    "data_pitch_xgb_1dof = [\n",
    "    {'nd': 0, 'nb': 8, 'na': 2, 'r2_train': 0.781, 'r2_val': 0.793},\n",
    "    \n",
    "    {'nd': -1, 'nb': 7, 'na': 2, 'r2_train': 0.803, 'r2_val': 0.785},\n",
    "    \n",
    "    {'nd': -2, 'nb': 6, 'na': 2, 'r2_train': 0.801, 'r2_val': 0.790},\n",
    "    \n",
    "    {'nd': -3, 'nb': 5, 'na': 2, 'r2_train': 0.802, 'r2_val': 0.788},\n",
    "    \n",
    "    {'nd': -4, 'nb': 4, 'na': 2, 'r2_train': 0.794, 'r2_val': 0.772}\n",
    "    \n",
    "    \n",
    "    \n",
    "    \n",
    "]\n",
    "# Create a DataFrame\n",
    "df_summary_pitch_xgb_1dof = pd.DataFrame(data_pitch_xgb_1dof)\n",
    "\n",
    "# Display it\n",
    "print(df_summary_pitch_xgb_1dof)"
   ]
  },
  {
   "cell_type": "code",
   "execution_count": 247,
   "id": "c44c1333",
   "metadata": {},
   "outputs": [
    {
     "name": "stdout",
     "output_type": "stream",
     "text": [
      "   nd  nb  na  r2_train  r2_val\n",
      "0  -2   8   2     0.632   0.631\n",
      "1  -1   9   2     0.650   0.632\n",
      "2   0  10   2     0.643   0.619\n"
     ]
    }
   ],
   "source": [
    "# Define the data manually as a list of dictionaries\n",
    "data_pendulum_xgb_1dof = [\n",
    "    {'nd': -2, 'nb': 8, 'na': 2, 'r2_train': 0.632, 'r2_val': 0.631},\n",
    "    \n",
    "    {'nd': -1, 'nb': 9, 'na': 2, 'r2_train': 0.650, 'r2_val': 0.632},\n",
    "    \n",
    "    {'nd': 0, 'nb': 10, 'na': 2, 'r2_train': 0.643, 'r2_val': 0.619}\n",
    "    \n",
    "    \n",
    "]\n",
    "# Create a DataFrame\n",
    "df_summary_pendulum_xgb_1dof = pd.DataFrame(data_pendulum_xgb_1dof)\n",
    "\n",
    "# Display it\n",
    "print(df_summary_pendulum_xgb_1dof)"
   ]
  },
  {
   "cell_type": "code",
   "execution_count": 248,
   "id": "eb344805",
   "metadata": {},
   "outputs": [
    {
     "data": {
      "application/vnd.plotly.v1+json": {
       "config": {
        "plotlyServerURL": "https://plot.ly"
       },
       "data": [
        {
         "legendgroup": "na=2, nb=0, nd=-10",
         "line": {
          "color": "#636EFA"
         },
         "mode": "lines+markers",
         "name": "na=2, nb=0, nd=-10",
         "type": "scatter",
         "x": [
          "Tp = 4.5 s, Hs = 1 m",
          "Tp = 4.5 s, Hs = 2 m",
          "Tp = 6.8 s, Hs = 1 m",
          "Tp = 6.8 s, Hs = 2 m",
          "Tp = 6.8 s, Hs = 4 m",
          "Tp = 6.8 s, Hs = 6 m",
          "Tp = 6.8 s, Hs = 8 m",
          "Tp = 10.2 s, Hs = 1 m",
          "Tp = 10.2 s, Hs = 2 m",
          "Tp = 10.2 s, Hs = 4 m"
         ],
         "xaxis": "x",
         "y": [
          0.1538053203578153,
          -0.1194064838120363,
          0.9452168885054438,
          0.9404563634301024,
          0.8247304456979427,
          0.6597920012628027,
          0.5092606749919979,
          0.9168086200753068,
          0.9326502784530964,
          0.837716684425563
         ],
         "yaxis": "y"
        },
        {
         "legendgroup": "na=2, nb=0, nd=-10",
         "marker": {
          "color": "#636EFA",
          "size": 8,
          "symbol": "x"
         },
         "mode": "markers",
         "name": "na=2, nb=0, nd=-10 Train",
         "showlegend": false,
         "type": "scatter",
         "x": [
          "na=2, nb=0, nd=-10"
         ],
         "xaxis": "x2",
         "y": [
          0.929
         ],
         "yaxis": "y2"
        },
        {
         "legendgroup": "na=2, nb=0, nd=-10",
         "marker": {
          "color": "#636EFA",
          "size": 8,
          "symbol": "square"
         },
         "mode": "markers",
         "name": "na=2, nb=0, nd=-10 Val",
         "showlegend": false,
         "type": "scatter",
         "x": [
          "na=2, nb=0, nd=-10"
         ],
         "xaxis": "x2",
         "y": [
          0.935
         ],
         "yaxis": "y2"
        },
        {
         "legendgroup": "na=2, nb=0, nd=-11",
         "line": {
          "color": "#EF553B"
         },
         "mode": "lines+markers",
         "name": "na=2, nb=0, nd=-11",
         "type": "scatter",
         "x": [
          "Tp = 4.5 s, Hs = 1 m",
          "Tp = 4.5 s, Hs = 2 m",
          "Tp = 6.8 s, Hs = 1 m",
          "Tp = 6.8 s, Hs = 2 m",
          "Tp = 6.8 s, Hs = 4 m",
          "Tp = 6.8 s, Hs = 6 m",
          "Tp = 6.8 s, Hs = 8 m",
          "Tp = 10.2 s, Hs = 1 m",
          "Tp = 10.2 s, Hs = 2 m",
          "Tp = 10.2 s, Hs = 4 m"
         ],
         "xaxis": "x",
         "y": [
          0.2283548840941894,
          -0.0650812913696348,
          0.9453325647551314,
          0.9353650904443274,
          0.8121011307650773,
          0.6426568520167338,
          0.4919112969172652,
          0.9140857345242532,
          0.9306784432868692,
          0.8355013163887538
         ],
         "yaxis": "y"
        },
        {
         "legendgroup": "na=2, nb=0, nd=-11",
         "marker": {
          "color": "#EF553B",
          "size": 8,
          "symbol": "x"
         },
         "mode": "markers",
         "name": "na=2, nb=0, nd=-11 Train",
         "showlegend": false,
         "type": "scatter",
         "x": [
          "na=2, nb=0, nd=-11"
         ],
         "xaxis": "x2",
         "y": [
          0.926
         ],
         "yaxis": "y2"
        },
        {
         "legendgroup": "na=2, nb=0, nd=-11",
         "marker": {
          "color": "#EF553B",
          "size": 8,
          "symbol": "square"
         },
         "mode": "markers",
         "name": "na=2, nb=0, nd=-11 Val",
         "showlegend": false,
         "type": "scatter",
         "x": [
          "na=2, nb=0, nd=-11"
         ],
         "xaxis": "x2",
         "y": [
          0.934
         ],
         "yaxis": "y2"
        },
        {
         "legendgroup": "na=2, nb=0, nd=-12",
         "line": {
          "color": "#00CC96"
         },
         "mode": "lines+markers",
         "name": "na=2, nb=0, nd=-12",
         "type": "scatter",
         "x": [
          "Tp = 4.5 s, Hs = 1 m",
          "Tp = 4.5 s, Hs = 2 m",
          "Tp = 6.8 s, Hs = 1 m",
          "Tp = 6.8 s, Hs = 2 m",
          "Tp = 6.8 s, Hs = 4 m",
          "Tp = 6.8 s, Hs = 6 m",
          "Tp = 6.8 s, Hs = 8 m",
          "Tp = 10.2 s, Hs = 1 m",
          "Tp = 10.2 s, Hs = 2 m",
          "Tp = 10.2 s, Hs = 4 m"
         ],
         "xaxis": "x",
         "y": [
          0.1850090263829737,
          0.0084345072242851,
          0.9575864184388512,
          0.9391121126573916,
          0.817579045526905,
          0.6488656244485222,
          0.496560963301705,
          0.9342614531277628,
          0.9389732622208364,
          0.836064855911238
         ],
         "yaxis": "y"
        },
        {
         "legendgroup": "na=2, nb=0, nd=-12",
         "marker": {
          "color": "#00CC96",
          "size": 8,
          "symbol": "x"
         },
         "mode": "markers",
         "name": "na=2, nb=0, nd=-12 Train",
         "showlegend": false,
         "type": "scatter",
         "x": [
          "na=2, nb=0, nd=-12"
         ],
         "xaxis": "x2",
         "y": [
          0.931
         ],
         "yaxis": "y2"
        },
        {
         "legendgroup": "na=2, nb=0, nd=-12",
         "marker": {
          "color": "#00CC96",
          "size": 8,
          "symbol": "square"
         },
         "mode": "markers",
         "name": "na=2, nb=0, nd=-12 Val",
         "showlegend": false,
         "type": "scatter",
         "x": [
          "na=2, nb=0, nd=-12"
         ],
         "xaxis": "x2",
         "y": [
          0.94
         ],
         "yaxis": "y2"
        },
        {
         "legendgroup": "na=2, nb=0, nd=-13",
         "line": {
          "color": "#AB63FA"
         },
         "mode": "lines+markers",
         "name": "na=2, nb=0, nd=-13",
         "type": "scatter",
         "x": [
          "Tp = 4.5 s, Hs = 1 m",
          "Tp = 4.5 s, Hs = 2 m",
          "Tp = 6.8 s, Hs = 1 m",
          "Tp = 6.8 s, Hs = 2 m",
          "Tp = 6.8 s, Hs = 4 m",
          "Tp = 6.8 s, Hs = 6 m",
          "Tp = 6.8 s, Hs = 8 m",
          "Tp = 10.2 s, Hs = 1 m",
          "Tp = 10.2 s, Hs = 2 m",
          "Tp = 10.2 s, Hs = 4 m"
         ],
         "xaxis": "x",
         "y": [
          0.2812541559711962,
          -0.0253498744473945,
          0.9417196447025112,
          0.9419818213586326,
          0.8181174431109345,
          0.6494983784423753,
          0.4973959122809136,
          0.911239519970247,
          0.9334232747144402,
          0.8358911194744199
         ],
         "yaxis": "y"
        },
        {
         "legendgroup": "na=2, nb=0, nd=-13",
         "marker": {
          "color": "#AB63FA",
          "size": 8,
          "symbol": "x"
         },
         "mode": "markers",
         "name": "na=2, nb=0, nd=-13 Train",
         "showlegend": false,
         "type": "scatter",
         "x": [
          "na=2, nb=0, nd=-13"
         ],
         "xaxis": "x2",
         "y": [
          0.929
         ],
         "yaxis": "y2"
        },
        {
         "legendgroup": "na=2, nb=0, nd=-13",
         "marker": {
          "color": "#AB63FA",
          "size": 8,
          "symbol": "square"
         },
         "mode": "markers",
         "name": "na=2, nb=0, nd=-13 Val",
         "showlegend": false,
         "type": "scatter",
         "x": [
          "na=2, nb=0, nd=-13"
         ],
         "xaxis": "x2",
         "y": [
          0.938
         ],
         "yaxis": "y2"
        },
        {
         "legendgroup": "na=2, nb=0, nd=-8",
         "line": {
          "color": "#FFA15A"
         },
         "mode": "lines+markers",
         "name": "na=2, nb=0, nd=-8",
         "type": "scatter",
         "x": [
          "Tp = 4.5 s, Hs = 1 m",
          "Tp = 4.5 s, Hs = 2 m",
          "Tp = 6.8 s, Hs = 1 m",
          "Tp = 6.8 s, Hs = 2 m",
          "Tp = 6.8 s, Hs = 4 m",
          "Tp = 6.8 s, Hs = 6 m",
          "Tp = 6.8 s, Hs = 8 m",
          "Tp = 10.2 s, Hs = 1 m",
          "Tp = 10.2 s, Hs = 2 m",
          "Tp = 10.2 s, Hs = 4 m"
         ],
         "xaxis": "x",
         "y": [
          0.1363740107966626,
          -0.1340736641639373,
          0.9357613719157868,
          0.9333582781440288,
          0.8182821905756227,
          0.6555457025384028,
          0.5048177386061607,
          0.9205844508236952,
          0.9250404260021156,
          0.8350962020084985
         ],
         "yaxis": "y"
        },
        {
         "legendgroup": "na=2, nb=0, nd=-8",
         "marker": {
          "color": "#FFA15A",
          "size": 8,
          "symbol": "x"
         },
         "mode": "markers",
         "name": "na=2, nb=0, nd=-8 Train",
         "showlegend": false,
         "type": "scatter",
         "x": [
          "na=2, nb=0, nd=-8"
         ],
         "xaxis": "x2",
         "y": [
          0.922
         ],
         "yaxis": "y2"
        },
        {
         "legendgroup": "na=2, nb=0, nd=-8",
         "marker": {
          "color": "#FFA15A",
          "size": 8,
          "symbol": "square"
         },
         "mode": "markers",
         "name": "na=2, nb=0, nd=-8 Val",
         "showlegend": false,
         "type": "scatter",
         "x": [
          "na=2, nb=0, nd=-8"
         ],
         "xaxis": "x2",
         "y": [
          0.928
         ],
         "yaxis": "y2"
        },
        {
         "legendgroup": "na=2, nb=0, nd=-9",
         "line": {
          "color": "#19D3F3"
         },
         "mode": "lines+markers",
         "name": "na=2, nb=0, nd=-9",
         "type": "scatter",
         "x": [
          "Tp = 4.5 s, Hs = 1 m",
          "Tp = 4.5 s, Hs = 2 m",
          "Tp = 6.8 s, Hs = 1 m",
          "Tp = 6.8 s, Hs = 2 m",
          "Tp = 6.8 s, Hs = 4 m",
          "Tp = 6.8 s, Hs = 6 m",
          "Tp = 6.8 s, Hs = 8 m",
          "Tp = 10.2 s, Hs = 1 m",
          "Tp = 10.2 s, Hs = 2 m",
          "Tp = 10.2 s, Hs = 4 m"
         ],
         "xaxis": "x",
         "y": [
          0.129620449265975,
          -0.1664124542502192,
          0.9427699498698217,
          0.9351600308143212,
          0.8224268134386097,
          0.6585754782732571,
          0.506819629843225,
          0.9143590560206998,
          0.9280181058964544,
          0.8357183332814254
         ],
         "yaxis": "y"
        },
        {
         "legendgroup": "na=2, nb=0, nd=-9",
         "marker": {
          "color": "#19D3F3",
          "size": 8,
          "symbol": "x"
         },
         "mode": "markers",
         "name": "na=2, nb=0, nd=-9 Train",
         "showlegend": false,
         "type": "scatter",
         "x": [
          "na=2, nb=0, nd=-9"
         ],
         "xaxis": "x2",
         "y": [
          0.925
         ],
         "yaxis": "y2"
        },
        {
         "legendgroup": "na=2, nb=0, nd=-9",
         "marker": {
          "color": "#19D3F3",
          "size": 8,
          "symbol": "square"
         },
         "mode": "markers",
         "name": "na=2, nb=0, nd=-9 Val",
         "showlegend": false,
         "type": "scatter",
         "x": [
          "na=2, nb=0, nd=-9"
         ],
         "xaxis": "x2",
         "y": [
          0.93
         ],
         "yaxis": "y2"
        },
        {
         "marker": {
          "color": "grey",
          "size": 7,
          "symbol": "x"
         },
         "mode": "markers",
         "name": " Train R²",
         "showlegend": true,
         "type": "scatter",
         "x": [
          null
         ],
         "xaxis": "x2",
         "y": [
          null
         ],
         "yaxis": "y2"
        },
        {
         "marker": {
          "color": "grey",
          "size": 7,
          "symbol": "square"
         },
         "mode": "markers",
         "name": "Validation R²",
         "showlegend": true,
         "type": "scatter",
         "x": [
          null
         ],
         "xaxis": "x2",
         "y": [
          null
         ],
         "yaxis": "y2"
        }
       ],
       "layout": {
        "annotations": [
         {
          "font": {
           "size": 16
          },
          "showarrow": false,
          "text": "Test Cases R²",
          "x": 0.3375,
          "xanchor": "center",
          "xref": "paper",
          "y": 1,
          "yanchor": "bottom",
          "yref": "paper"
         },
         {
          "font": {
           "size": 16
          },
          "showarrow": false,
          "text": "Train/Validation R² Scores",
          "x": 0.8875,
          "xanchor": "center",
          "xref": "paper",
          "y": 1,
          "yanchor": "bottom",
          "yref": "paper"
         }
        ],
        "height": 600,
        "legend": {
         "title": {
          "text": "na + nb + nd combination"
         }
        },
        "template": {
         "data": {
          "bar": [
           {
            "error_x": {
             "color": "#2a3f5f"
            },
            "error_y": {
             "color": "#2a3f5f"
            },
            "marker": {
             "line": {
              "color": "white",
              "width": 0.5
             },
             "pattern": {
              "fillmode": "overlay",
              "size": 10,
              "solidity": 0.2
             }
            },
            "type": "bar"
           }
          ],
          "barpolar": [
           {
            "marker": {
             "line": {
              "color": "white",
              "width": 0.5
             },
             "pattern": {
              "fillmode": "overlay",
              "size": 10,
              "solidity": 0.2
             }
            },
            "type": "barpolar"
           }
          ],
          "carpet": [
           {
            "aaxis": {
             "endlinecolor": "#2a3f5f",
             "gridcolor": "#C8D4E3",
             "linecolor": "#C8D4E3",
             "minorgridcolor": "#C8D4E3",
             "startlinecolor": "#2a3f5f"
            },
            "baxis": {
             "endlinecolor": "#2a3f5f",
             "gridcolor": "#C8D4E3",
             "linecolor": "#C8D4E3",
             "minorgridcolor": "#C8D4E3",
             "startlinecolor": "#2a3f5f"
            },
            "type": "carpet"
           }
          ],
          "choropleth": [
           {
            "colorbar": {
             "outlinewidth": 0,
             "ticks": ""
            },
            "type": "choropleth"
           }
          ],
          "contour": [
           {
            "colorbar": {
             "outlinewidth": 0,
             "ticks": ""
            },
            "colorscale": [
             [
              0,
              "#0d0887"
             ],
             [
              0.1111111111111111,
              "#46039f"
             ],
             [
              0.2222222222222222,
              "#7201a8"
             ],
             [
              0.3333333333333333,
              "#9c179e"
             ],
             [
              0.4444444444444444,
              "#bd3786"
             ],
             [
              0.5555555555555556,
              "#d8576b"
             ],
             [
              0.6666666666666666,
              "#ed7953"
             ],
             [
              0.7777777777777778,
              "#fb9f3a"
             ],
             [
              0.8888888888888888,
              "#fdca26"
             ],
             [
              1,
              "#f0f921"
             ]
            ],
            "type": "contour"
           }
          ],
          "contourcarpet": [
           {
            "colorbar": {
             "outlinewidth": 0,
             "ticks": ""
            },
            "type": "contourcarpet"
           }
          ],
          "heatmap": [
           {
            "colorbar": {
             "outlinewidth": 0,
             "ticks": ""
            },
            "colorscale": [
             [
              0,
              "#0d0887"
             ],
             [
              0.1111111111111111,
              "#46039f"
             ],
             [
              0.2222222222222222,
              "#7201a8"
             ],
             [
              0.3333333333333333,
              "#9c179e"
             ],
             [
              0.4444444444444444,
              "#bd3786"
             ],
             [
              0.5555555555555556,
              "#d8576b"
             ],
             [
              0.6666666666666666,
              "#ed7953"
             ],
             [
              0.7777777777777778,
              "#fb9f3a"
             ],
             [
              0.8888888888888888,
              "#fdca26"
             ],
             [
              1,
              "#f0f921"
             ]
            ],
            "type": "heatmap"
           }
          ],
          "heatmapgl": [
           {
            "colorbar": {
             "outlinewidth": 0,
             "ticks": ""
            },
            "colorscale": [
             [
              0,
              "#0d0887"
             ],
             [
              0.1111111111111111,
              "#46039f"
             ],
             [
              0.2222222222222222,
              "#7201a8"
             ],
             [
              0.3333333333333333,
              "#9c179e"
             ],
             [
              0.4444444444444444,
              "#bd3786"
             ],
             [
              0.5555555555555556,
              "#d8576b"
             ],
             [
              0.6666666666666666,
              "#ed7953"
             ],
             [
              0.7777777777777778,
              "#fb9f3a"
             ],
             [
              0.8888888888888888,
              "#fdca26"
             ],
             [
              1,
              "#f0f921"
             ]
            ],
            "type": "heatmapgl"
           }
          ],
          "histogram": [
           {
            "marker": {
             "pattern": {
              "fillmode": "overlay",
              "size": 10,
              "solidity": 0.2
             }
            },
            "type": "histogram"
           }
          ],
          "histogram2d": [
           {
            "colorbar": {
             "outlinewidth": 0,
             "ticks": ""
            },
            "colorscale": [
             [
              0,
              "#0d0887"
             ],
             [
              0.1111111111111111,
              "#46039f"
             ],
             [
              0.2222222222222222,
              "#7201a8"
             ],
             [
              0.3333333333333333,
              "#9c179e"
             ],
             [
              0.4444444444444444,
              "#bd3786"
             ],
             [
              0.5555555555555556,
              "#d8576b"
             ],
             [
              0.6666666666666666,
              "#ed7953"
             ],
             [
              0.7777777777777778,
              "#fb9f3a"
             ],
             [
              0.8888888888888888,
              "#fdca26"
             ],
             [
              1,
              "#f0f921"
             ]
            ],
            "type": "histogram2d"
           }
          ],
          "histogram2dcontour": [
           {
            "colorbar": {
             "outlinewidth": 0,
             "ticks": ""
            },
            "colorscale": [
             [
              0,
              "#0d0887"
             ],
             [
              0.1111111111111111,
              "#46039f"
             ],
             [
              0.2222222222222222,
              "#7201a8"
             ],
             [
              0.3333333333333333,
              "#9c179e"
             ],
             [
              0.4444444444444444,
              "#bd3786"
             ],
             [
              0.5555555555555556,
              "#d8576b"
             ],
             [
              0.6666666666666666,
              "#ed7953"
             ],
             [
              0.7777777777777778,
              "#fb9f3a"
             ],
             [
              0.8888888888888888,
              "#fdca26"
             ],
             [
              1,
              "#f0f921"
             ]
            ],
            "type": "histogram2dcontour"
           }
          ],
          "mesh3d": [
           {
            "colorbar": {
             "outlinewidth": 0,
             "ticks": ""
            },
            "type": "mesh3d"
           }
          ],
          "parcoords": [
           {
            "line": {
             "colorbar": {
              "outlinewidth": 0,
              "ticks": ""
             }
            },
            "type": "parcoords"
           }
          ],
          "pie": [
           {
            "automargin": true,
            "type": "pie"
           }
          ],
          "scatter": [
           {
            "fillpattern": {
             "fillmode": "overlay",
             "size": 10,
             "solidity": 0.2
            },
            "type": "scatter"
           }
          ],
          "scatter3d": [
           {
            "line": {
             "colorbar": {
              "outlinewidth": 0,
              "ticks": ""
             }
            },
            "marker": {
             "colorbar": {
              "outlinewidth": 0,
              "ticks": ""
             }
            },
            "type": "scatter3d"
           }
          ],
          "scattercarpet": [
           {
            "marker": {
             "colorbar": {
              "outlinewidth": 0,
              "ticks": ""
             }
            },
            "type": "scattercarpet"
           }
          ],
          "scattergeo": [
           {
            "marker": {
             "colorbar": {
              "outlinewidth": 0,
              "ticks": ""
             }
            },
            "type": "scattergeo"
           }
          ],
          "scattergl": [
           {
            "marker": {
             "colorbar": {
              "outlinewidth": 0,
              "ticks": ""
             }
            },
            "type": "scattergl"
           }
          ],
          "scattermapbox": [
           {
            "marker": {
             "colorbar": {
              "outlinewidth": 0,
              "ticks": ""
             }
            },
            "type": "scattermapbox"
           }
          ],
          "scatterpolar": [
           {
            "marker": {
             "colorbar": {
              "outlinewidth": 0,
              "ticks": ""
             }
            },
            "type": "scatterpolar"
           }
          ],
          "scatterpolargl": [
           {
            "marker": {
             "colorbar": {
              "outlinewidth": 0,
              "ticks": ""
             }
            },
            "type": "scatterpolargl"
           }
          ],
          "scatterternary": [
           {
            "marker": {
             "colorbar": {
              "outlinewidth": 0,
              "ticks": ""
             }
            },
            "type": "scatterternary"
           }
          ],
          "surface": [
           {
            "colorbar": {
             "outlinewidth": 0,
             "ticks": ""
            },
            "colorscale": [
             [
              0,
              "#0d0887"
             ],
             [
              0.1111111111111111,
              "#46039f"
             ],
             [
              0.2222222222222222,
              "#7201a8"
             ],
             [
              0.3333333333333333,
              "#9c179e"
             ],
             [
              0.4444444444444444,
              "#bd3786"
             ],
             [
              0.5555555555555556,
              "#d8576b"
             ],
             [
              0.6666666666666666,
              "#ed7953"
             ],
             [
              0.7777777777777778,
              "#fb9f3a"
             ],
             [
              0.8888888888888888,
              "#fdca26"
             ],
             [
              1,
              "#f0f921"
             ]
            ],
            "type": "surface"
           }
          ],
          "table": [
           {
            "cells": {
             "fill": {
              "color": "#EBF0F8"
             },
             "line": {
              "color": "white"
             }
            },
            "header": {
             "fill": {
              "color": "#C8D4E3"
             },
             "line": {
              "color": "white"
             }
            },
            "type": "table"
           }
          ]
         },
         "layout": {
          "annotationdefaults": {
           "arrowcolor": "#2a3f5f",
           "arrowhead": 0,
           "arrowwidth": 1
          },
          "autotypenumbers": "strict",
          "coloraxis": {
           "colorbar": {
            "outlinewidth": 0,
            "ticks": ""
           }
          },
          "colorscale": {
           "diverging": [
            [
             0,
             "#8e0152"
            ],
            [
             0.1,
             "#c51b7d"
            ],
            [
             0.2,
             "#de77ae"
            ],
            [
             0.3,
             "#f1b6da"
            ],
            [
             0.4,
             "#fde0ef"
            ],
            [
             0.5,
             "#f7f7f7"
            ],
            [
             0.6,
             "#e6f5d0"
            ],
            [
             0.7,
             "#b8e186"
            ],
            [
             0.8,
             "#7fbc41"
            ],
            [
             0.9,
             "#4d9221"
            ],
            [
             1,
             "#276419"
            ]
           ],
           "sequential": [
            [
             0,
             "#0d0887"
            ],
            [
             0.1111111111111111,
             "#46039f"
            ],
            [
             0.2222222222222222,
             "#7201a8"
            ],
            [
             0.3333333333333333,
             "#9c179e"
            ],
            [
             0.4444444444444444,
             "#bd3786"
            ],
            [
             0.5555555555555556,
             "#d8576b"
            ],
            [
             0.6666666666666666,
             "#ed7953"
            ],
            [
             0.7777777777777778,
             "#fb9f3a"
            ],
            [
             0.8888888888888888,
             "#fdca26"
            ],
            [
             1,
             "#f0f921"
            ]
           ],
           "sequentialminus": [
            [
             0,
             "#0d0887"
            ],
            [
             0.1111111111111111,
             "#46039f"
            ],
            [
             0.2222222222222222,
             "#7201a8"
            ],
            [
             0.3333333333333333,
             "#9c179e"
            ],
            [
             0.4444444444444444,
             "#bd3786"
            ],
            [
             0.5555555555555556,
             "#d8576b"
            ],
            [
             0.6666666666666666,
             "#ed7953"
            ],
            [
             0.7777777777777778,
             "#fb9f3a"
            ],
            [
             0.8888888888888888,
             "#fdca26"
            ],
            [
             1,
             "#f0f921"
            ]
           ]
          },
          "colorway": [
           "#636efa",
           "#EF553B",
           "#00cc96",
           "#ab63fa",
           "#FFA15A",
           "#19d3f3",
           "#FF6692",
           "#B6E880",
           "#FF97FF",
           "#FECB52"
          ],
          "font": {
           "color": "#2a3f5f"
          },
          "geo": {
           "bgcolor": "white",
           "lakecolor": "white",
           "landcolor": "white",
           "showlakes": true,
           "showland": true,
           "subunitcolor": "#C8D4E3"
          },
          "hoverlabel": {
           "align": "left"
          },
          "hovermode": "closest",
          "mapbox": {
           "style": "light"
          },
          "paper_bgcolor": "white",
          "plot_bgcolor": "white",
          "polar": {
           "angularaxis": {
            "gridcolor": "#EBF0F8",
            "linecolor": "#EBF0F8",
            "ticks": ""
           },
           "bgcolor": "white",
           "radialaxis": {
            "gridcolor": "#EBF0F8",
            "linecolor": "#EBF0F8",
            "ticks": ""
           }
          },
          "scene": {
           "xaxis": {
            "backgroundcolor": "white",
            "gridcolor": "#DFE8F3",
            "gridwidth": 2,
            "linecolor": "#EBF0F8",
            "showbackground": true,
            "ticks": "",
            "zerolinecolor": "#EBF0F8"
           },
           "yaxis": {
            "backgroundcolor": "white",
            "gridcolor": "#DFE8F3",
            "gridwidth": 2,
            "linecolor": "#EBF0F8",
            "showbackground": true,
            "ticks": "",
            "zerolinecolor": "#EBF0F8"
           },
           "zaxis": {
            "backgroundcolor": "white",
            "gridcolor": "#DFE8F3",
            "gridwidth": 2,
            "linecolor": "#EBF0F8",
            "showbackground": true,
            "ticks": "",
            "zerolinecolor": "#EBF0F8"
           }
          },
          "shapedefaults": {
           "line": {
            "color": "#2a3f5f"
           }
          },
          "ternary": {
           "aaxis": {
            "gridcolor": "#DFE8F3",
            "linecolor": "#A2B1C6",
            "ticks": ""
           },
           "baxis": {
            "gridcolor": "#DFE8F3",
            "linecolor": "#A2B1C6",
            "ticks": ""
           },
           "bgcolor": "white",
           "caxis": {
            "gridcolor": "#DFE8F3",
            "linecolor": "#A2B1C6",
            "ticks": ""
           }
          },
          "title": {
           "x": 0.05
          },
          "xaxis": {
           "automargin": true,
           "gridcolor": "#EBF0F8",
           "linecolor": "#EBF0F8",
           "ticks": "",
           "title": {
            "standoff": 15
           },
           "zerolinecolor": "#EBF0F8",
           "zerolinewidth": 2
          },
          "yaxis": {
           "automargin": true,
           "gridcolor": "#EBF0F8",
           "linecolor": "#EBF0F8",
           "ticks": "",
           "title": {
            "standoff": 15
           },
           "zerolinecolor": "#EBF0F8",
           "zerolinewidth": 2
          }
         }
        },
        "title": {
         "text": "Test R² Scores for Heave Prediction Across Sea Conditions and Lags Combinations - XGBoost Heave Only Model"
        },
        "width": 1200,
        "xaxis": {
         "anchor": "y",
         "categoryarray": [
          "Tp = 4.5 s, Hs = 1 m",
          "Tp = 4.5 s, Hs = 2 m",
          "Tp = 6.8 s, Hs = 1 m",
          "Tp = 6.8 s, Hs = 2 m",
          "Tp = 6.8 s, Hs = 4 m",
          "Tp = 6.8 s, Hs = 6 m",
          "Tp = 6.8 s, Hs = 8 m",
          "Tp = 10.2 s, Hs = 1 m",
          "Tp = 10.2 s, Hs = 2 m",
          "Tp = 10.2 s, Hs = 4 m"
         ],
         "categoryorder": "array",
         "domain": [
          0,
          0.675
         ],
         "title": {
          "text": "Test Case"
         }
        },
        "xaxis2": {
         "anchor": "y2",
         "domain": [
          0.775,
          1
         ],
         "title": {
          "text": "Model Combination"
         }
        },
        "yaxis": {
         "anchor": "x",
         "domain": [
          0,
          1
         ],
         "range": [
          0,
          1
         ],
         "showgrid": true,
         "title": {
          "text": "Train/Validation R² Score"
         }
        },
        "yaxis2": {
         "anchor": "x2",
         "domain": [
          0,
          1
         ]
        }
       }
      }
     },
     "metadata": {},
     "output_type": "display_data"
    }
   ],
   "source": [
    "heave_dfs_xgb = {k: v for k, v in dfs_xgb_1dof.items() if k.startswith('metrics_Xgboost_heave')}\n",
    "\n",
    "# Define your custom x-axis order\n",
    "custom_order = [\n",
    "    'T4p5s_Hs1m', \n",
    "    'T4p5s_Hs2m', \n",
    "    'Tp6p8s_Hs1m',\n",
    "    'Tp6p8s_Hs2m',\n",
    "    'Tp6p8s_Hs4m',\n",
    "    'Tp6p8s_Hs6m',\n",
    "    'Tp6p8s_Hs8m',\n",
    "    'T10p2s_Hs1m',\n",
    "    'Tp10p2_Hs2m',\n",
    "    'T10p2s_Hs4m'\n",
    "]\n",
    "pretty_custom_order = [test_case_pretty_map.get(tc, tc) for tc in custom_order]\n",
    "\n",
    "# Create color map to maintain consistent color for each `comment_value`\n",
    "color_map = {}\n",
    "\n",
    "# Create two subplots with independent y-axes\n",
    "fig = make_subplots(\n",
    "    rows=1, cols=2,\n",
    "    column_widths=[0.75, 0.25],\n",
    "    subplot_titles=(\"Test Cases R²\", \"Train/Validation R² Scores\"),\n",
    "    shared_yaxes=False  # Disable shared y-axes\n",
    ")\n",
    "\n",
    "for df_name, original_df  in heave_dfs_xgb.items():\n",
    "    df = original_df.copy()\n",
    "    # Extract na, nb, nf from df_name\n",
    "    match = re.search(r'na(\\d+)_nb(\\d+)_nf(\\d+)', df_name)\n",
    "    if match:\n",
    "        na_val, nb_val, nf_val = match.groups()\n",
    "        comment_value = f'na={na_val}, nb={nb_val}, nd=-{nf_val}'\n",
    "    else:\n",
    "        comment_value = df_name\n",
    "\n",
    "    # Assign color to each unique comment_value if not already assigned\n",
    "    if comment_value not in color_map:\n",
    "        color_map[comment_value] = px.colors.qualitative.Plotly[len(color_map) % len(px.colors.qualitative.Plotly)]\n",
    "\n",
    "    # Find the correct test case column\n",
    "    if 'test case' in df.columns:\n",
    "        test_case_col = 'test case'\n",
    "    elif 'test_case' in df.columns:\n",
    "        test_case_col = 'test_case'\n",
    "    else:\n",
    "        raise ValueError(f\"No valid 'test_case' column found in {df_name}\")\n",
    "    \n",
    "    # Sort based on custom order\n",
    "    df[test_case_col] = pd.Categorical(df[test_case_col], categories=custom_order, ordered=True)\n",
    "    df[test_case_col] = df[test_case_col].map(test_case_pretty_map).astype('category')\n",
    "    df[test_case_col] = pd.Categorical(df[test_case_col], categories=pretty_custom_order, ordered=True)\n",
    "    df = df.sort_values(test_case_col)\n",
    "\n",
    "    # Plot the main line (pendulum)\n",
    "    fig.add_trace(\n",
    "        go.Scatter(\n",
    "            x=df[test_case_col],\n",
    "            y=df['r2_test_heave'],  # Correct for pendulum\n",
    "            mode='lines+markers',\n",
    "            name=comment_value,\n",
    "            legendgroup=comment_value,\n",
    "            line=dict(color=color_map[comment_value])  # Use the assigned color\n",
    "        ),\n",
    "        row=1, col=1\n",
    "    )\n",
    "\n",
    "    # Now plot the train/val points from df_summary_pitch\n",
    "    summary_row = df_summary_heave_xgb_1dof[(df_summary_heave_xgb_1dof['na'] == int(na_val)) & \n",
    "                                      (df_summary_heave_xgb_1dof['nb'] == int(nb_val)) &\n",
    "                                      (df_summary_heave_xgb_1dof['nd'] == -int(nf_val))]\n",
    "\n",
    "    \n",
    "    if not summary_row.empty:\n",
    "        r2_train = summary_row['r2_train'].values[0]\n",
    "        r2_val = summary_row['r2_val'].values[0]\n",
    "\n",
    "        fig.add_trace(\n",
    "            go.Scatter(\n",
    "                x=[comment_value],\n",
    "                y=[r2_train],\n",
    "                mode='markers',\n",
    "                marker=dict(symbol='x', size=8, color=color_map[comment_value]),  # Use the assigned color\n",
    "                name=f'{comment_value} Train',\n",
    "                legendgroup=comment_value,\n",
    "                showlegend=False\n",
    "            ),\n",
    "            row=1, col=2\n",
    "        )\n",
    "\n",
    "        fig.add_trace(\n",
    "            go.Scatter(\n",
    "                x=[comment_value],\n",
    "                y=[r2_val],\n",
    "                mode='markers',\n",
    "                marker=dict(symbol='square', size=8, color=color_map[comment_value]),  # Use the assigned color\n",
    "                name=f'{comment_value} Val',\n",
    "                legendgroup=comment_value,\n",
    "                showlegend=False\n",
    "            ),\n",
    "            row=1, col=2\n",
    "        )\n",
    "# Add legend-only markers to clarify symbol meaning\n",
    "fig.add_trace(\n",
    "    go.Scatter(\n",
    "        x=[None], y=[None],\n",
    "        mode='markers',\n",
    "        marker=dict(symbol='x', size=7, color='grey'),\n",
    "        name=' Train R²',\n",
    "        showlegend=True\n",
    "    ),\n",
    "    row=1, col=2\n",
    ")\n",
    "\n",
    "fig.add_trace(\n",
    "    go.Scatter(\n",
    "        x=[None], y=[None],\n",
    "        mode='markers',\n",
    "        marker=dict(symbol='square', size=7, color='grey'),\n",
    "        name='Validation R²',\n",
    "        showlegend=True\n",
    "    ),\n",
    "    row=1, col=2\n",
    ")\n",
    "# Final layout adjustments\n",
    "fig.update_layout(\n",
    "    title=\"Test R² Scores for Heave Prediction Across Sea Conditions and Lags Combinations - XGBoost Heave Only Model\",\n",
    "    xaxis_title=\"Test Case\",\n",
    "    xaxis2_title=\"Model Combination\",\n",
    "    yaxis_title=\"R² Score\",\n",
    "    template=\"plotly_white\",\n",
    "    height=600,\n",
    "    width=1200,\n",
    "    legend_title=\"na + nb + nd combination\",\n",
    "    xaxis=dict(\n",
    "        categoryorder='array',\n",
    "        categoryarray=pretty_custom_order\n",
    "    ),\n",
    "    # Adjust the zoom to fit the second plot\n",
    "    yaxis1=dict(\n",
    "        title=\"Train/Validation R² Score\",\n",
    "        range=[0, 1],  # You can adjust the range based on the data\n",
    "        showgrid=True\n",
    "    )\n",
    ")\n",
    "\n",
    "fig.show()\n"
   ]
  },
  {
   "cell_type": "code",
   "execution_count": 249,
   "id": "6be8bba6",
   "metadata": {},
   "outputs": [
    {
     "data": {
      "application/vnd.plotly.v1+json": {
       "config": {
        "plotlyServerURL": "https://plot.ly"
       },
       "data": [
        {
         "legendgroup": "na=2, nb=0, nd=-8",
         "line": {
          "color": "#636EFA"
         },
         "mode": "lines+markers",
         "name": "na=2, nb=0, nd=-8",
         "type": "scatter",
         "x": [
          "Tp = 4.5 s, Hs = 1 m",
          "Tp = 4.5 s, Hs = 2 m",
          "Tp = 6.8 s, Hs = 1 m",
          "Tp = 6.8 s, Hs = 2 m",
          "Tp = 6.8 s, Hs = 4 m",
          "Tp = 6.8 s, Hs = 6 m",
          "Tp = 6.8 s, Hs = 8 m",
          "Tp = 10.2 s, Hs = 1 m",
          "Tp = 10.2 s, Hs = 2 m",
          "Tp = 10.2 s, Hs = 4 m"
         ],
         "xaxis": "x",
         "y": [
          0.1140531364534069,
          0.0662971227223231,
          0.6973471410315264,
          0.7930101492471988,
          0.6142567693902614,
          0.5248597036327944,
          0.4498916196822274,
          -0.9508728775290374,
          -0.8361188214337409,
          -0.0582530202982936
         ],
         "yaxis": "y"
        },
        {
         "legendgroup": "na=2, nb=4, nd=-4",
         "line": {
          "color": "#EF553B"
         },
         "mode": "lines+markers",
         "name": "na=2, nb=4, nd=-4",
         "type": "scatter",
         "x": [
          "Tp = 4.5 s, Hs = 1 m",
          "Tp = 4.5 s, Hs = 2 m",
          "Tp = 6.8 s, Hs = 1 m",
          "Tp = 6.8 s, Hs = 2 m",
          "Tp = 6.8 s, Hs = 4 m",
          "Tp = 6.8 s, Hs = 6 m",
          "Tp = 6.8 s, Hs = 8 m",
          "Tp = 10.2 s, Hs = 1 m",
          "Tp = 10.2 s, Hs = 2 m",
          "Tp = 10.2 s, Hs = 4 m"
         ],
         "xaxis": "x",
         "y": [
          0.1556454331294426,
          0.1939333225806321,
          0.7496670592701414,
          0.7979822890842927,
          0.5828242214645181,
          0.5086689268410112,
          0.450052296561901,
          -1.2938427169670548,
          -1.134444916463262,
          -0.2634695771696451
         ],
         "yaxis": "y"
        },
        {
         "legendgroup": "na=2, nb=4, nd=-4",
         "marker": {
          "color": "#EF553B",
          "size": 8,
          "symbol": "x"
         },
         "mode": "markers",
         "name": "na=2, nb=4, nd=-4 Train",
         "showlegend": false,
         "type": "scatter",
         "x": [
          "na=2, nb=4, nd=-4"
         ],
         "xaxis": "x2",
         "y": [
          0.794
         ],
         "yaxis": "y2"
        },
        {
         "legendgroup": "na=2, nb=4, nd=-4",
         "marker": {
          "color": "#EF553B",
          "size": 8,
          "symbol": "square"
         },
         "mode": "markers",
         "name": "na=2, nb=4, nd=-4 Val",
         "showlegend": false,
         "type": "scatter",
         "x": [
          "na=2, nb=4, nd=-4"
         ],
         "xaxis": "x2",
         "y": [
          0.772
         ],
         "yaxis": "y2"
        },
        {
         "legendgroup": "na=2, nb=5, nd=-3",
         "line": {
          "color": "#00CC96"
         },
         "mode": "lines+markers",
         "name": "na=2, nb=5, nd=-3",
         "type": "scatter",
         "x": [
          "Tp = 4.5 s, Hs = 1 m",
          "Tp = 4.5 s, Hs = 2 m",
          "Tp = 6.8 s, Hs = 1 m",
          "Tp = 6.8 s, Hs = 2 m",
          "Tp = 6.8 s, Hs = 4 m",
          "Tp = 6.8 s, Hs = 6 m",
          "Tp = 6.8 s, Hs = 8 m",
          "Tp = 10.2 s, Hs = 1 m",
          "Tp = 10.2 s, Hs = 2 m",
          "Tp = 10.2 s, Hs = 4 m"
         ],
         "xaxis": "x",
         "y": [
          0.2283251142664961,
          0.2231423757880606,
          0.7429576811912589,
          0.7994124424291807,
          0.6670766338833287,
          0.5411820900845361,
          0.4475237032966631,
          -1.294666431114802,
          -1.1852530141876692,
          -0.1660854160168667
         ],
         "yaxis": "y"
        },
        {
         "legendgroup": "na=2, nb=5, nd=-3",
         "marker": {
          "color": "#00CC96",
          "size": 8,
          "symbol": "x"
         },
         "mode": "markers",
         "name": "na=2, nb=5, nd=-3 Train",
         "showlegend": false,
         "type": "scatter",
         "x": [
          "na=2, nb=5, nd=-3"
         ],
         "xaxis": "x2",
         "y": [
          0.802
         ],
         "yaxis": "y2"
        },
        {
         "legendgroup": "na=2, nb=5, nd=-3",
         "marker": {
          "color": "#00CC96",
          "size": 8,
          "symbol": "square"
         },
         "mode": "markers",
         "name": "na=2, nb=5, nd=-3 Val",
         "showlegend": false,
         "type": "scatter",
         "x": [
          "na=2, nb=5, nd=-3"
         ],
         "xaxis": "x2",
         "y": [
          0.788
         ],
         "yaxis": "y2"
        },
        {
         "legendgroup": "na=2, nb=6, nd=-2",
         "line": {
          "color": "#AB63FA"
         },
         "mode": "lines+markers",
         "name": "na=2, nb=6, nd=-2",
         "type": "scatter",
         "x": [
          "Tp = 4.5 s, Hs = 1 m",
          "Tp = 4.5 s, Hs = 2 m",
          "Tp = 6.8 s, Hs = 1 m",
          "Tp = 6.8 s, Hs = 2 m",
          "Tp = 6.8 s, Hs = 4 m",
          "Tp = 6.8 s, Hs = 6 m",
          "Tp = 6.8 s, Hs = 8 m",
          "Tp = 10.2 s, Hs = 1 m",
          "Tp = 10.2 s, Hs = 2 m",
          "Tp = 10.2 s, Hs = 4 m"
         ],
         "xaxis": "x",
         "y": [
          0.3162209222489452,
          0.2467464204058048,
          0.7580751912393837,
          0.7989482236524224,
          0.6493647395856159,
          0.5468498886297046,
          0.4635170106584968,
          -1.6400290440115015,
          -1.7547431070039,
          -0.3045157387350985
         ],
         "yaxis": "y"
        },
        {
         "legendgroup": "na=2, nb=6, nd=-2",
         "marker": {
          "color": "#AB63FA",
          "size": 8,
          "symbol": "x"
         },
         "mode": "markers",
         "name": "na=2, nb=6, nd=-2 Train",
         "showlegend": false,
         "type": "scatter",
         "x": [
          "na=2, nb=6, nd=-2"
         ],
         "xaxis": "x2",
         "y": [
          0.801
         ],
         "yaxis": "y2"
        },
        {
         "legendgroup": "na=2, nb=6, nd=-2",
         "marker": {
          "color": "#AB63FA",
          "size": 8,
          "symbol": "square"
         },
         "mode": "markers",
         "name": "na=2, nb=6, nd=-2 Val",
         "showlegend": false,
         "type": "scatter",
         "x": [
          "na=2, nb=6, nd=-2"
         ],
         "xaxis": "x2",
         "y": [
          0.79
         ],
         "yaxis": "y2"
        },
        {
         "legendgroup": "na=2, nb=7, nd=-1",
         "line": {
          "color": "#FFA15A"
         },
         "mode": "lines+markers",
         "name": "na=2, nb=7, nd=-1",
         "type": "scatter",
         "x": [
          "Tp = 4.5 s, Hs = 1 m",
          "Tp = 4.5 s, Hs = 2 m",
          "Tp = 6.8 s, Hs = 1 m",
          "Tp = 6.8 s, Hs = 2 m",
          "Tp = 6.8 s, Hs = 4 m",
          "Tp = 6.8 s, Hs = 6 m",
          "Tp = 6.8 s, Hs = 8 m",
          "Tp = 10.2 s, Hs = 1 m",
          "Tp = 10.2 s, Hs = 2 m",
          "Tp = 10.2 s, Hs = 4 m"
         ],
         "xaxis": "x",
         "y": [
          0.3046070676204985,
          0.273810932637331,
          0.7492624786303965,
          0.8114449269284771,
          0.6689390377731517,
          0.553357459969636,
          0.4624492016537598,
          -1.551941615960799,
          -1.412925887853861,
          -0.1886489846639856
         ],
         "yaxis": "y"
        },
        {
         "legendgroup": "na=2, nb=7, nd=-1",
         "marker": {
          "color": "#FFA15A",
          "size": 8,
          "symbol": "x"
         },
         "mode": "markers",
         "name": "na=2, nb=7, nd=-1 Train",
         "showlegend": false,
         "type": "scatter",
         "x": [
          "na=2, nb=7, nd=-1"
         ],
         "xaxis": "x2",
         "y": [
          0.803
         ],
         "yaxis": "y2"
        },
        {
         "legendgroup": "na=2, nb=7, nd=-1",
         "marker": {
          "color": "#FFA15A",
          "size": 8,
          "symbol": "square"
         },
         "mode": "markers",
         "name": "na=2, nb=7, nd=-1 Val",
         "showlegend": false,
         "type": "scatter",
         "x": [
          "na=2, nb=7, nd=-1"
         ],
         "xaxis": "x2",
         "y": [
          0.785
         ],
         "yaxis": "y2"
        },
        {
         "marker": {
          "color": "grey",
          "size": 7,
          "symbol": "x"
         },
         "mode": "markers",
         "name": " Train R²",
         "showlegend": true,
         "type": "scatter",
         "x": [
          null
         ],
         "xaxis": "x2",
         "y": [
          null
         ],
         "yaxis": "y2"
        },
        {
         "marker": {
          "color": "grey",
          "size": 7,
          "symbol": "square"
         },
         "mode": "markers",
         "name": "Validation R²",
         "showlegend": true,
         "type": "scatter",
         "x": [
          null
         ],
         "xaxis": "x2",
         "y": [
          null
         ],
         "yaxis": "y2"
        }
       ],
       "layout": {
        "annotations": [
         {
          "font": {
           "size": 16
          },
          "showarrow": false,
          "text": "Test Cases R²",
          "x": 0.3375,
          "xanchor": "center",
          "xref": "paper",
          "y": 1,
          "yanchor": "bottom",
          "yref": "paper"
         },
         {
          "font": {
           "size": 16
          },
          "showarrow": false,
          "text": "Train/Validation R² Scores",
          "x": 0.8875,
          "xanchor": "center",
          "xref": "paper",
          "y": 1,
          "yanchor": "bottom",
          "yref": "paper"
         }
        ],
        "height": 600,
        "legend": {
         "title": {
          "text": "na + nb + nd combination"
         }
        },
        "template": {
         "data": {
          "bar": [
           {
            "error_x": {
             "color": "#2a3f5f"
            },
            "error_y": {
             "color": "#2a3f5f"
            },
            "marker": {
             "line": {
              "color": "white",
              "width": 0.5
             },
             "pattern": {
              "fillmode": "overlay",
              "size": 10,
              "solidity": 0.2
             }
            },
            "type": "bar"
           }
          ],
          "barpolar": [
           {
            "marker": {
             "line": {
              "color": "white",
              "width": 0.5
             },
             "pattern": {
              "fillmode": "overlay",
              "size": 10,
              "solidity": 0.2
             }
            },
            "type": "barpolar"
           }
          ],
          "carpet": [
           {
            "aaxis": {
             "endlinecolor": "#2a3f5f",
             "gridcolor": "#C8D4E3",
             "linecolor": "#C8D4E3",
             "minorgridcolor": "#C8D4E3",
             "startlinecolor": "#2a3f5f"
            },
            "baxis": {
             "endlinecolor": "#2a3f5f",
             "gridcolor": "#C8D4E3",
             "linecolor": "#C8D4E3",
             "minorgridcolor": "#C8D4E3",
             "startlinecolor": "#2a3f5f"
            },
            "type": "carpet"
           }
          ],
          "choropleth": [
           {
            "colorbar": {
             "outlinewidth": 0,
             "ticks": ""
            },
            "type": "choropleth"
           }
          ],
          "contour": [
           {
            "colorbar": {
             "outlinewidth": 0,
             "ticks": ""
            },
            "colorscale": [
             [
              0,
              "#0d0887"
             ],
             [
              0.1111111111111111,
              "#46039f"
             ],
             [
              0.2222222222222222,
              "#7201a8"
             ],
             [
              0.3333333333333333,
              "#9c179e"
             ],
             [
              0.4444444444444444,
              "#bd3786"
             ],
             [
              0.5555555555555556,
              "#d8576b"
             ],
             [
              0.6666666666666666,
              "#ed7953"
             ],
             [
              0.7777777777777778,
              "#fb9f3a"
             ],
             [
              0.8888888888888888,
              "#fdca26"
             ],
             [
              1,
              "#f0f921"
             ]
            ],
            "type": "contour"
           }
          ],
          "contourcarpet": [
           {
            "colorbar": {
             "outlinewidth": 0,
             "ticks": ""
            },
            "type": "contourcarpet"
           }
          ],
          "heatmap": [
           {
            "colorbar": {
             "outlinewidth": 0,
             "ticks": ""
            },
            "colorscale": [
             [
              0,
              "#0d0887"
             ],
             [
              0.1111111111111111,
              "#46039f"
             ],
             [
              0.2222222222222222,
              "#7201a8"
             ],
             [
              0.3333333333333333,
              "#9c179e"
             ],
             [
              0.4444444444444444,
              "#bd3786"
             ],
             [
              0.5555555555555556,
              "#d8576b"
             ],
             [
              0.6666666666666666,
              "#ed7953"
             ],
             [
              0.7777777777777778,
              "#fb9f3a"
             ],
             [
              0.8888888888888888,
              "#fdca26"
             ],
             [
              1,
              "#f0f921"
             ]
            ],
            "type": "heatmap"
           }
          ],
          "heatmapgl": [
           {
            "colorbar": {
             "outlinewidth": 0,
             "ticks": ""
            },
            "colorscale": [
             [
              0,
              "#0d0887"
             ],
             [
              0.1111111111111111,
              "#46039f"
             ],
             [
              0.2222222222222222,
              "#7201a8"
             ],
             [
              0.3333333333333333,
              "#9c179e"
             ],
             [
              0.4444444444444444,
              "#bd3786"
             ],
             [
              0.5555555555555556,
              "#d8576b"
             ],
             [
              0.6666666666666666,
              "#ed7953"
             ],
             [
              0.7777777777777778,
              "#fb9f3a"
             ],
             [
              0.8888888888888888,
              "#fdca26"
             ],
             [
              1,
              "#f0f921"
             ]
            ],
            "type": "heatmapgl"
           }
          ],
          "histogram": [
           {
            "marker": {
             "pattern": {
              "fillmode": "overlay",
              "size": 10,
              "solidity": 0.2
             }
            },
            "type": "histogram"
           }
          ],
          "histogram2d": [
           {
            "colorbar": {
             "outlinewidth": 0,
             "ticks": ""
            },
            "colorscale": [
             [
              0,
              "#0d0887"
             ],
             [
              0.1111111111111111,
              "#46039f"
             ],
             [
              0.2222222222222222,
              "#7201a8"
             ],
             [
              0.3333333333333333,
              "#9c179e"
             ],
             [
              0.4444444444444444,
              "#bd3786"
             ],
             [
              0.5555555555555556,
              "#d8576b"
             ],
             [
              0.6666666666666666,
              "#ed7953"
             ],
             [
              0.7777777777777778,
              "#fb9f3a"
             ],
             [
              0.8888888888888888,
              "#fdca26"
             ],
             [
              1,
              "#f0f921"
             ]
            ],
            "type": "histogram2d"
           }
          ],
          "histogram2dcontour": [
           {
            "colorbar": {
             "outlinewidth": 0,
             "ticks": ""
            },
            "colorscale": [
             [
              0,
              "#0d0887"
             ],
             [
              0.1111111111111111,
              "#46039f"
             ],
             [
              0.2222222222222222,
              "#7201a8"
             ],
             [
              0.3333333333333333,
              "#9c179e"
             ],
             [
              0.4444444444444444,
              "#bd3786"
             ],
             [
              0.5555555555555556,
              "#d8576b"
             ],
             [
              0.6666666666666666,
              "#ed7953"
             ],
             [
              0.7777777777777778,
              "#fb9f3a"
             ],
             [
              0.8888888888888888,
              "#fdca26"
             ],
             [
              1,
              "#f0f921"
             ]
            ],
            "type": "histogram2dcontour"
           }
          ],
          "mesh3d": [
           {
            "colorbar": {
             "outlinewidth": 0,
             "ticks": ""
            },
            "type": "mesh3d"
           }
          ],
          "parcoords": [
           {
            "line": {
             "colorbar": {
              "outlinewidth": 0,
              "ticks": ""
             }
            },
            "type": "parcoords"
           }
          ],
          "pie": [
           {
            "automargin": true,
            "type": "pie"
           }
          ],
          "scatter": [
           {
            "fillpattern": {
             "fillmode": "overlay",
             "size": 10,
             "solidity": 0.2
            },
            "type": "scatter"
           }
          ],
          "scatter3d": [
           {
            "line": {
             "colorbar": {
              "outlinewidth": 0,
              "ticks": ""
             }
            },
            "marker": {
             "colorbar": {
              "outlinewidth": 0,
              "ticks": ""
             }
            },
            "type": "scatter3d"
           }
          ],
          "scattercarpet": [
           {
            "marker": {
             "colorbar": {
              "outlinewidth": 0,
              "ticks": ""
             }
            },
            "type": "scattercarpet"
           }
          ],
          "scattergeo": [
           {
            "marker": {
             "colorbar": {
              "outlinewidth": 0,
              "ticks": ""
             }
            },
            "type": "scattergeo"
           }
          ],
          "scattergl": [
           {
            "marker": {
             "colorbar": {
              "outlinewidth": 0,
              "ticks": ""
             }
            },
            "type": "scattergl"
           }
          ],
          "scattermapbox": [
           {
            "marker": {
             "colorbar": {
              "outlinewidth": 0,
              "ticks": ""
             }
            },
            "type": "scattermapbox"
           }
          ],
          "scatterpolar": [
           {
            "marker": {
             "colorbar": {
              "outlinewidth": 0,
              "ticks": ""
             }
            },
            "type": "scatterpolar"
           }
          ],
          "scatterpolargl": [
           {
            "marker": {
             "colorbar": {
              "outlinewidth": 0,
              "ticks": ""
             }
            },
            "type": "scatterpolargl"
           }
          ],
          "scatterternary": [
           {
            "marker": {
             "colorbar": {
              "outlinewidth": 0,
              "ticks": ""
             }
            },
            "type": "scatterternary"
           }
          ],
          "surface": [
           {
            "colorbar": {
             "outlinewidth": 0,
             "ticks": ""
            },
            "colorscale": [
             [
              0,
              "#0d0887"
             ],
             [
              0.1111111111111111,
              "#46039f"
             ],
             [
              0.2222222222222222,
              "#7201a8"
             ],
             [
              0.3333333333333333,
              "#9c179e"
             ],
             [
              0.4444444444444444,
              "#bd3786"
             ],
             [
              0.5555555555555556,
              "#d8576b"
             ],
             [
              0.6666666666666666,
              "#ed7953"
             ],
             [
              0.7777777777777778,
              "#fb9f3a"
             ],
             [
              0.8888888888888888,
              "#fdca26"
             ],
             [
              1,
              "#f0f921"
             ]
            ],
            "type": "surface"
           }
          ],
          "table": [
           {
            "cells": {
             "fill": {
              "color": "#EBF0F8"
             },
             "line": {
              "color": "white"
             }
            },
            "header": {
             "fill": {
              "color": "#C8D4E3"
             },
             "line": {
              "color": "white"
             }
            },
            "type": "table"
           }
          ]
         },
         "layout": {
          "annotationdefaults": {
           "arrowcolor": "#2a3f5f",
           "arrowhead": 0,
           "arrowwidth": 1
          },
          "autotypenumbers": "strict",
          "coloraxis": {
           "colorbar": {
            "outlinewidth": 0,
            "ticks": ""
           }
          },
          "colorscale": {
           "diverging": [
            [
             0,
             "#8e0152"
            ],
            [
             0.1,
             "#c51b7d"
            ],
            [
             0.2,
             "#de77ae"
            ],
            [
             0.3,
             "#f1b6da"
            ],
            [
             0.4,
             "#fde0ef"
            ],
            [
             0.5,
             "#f7f7f7"
            ],
            [
             0.6,
             "#e6f5d0"
            ],
            [
             0.7,
             "#b8e186"
            ],
            [
             0.8,
             "#7fbc41"
            ],
            [
             0.9,
             "#4d9221"
            ],
            [
             1,
             "#276419"
            ]
           ],
           "sequential": [
            [
             0,
             "#0d0887"
            ],
            [
             0.1111111111111111,
             "#46039f"
            ],
            [
             0.2222222222222222,
             "#7201a8"
            ],
            [
             0.3333333333333333,
             "#9c179e"
            ],
            [
             0.4444444444444444,
             "#bd3786"
            ],
            [
             0.5555555555555556,
             "#d8576b"
            ],
            [
             0.6666666666666666,
             "#ed7953"
            ],
            [
             0.7777777777777778,
             "#fb9f3a"
            ],
            [
             0.8888888888888888,
             "#fdca26"
            ],
            [
             1,
             "#f0f921"
            ]
           ],
           "sequentialminus": [
            [
             0,
             "#0d0887"
            ],
            [
             0.1111111111111111,
             "#46039f"
            ],
            [
             0.2222222222222222,
             "#7201a8"
            ],
            [
             0.3333333333333333,
             "#9c179e"
            ],
            [
             0.4444444444444444,
             "#bd3786"
            ],
            [
             0.5555555555555556,
             "#d8576b"
            ],
            [
             0.6666666666666666,
             "#ed7953"
            ],
            [
             0.7777777777777778,
             "#fb9f3a"
            ],
            [
             0.8888888888888888,
             "#fdca26"
            ],
            [
             1,
             "#f0f921"
            ]
           ]
          },
          "colorway": [
           "#636efa",
           "#EF553B",
           "#00cc96",
           "#ab63fa",
           "#FFA15A",
           "#19d3f3",
           "#FF6692",
           "#B6E880",
           "#FF97FF",
           "#FECB52"
          ],
          "font": {
           "color": "#2a3f5f"
          },
          "geo": {
           "bgcolor": "white",
           "lakecolor": "white",
           "landcolor": "white",
           "showlakes": true,
           "showland": true,
           "subunitcolor": "#C8D4E3"
          },
          "hoverlabel": {
           "align": "left"
          },
          "hovermode": "closest",
          "mapbox": {
           "style": "light"
          },
          "paper_bgcolor": "white",
          "plot_bgcolor": "white",
          "polar": {
           "angularaxis": {
            "gridcolor": "#EBF0F8",
            "linecolor": "#EBF0F8",
            "ticks": ""
           },
           "bgcolor": "white",
           "radialaxis": {
            "gridcolor": "#EBF0F8",
            "linecolor": "#EBF0F8",
            "ticks": ""
           }
          },
          "scene": {
           "xaxis": {
            "backgroundcolor": "white",
            "gridcolor": "#DFE8F3",
            "gridwidth": 2,
            "linecolor": "#EBF0F8",
            "showbackground": true,
            "ticks": "",
            "zerolinecolor": "#EBF0F8"
           },
           "yaxis": {
            "backgroundcolor": "white",
            "gridcolor": "#DFE8F3",
            "gridwidth": 2,
            "linecolor": "#EBF0F8",
            "showbackground": true,
            "ticks": "",
            "zerolinecolor": "#EBF0F8"
           },
           "zaxis": {
            "backgroundcolor": "white",
            "gridcolor": "#DFE8F3",
            "gridwidth": 2,
            "linecolor": "#EBF0F8",
            "showbackground": true,
            "ticks": "",
            "zerolinecolor": "#EBF0F8"
           }
          },
          "shapedefaults": {
           "line": {
            "color": "#2a3f5f"
           }
          },
          "ternary": {
           "aaxis": {
            "gridcolor": "#DFE8F3",
            "linecolor": "#A2B1C6",
            "ticks": ""
           },
           "baxis": {
            "gridcolor": "#DFE8F3",
            "linecolor": "#A2B1C6",
            "ticks": ""
           },
           "bgcolor": "white",
           "caxis": {
            "gridcolor": "#DFE8F3",
            "linecolor": "#A2B1C6",
            "ticks": ""
           }
          },
          "title": {
           "x": 0.05
          },
          "xaxis": {
           "automargin": true,
           "gridcolor": "#EBF0F8",
           "linecolor": "#EBF0F8",
           "ticks": "",
           "title": {
            "standoff": 15
           },
           "zerolinecolor": "#EBF0F8",
           "zerolinewidth": 2
          },
          "yaxis": {
           "automargin": true,
           "gridcolor": "#EBF0F8",
           "linecolor": "#EBF0F8",
           "ticks": "",
           "title": {
            "standoff": 15
           },
           "zerolinecolor": "#EBF0F8",
           "zerolinewidth": 2
          }
         }
        },
        "title": {
         "text": "Test R² Scores for Heave Prediction Across Sea Conditions and Lags Combinations - XGBoost Pitch Only Model"
        },
        "width": 1200,
        "xaxis": {
         "anchor": "y",
         "categoryarray": [
          "Tp = 4.5 s, Hs = 1 m",
          "Tp = 4.5 s, Hs = 2 m",
          "Tp = 6.8 s, Hs = 1 m",
          "Tp = 6.8 s, Hs = 2 m",
          "Tp = 6.8 s, Hs = 4 m",
          "Tp = 6.8 s, Hs = 6 m",
          "Tp = 6.8 s, Hs = 8 m",
          "Tp = 10.2 s, Hs = 1 m",
          "Tp = 10.2 s, Hs = 2 m",
          "Tp = 10.2 s, Hs = 4 m"
         ],
         "categoryorder": "array",
         "domain": [
          0,
          0.675
         ],
         "title": {
          "text": "Test Case"
         }
        },
        "xaxis2": {
         "anchor": "y2",
         "domain": [
          0.775,
          1
         ],
         "title": {
          "text": "Model Combination"
         }
        },
        "yaxis": {
         "anchor": "x",
         "domain": [
          0,
          1
         ],
         "title": {
          "text": "R² Score"
         }
        },
        "yaxis2": {
         "anchor": "x2",
         "domain": [
          0,
          1
         ],
         "range": [
          0,
          1
         ],
         "showgrid": true,
         "title": {
          "text": "Train/Validation R² Score"
         }
        }
       }
      }
     },
     "metadata": {},
     "output_type": "display_data"
    }
   ],
   "source": [
    "pitch_dfs_xgb = {k: v for k, v in dfs_xgb_1dof.items() if k.startswith('metrics_pitch')}\n",
    "\n",
    "# Define your custom x-axis order\n",
    "custom_order = [\n",
    "    'T4p5s_Hs1m', \n",
    "    'T4p5s_Hs2m', \n",
    "    'Tp6p8s_Hs1m',\n",
    "    'Tp6p8s_Hs2m',\n",
    "    'Tp6p8s_Hs4m',\n",
    "    'Tp6p8s_Hs6m',\n",
    "    'Tp6p8s_Hs8m',\n",
    "    'T10p2s_Hs1m',\n",
    "    'Tp10p2_Hs2m',\n",
    "    'T10p2s_Hs4m'\n",
    "]\n",
    "pretty_custom_order = [test_case_pretty_map.get(tc, tc) for tc in custom_order]\n",
    "\n",
    "# Create color map to maintain consistent color for each `comment_value`\n",
    "color_map = {}\n",
    "\n",
    "# Create two subplots with independent y-axes\n",
    "fig = make_subplots(\n",
    "    rows=1, cols=2,\n",
    "    column_widths=[0.75, 0.25],\n",
    "    subplot_titles=(\"Test Cases R²\", \"Train/Validation R² Scores\"),\n",
    "    shared_yaxes=False  # Disable shared y-axes\n",
    ")\n",
    "\n",
    "for df_name, original_df  in pitch_dfs_xgb.items():\n",
    "    df = original_df.copy()\n",
    "    # Extract na, nb, nf from df_name\n",
    "    match = re.search(r'na(\\d+)_nb(\\d+)_nf(\\d+)', df_name)\n",
    "    if match:\n",
    "        na_val, nb_val, nf_val = match.groups()\n",
    "        comment_value = f'na={na_val}, nb={nb_val}, nd=-{nf_val}'\n",
    "    else:\n",
    "        comment_value = df_name\n",
    "\n",
    "    # Assign color to each unique comment_value if not already assigned\n",
    "    if comment_value not in color_map:\n",
    "        color_map[comment_value] = px.colors.qualitative.Plotly[len(color_map) % len(px.colors.qualitative.Plotly)]\n",
    "\n",
    "    # Find the correct test case column\n",
    "    if 'test case' in df.columns:\n",
    "        test_case_col = 'test case'\n",
    "    elif 'test_case' in df.columns:\n",
    "        test_case_col = 'test_case'\n",
    "    else:\n",
    "        raise ValueError(f\"No valid 'test_case' column found in {df_name}\")\n",
    "    \n",
    "    # Sort based on custom order\n",
    "    df[test_case_col] = pd.Categorical(df[test_case_col], categories=custom_order, ordered=True)\n",
    "    df[test_case_col] = df[test_case_col].map(test_case_pretty_map).astype('category')\n",
    "    df[test_case_col] = pd.Categorical(df[test_case_col], categories=pretty_custom_order, ordered=True)\n",
    "    df = df.sort_values(test_case_col)\n",
    "\n",
    "    # Plot the main line (pendulum)\n",
    "    fig.add_trace(\n",
    "        go.Scatter(\n",
    "            x=df[test_case_col],\n",
    "            y=df['r2_test_pitch'],  # Correct for pendulum\n",
    "            mode='lines+markers',\n",
    "            name=comment_value,\n",
    "            legendgroup=comment_value,\n",
    "            line=dict(color=color_map[comment_value])  # Use the assigned color\n",
    "        ),\n",
    "        row=1, col=1\n",
    "    )\n",
    "\n",
    "    # Now plot the train/val points from df_summary_pitch\n",
    "    summary_row = df_summary_pitch_xgb_1dof[(df_summary_pitch_xgb_1dof['na'] == int(na_val)) & \n",
    "                                      (df_summary_pitch_xgb_1dof['nb'] == int(nb_val)) &\n",
    "                                      (df_summary_pitch_xgb_1dof['nd'] == -int(nf_val))]\n",
    "\n",
    "    \n",
    "    if not summary_row.empty:\n",
    "        r2_train = summary_row['r2_train'].values[0]\n",
    "        r2_val = summary_row['r2_val'].values[0]\n",
    "\n",
    "        fig.add_trace(\n",
    "            go.Scatter(\n",
    "                x=[comment_value],\n",
    "                y=[r2_train],\n",
    "                mode='markers',\n",
    "                marker=dict(symbol='x', size=8, color=color_map[comment_value]),  # Use the assigned color\n",
    "                name=f'{comment_value} Train',\n",
    "                legendgroup=comment_value,\n",
    "                showlegend=False\n",
    "            ),\n",
    "            row=1, col=2\n",
    "        )\n",
    "\n",
    "        fig.add_trace(\n",
    "            go.Scatter(\n",
    "                x=[comment_value],\n",
    "                y=[r2_val],\n",
    "                mode='markers',\n",
    "                marker=dict(symbol='square', size=8, color=color_map[comment_value]),  # Use the assigned color\n",
    "                name=f'{comment_value} Val',\n",
    "                legendgroup=comment_value,\n",
    "                showlegend=False\n",
    "            ),\n",
    "            row=1, col=2\n",
    "        )\n",
    "# Add legend-only markers to clarify symbol meaning\n",
    "fig.add_trace(\n",
    "    go.Scatter(\n",
    "        x=[None], y=[None],\n",
    "        mode='markers',\n",
    "        marker=dict(symbol='x', size=7, color='grey'),\n",
    "        name=' Train R²',\n",
    "        showlegend=True\n",
    "    ),\n",
    "    row=1, col=2\n",
    ")\n",
    "\n",
    "fig.add_trace(\n",
    "    go.Scatter(\n",
    "        x=[None], y=[None],\n",
    "        mode='markers',\n",
    "        marker=dict(symbol='square', size=7, color='grey'),\n",
    "        name='Validation R²',\n",
    "        showlegend=True\n",
    "    ),\n",
    "    row=1, col=2\n",
    ")\n",
    "# Final layout adjustments\n",
    "fig.update_layout(\n",
    "    title=\"Test R² Scores for Heave Prediction Across Sea Conditions and Lags Combinations - XGBoost Pitch Only Model\",\n",
    "    xaxis_title=\"Test Case\",\n",
    "    xaxis2_title=\"Model Combination\",\n",
    "    yaxis_title=\"R² Score\",\n",
    "    template=\"plotly_white\",\n",
    "    height=600,\n",
    "    width=1200,\n",
    "    legend_title=\"na + nb + nd combination\",\n",
    "    xaxis=dict(\n",
    "        categoryorder='array',\n",
    "        categoryarray=pretty_custom_order\n",
    "    ),\n",
    "    # Adjust the zoom to fit the second plot\n",
    "    yaxis2=dict(\n",
    "        title=\"Train/Validation R² Score\",\n",
    "        range=[0, 1],  # You can adjust the range based on the data\n",
    "        showgrid=True\n",
    "    )\n",
    ")\n",
    "\n",
    "fig.show()\n"
   ]
  },
  {
   "cell_type": "code",
   "execution_count": null,
   "id": "d4d9ed74",
   "metadata": {},
   "outputs": [
    {
     "data": {
      "application/vnd.plotly.v1+json": {
       "config": {
        "plotlyServerURL": "https://plot.ly"
       },
       "data": [
        {
         "legendgroup": "na=2, nb=9, nd=-1",
         "line": {
          "color": "#636EFA"
         },
         "mode": "lines+markers",
         "name": "na=2, nb=9, nd=-1",
         "type": "scatter",
         "x": [
          "Tp = 4.5 s, Hs = 1 m",
          "Tp = 4.5 s, Hs = 2 m",
          "Tp = 6.8 s, Hs = 1 m",
          "Tp = 6.8 s, Hs = 2 m",
          "Tp = 6.8 s, Hs = 4 m",
          "Tp = 6.8 s, Hs = 6 m",
          "Tp = 6.8 s, Hs = 8 m",
          "Tp = 10.2 s, Hs = 1 m",
          "Tp = 10.2 s, Hs = 2 m",
          "Tp = 10.2 s, Hs = 4 m"
         ],
         "xaxis": "x",
         "y": [
          -5.684976036092658,
          -5.451437571306939,
          0.3331405919311765,
          0.6682702774299678,
          0.5404891242929422,
          0.4103546594147087,
          0.3113464436393995,
          -3.4265467976892285,
          -0.4679579463345535,
          -0.0885058296344045
         ],
         "yaxis": "y"
        },
        {
         "legendgroup": "na=2, nb=9, nd=-1",
         "marker": {
          "color": "#636EFA",
          "size": 8,
          "symbol": "x"
         },
         "mode": "markers",
         "name": "na=2, nb=9, nd=-1 Train",
         "showlegend": false,
         "type": "scatter",
         "x": [
          "na=2, nb=9, nd=-1"
         ],
         "xaxis": "x2",
         "y": [
          0.65
         ],
         "yaxis": "y2"
        },
        {
         "legendgroup": "na=2, nb=9, nd=-1",
         "marker": {
          "color": "#636EFA",
          "size": 8,
          "symbol": "square"
         },
         "mode": "markers",
         "name": "na=2, nb=9, nd=-1 Val",
         "showlegend": false,
         "type": "scatter",
         "x": [
          "na=2, nb=9, nd=-1"
         ],
         "xaxis": "x2",
         "y": [
          0.632
         ],
         "yaxis": "y2"
        },
        {
         "legendgroup": "na=2, nb=10, nd=-0",
         "line": {
          "color": "#EF553B"
         },
         "mode": "lines+markers",
         "name": "na=2, nb=10, nd=-0",
         "type": "scatter",
         "x": [
          "Tp = 4.5 s, Hs = 1 m",
          "Tp = 4.5 s, Hs = 2 m",
          "Tp = 6.8 s, Hs = 1 m",
          "Tp = 6.8 s, Hs = 2 m",
          "Tp = 6.8 s, Hs = 4 m",
          "Tp = 6.8 s, Hs = 6 m",
          "Tp = 6.8 s, Hs = 8 m",
          "Tp = 10.2 s, Hs = 1 m",
          "Tp = 10.2 s, Hs = 2 m",
          "Tp = 10.2 s, Hs = 4 m"
         ],
         "xaxis": "x",
         "y": [
          -7.59384050093276,
          -5.667010624196598,
          0.5164836722383409,
          0.6642310196300694,
          0.5465497093960182,
          0.402275218764907,
          0.2981625211812595,
          -4.011334406087358,
          -0.6929205165668959,
          0.0609821265630837
         ],
         "yaxis": "y"
        },
        {
         "legendgroup": "na=2, nb=10, nd=-0",
         "marker": {
          "color": "#EF553B",
          "size": 8,
          "symbol": "x"
         },
         "mode": "markers",
         "name": "na=2, nb=10, nd=-0 Train",
         "showlegend": false,
         "type": "scatter",
         "x": [
          "na=2, nb=10, nd=-0"
         ],
         "xaxis": "x2",
         "y": [
          0.643
         ],
         "yaxis": "y2"
        },
        {
         "legendgroup": "na=2, nb=10, nd=-0",
         "marker": {
          "color": "#EF553B",
          "size": 8,
          "symbol": "square"
         },
         "mode": "markers",
         "name": "na=2, nb=10, nd=-0 Val",
         "showlegend": false,
         "type": "scatter",
         "x": [
          "na=2, nb=10, nd=-0"
         ],
         "xaxis": "x2",
         "y": [
          0.619
         ],
         "yaxis": "y2"
        },
        {
         "legendgroup": "na=2, nb=8, nd=-2",
         "line": {
          "color": "#00CC96"
         },
         "mode": "lines+markers",
         "name": "na=2, nb=8, nd=-2",
         "type": "scatter",
         "x": [
          "Tp = 4.5 s, Hs = 1 m",
          "Tp = 4.5 s, Hs = 2 m",
          "Tp = 6.8 s, Hs = 1 m",
          "Tp = 6.8 s, Hs = 2 m",
          "Tp = 6.8 s, Hs = 4 m",
          "Tp = 6.8 s, Hs = 6 m",
          "Tp = 6.8 s, Hs = 8 m",
          "Tp = 10.2 s, Hs = 1 m",
          "Tp = 10.2 s, Hs = 2 m",
          "Tp = 10.2 s, Hs = 4 m"
         ],
         "xaxis": "x",
         "y": [
          -6.447597505690584,
          -5.539699547667051,
          0.2696726432743093,
          0.650100555623962,
          0.5329237923993739,
          0.3953789834817586,
          0.2955465584379468,
          -2.9230970756368824,
          -0.4190802548147667,
          0.0452901373016698
         ],
         "yaxis": "y"
        },
        {
         "legendgroup": "na=2, nb=8, nd=-2",
         "marker": {
          "color": "#00CC96",
          "size": 8,
          "symbol": "x"
         },
         "mode": "markers",
         "name": "na=2, nb=8, nd=-2 Train",
         "showlegend": false,
         "type": "scatter",
         "x": [
          "na=2, nb=8, nd=-2"
         ],
         "xaxis": "x2",
         "y": [
          0.632
         ],
         "yaxis": "y2"
        },
        {
         "legendgroup": "na=2, nb=8, nd=-2",
         "marker": {
          "color": "#00CC96",
          "size": 8,
          "symbol": "square"
         },
         "mode": "markers",
         "name": "na=2, nb=8, nd=-2 Val",
         "showlegend": false,
         "type": "scatter",
         "x": [
          "na=2, nb=8, nd=-2"
         ],
         "xaxis": "x2",
         "y": [
          0.631
         ],
         "yaxis": "y2"
        },
        {
         "marker": {
          "color": "grey",
          "size": 7,
          "symbol": "x"
         },
         "mode": "markers",
         "name": " Train R²",
         "showlegend": true,
         "type": "scatter",
         "x": [
          null
         ],
         "xaxis": "x2",
         "y": [
          null
         ],
         "yaxis": "y2"
        },
        {
         "marker": {
          "color": "grey",
          "size": 7,
          "symbol": "square"
         },
         "mode": "markers",
         "name": "Validation R²",
         "showlegend": true,
         "type": "scatter",
         "x": [
          null
         ],
         "xaxis": "x2",
         "y": [
          null
         ],
         "yaxis": "y2"
        }
       ],
       "layout": {
        "annotations": [
         {
          "font": {
           "size": 16
          },
          "showarrow": false,
          "text": "Test Cases R²",
          "x": 0.3375,
          "xanchor": "center",
          "xref": "paper",
          "y": 1,
          "yanchor": "bottom",
          "yref": "paper"
         },
         {
          "font": {
           "size": 16
          },
          "showarrow": false,
          "text": "Train/Validation R² Scores",
          "x": 0.8875,
          "xanchor": "center",
          "xref": "paper",
          "y": 1,
          "yanchor": "bottom",
          "yref": "paper"
         }
        ],
        "height": 600,
        "legend": {
         "title": {
          "text": "na + nb + nd combination"
         }
        },
        "template": {
         "data": {
          "bar": [
           {
            "error_x": {
             "color": "#2a3f5f"
            },
            "error_y": {
             "color": "#2a3f5f"
            },
            "marker": {
             "line": {
              "color": "white",
              "width": 0.5
             },
             "pattern": {
              "fillmode": "overlay",
              "size": 10,
              "solidity": 0.2
             }
            },
            "type": "bar"
           }
          ],
          "barpolar": [
           {
            "marker": {
             "line": {
              "color": "white",
              "width": 0.5
             },
             "pattern": {
              "fillmode": "overlay",
              "size": 10,
              "solidity": 0.2
             }
            },
            "type": "barpolar"
           }
          ],
          "carpet": [
           {
            "aaxis": {
             "endlinecolor": "#2a3f5f",
             "gridcolor": "#C8D4E3",
             "linecolor": "#C8D4E3",
             "minorgridcolor": "#C8D4E3",
             "startlinecolor": "#2a3f5f"
            },
            "baxis": {
             "endlinecolor": "#2a3f5f",
             "gridcolor": "#C8D4E3",
             "linecolor": "#C8D4E3",
             "minorgridcolor": "#C8D4E3",
             "startlinecolor": "#2a3f5f"
            },
            "type": "carpet"
           }
          ],
          "choropleth": [
           {
            "colorbar": {
             "outlinewidth": 0,
             "ticks": ""
            },
            "type": "choropleth"
           }
          ],
          "contour": [
           {
            "colorbar": {
             "outlinewidth": 0,
             "ticks": ""
            },
            "colorscale": [
             [
              0,
              "#0d0887"
             ],
             [
              0.1111111111111111,
              "#46039f"
             ],
             [
              0.2222222222222222,
              "#7201a8"
             ],
             [
              0.3333333333333333,
              "#9c179e"
             ],
             [
              0.4444444444444444,
              "#bd3786"
             ],
             [
              0.5555555555555556,
              "#d8576b"
             ],
             [
              0.6666666666666666,
              "#ed7953"
             ],
             [
              0.7777777777777778,
              "#fb9f3a"
             ],
             [
              0.8888888888888888,
              "#fdca26"
             ],
             [
              1,
              "#f0f921"
             ]
            ],
            "type": "contour"
           }
          ],
          "contourcarpet": [
           {
            "colorbar": {
             "outlinewidth": 0,
             "ticks": ""
            },
            "type": "contourcarpet"
           }
          ],
          "heatmap": [
           {
            "colorbar": {
             "outlinewidth": 0,
             "ticks": ""
            },
            "colorscale": [
             [
              0,
              "#0d0887"
             ],
             [
              0.1111111111111111,
              "#46039f"
             ],
             [
              0.2222222222222222,
              "#7201a8"
             ],
             [
              0.3333333333333333,
              "#9c179e"
             ],
             [
              0.4444444444444444,
              "#bd3786"
             ],
             [
              0.5555555555555556,
              "#d8576b"
             ],
             [
              0.6666666666666666,
              "#ed7953"
             ],
             [
              0.7777777777777778,
              "#fb9f3a"
             ],
             [
              0.8888888888888888,
              "#fdca26"
             ],
             [
              1,
              "#f0f921"
             ]
            ],
            "type": "heatmap"
           }
          ],
          "heatmapgl": [
           {
            "colorbar": {
             "outlinewidth": 0,
             "ticks": ""
            },
            "colorscale": [
             [
              0,
              "#0d0887"
             ],
             [
              0.1111111111111111,
              "#46039f"
             ],
             [
              0.2222222222222222,
              "#7201a8"
             ],
             [
              0.3333333333333333,
              "#9c179e"
             ],
             [
              0.4444444444444444,
              "#bd3786"
             ],
             [
              0.5555555555555556,
              "#d8576b"
             ],
             [
              0.6666666666666666,
              "#ed7953"
             ],
             [
              0.7777777777777778,
              "#fb9f3a"
             ],
             [
              0.8888888888888888,
              "#fdca26"
             ],
             [
              1,
              "#f0f921"
             ]
            ],
            "type": "heatmapgl"
           }
          ],
          "histogram": [
           {
            "marker": {
             "pattern": {
              "fillmode": "overlay",
              "size": 10,
              "solidity": 0.2
             }
            },
            "type": "histogram"
           }
          ],
          "histogram2d": [
           {
            "colorbar": {
             "outlinewidth": 0,
             "ticks": ""
            },
            "colorscale": [
             [
              0,
              "#0d0887"
             ],
             [
              0.1111111111111111,
              "#46039f"
             ],
             [
              0.2222222222222222,
              "#7201a8"
             ],
             [
              0.3333333333333333,
              "#9c179e"
             ],
             [
              0.4444444444444444,
              "#bd3786"
             ],
             [
              0.5555555555555556,
              "#d8576b"
             ],
             [
              0.6666666666666666,
              "#ed7953"
             ],
             [
              0.7777777777777778,
              "#fb9f3a"
             ],
             [
              0.8888888888888888,
              "#fdca26"
             ],
             [
              1,
              "#f0f921"
             ]
            ],
            "type": "histogram2d"
           }
          ],
          "histogram2dcontour": [
           {
            "colorbar": {
             "outlinewidth": 0,
             "ticks": ""
            },
            "colorscale": [
             [
              0,
              "#0d0887"
             ],
             [
              0.1111111111111111,
              "#46039f"
             ],
             [
              0.2222222222222222,
              "#7201a8"
             ],
             [
              0.3333333333333333,
              "#9c179e"
             ],
             [
              0.4444444444444444,
              "#bd3786"
             ],
             [
              0.5555555555555556,
              "#d8576b"
             ],
             [
              0.6666666666666666,
              "#ed7953"
             ],
             [
              0.7777777777777778,
              "#fb9f3a"
             ],
             [
              0.8888888888888888,
              "#fdca26"
             ],
             [
              1,
              "#f0f921"
             ]
            ],
            "type": "histogram2dcontour"
           }
          ],
          "mesh3d": [
           {
            "colorbar": {
             "outlinewidth": 0,
             "ticks": ""
            },
            "type": "mesh3d"
           }
          ],
          "parcoords": [
           {
            "line": {
             "colorbar": {
              "outlinewidth": 0,
              "ticks": ""
             }
            },
            "type": "parcoords"
           }
          ],
          "pie": [
           {
            "automargin": true,
            "type": "pie"
           }
          ],
          "scatter": [
           {
            "fillpattern": {
             "fillmode": "overlay",
             "size": 10,
             "solidity": 0.2
            },
            "type": "scatter"
           }
          ],
          "scatter3d": [
           {
            "line": {
             "colorbar": {
              "outlinewidth": 0,
              "ticks": ""
             }
            },
            "marker": {
             "colorbar": {
              "outlinewidth": 0,
              "ticks": ""
             }
            },
            "type": "scatter3d"
           }
          ],
          "scattercarpet": [
           {
            "marker": {
             "colorbar": {
              "outlinewidth": 0,
              "ticks": ""
             }
            },
            "type": "scattercarpet"
           }
          ],
          "scattergeo": [
           {
            "marker": {
             "colorbar": {
              "outlinewidth": 0,
              "ticks": ""
             }
            },
            "type": "scattergeo"
           }
          ],
          "scattergl": [
           {
            "marker": {
             "colorbar": {
              "outlinewidth": 0,
              "ticks": ""
             }
            },
            "type": "scattergl"
           }
          ],
          "scattermapbox": [
           {
            "marker": {
             "colorbar": {
              "outlinewidth": 0,
              "ticks": ""
             }
            },
            "type": "scattermapbox"
           }
          ],
          "scatterpolar": [
           {
            "marker": {
             "colorbar": {
              "outlinewidth": 0,
              "ticks": ""
             }
            },
            "type": "scatterpolar"
           }
          ],
          "scatterpolargl": [
           {
            "marker": {
             "colorbar": {
              "outlinewidth": 0,
              "ticks": ""
             }
            },
            "type": "scatterpolargl"
           }
          ],
          "scatterternary": [
           {
            "marker": {
             "colorbar": {
              "outlinewidth": 0,
              "ticks": ""
             }
            },
            "type": "scatterternary"
           }
          ],
          "surface": [
           {
            "colorbar": {
             "outlinewidth": 0,
             "ticks": ""
            },
            "colorscale": [
             [
              0,
              "#0d0887"
             ],
             [
              0.1111111111111111,
              "#46039f"
             ],
             [
              0.2222222222222222,
              "#7201a8"
             ],
             [
              0.3333333333333333,
              "#9c179e"
             ],
             [
              0.4444444444444444,
              "#bd3786"
             ],
             [
              0.5555555555555556,
              "#d8576b"
             ],
             [
              0.6666666666666666,
              "#ed7953"
             ],
             [
              0.7777777777777778,
              "#fb9f3a"
             ],
             [
              0.8888888888888888,
              "#fdca26"
             ],
             [
              1,
              "#f0f921"
             ]
            ],
            "type": "surface"
           }
          ],
          "table": [
           {
            "cells": {
             "fill": {
              "color": "#EBF0F8"
             },
             "line": {
              "color": "white"
             }
            },
            "header": {
             "fill": {
              "color": "#C8D4E3"
             },
             "line": {
              "color": "white"
             }
            },
            "type": "table"
           }
          ]
         },
         "layout": {
          "annotationdefaults": {
           "arrowcolor": "#2a3f5f",
           "arrowhead": 0,
           "arrowwidth": 1
          },
          "autotypenumbers": "strict",
          "coloraxis": {
           "colorbar": {
            "outlinewidth": 0,
            "ticks": ""
           }
          },
          "colorscale": {
           "diverging": [
            [
             0,
             "#8e0152"
            ],
            [
             0.1,
             "#c51b7d"
            ],
            [
             0.2,
             "#de77ae"
            ],
            [
             0.3,
             "#f1b6da"
            ],
            [
             0.4,
             "#fde0ef"
            ],
            [
             0.5,
             "#f7f7f7"
            ],
            [
             0.6,
             "#e6f5d0"
            ],
            [
             0.7,
             "#b8e186"
            ],
            [
             0.8,
             "#7fbc41"
            ],
            [
             0.9,
             "#4d9221"
            ],
            [
             1,
             "#276419"
            ]
           ],
           "sequential": [
            [
             0,
             "#0d0887"
            ],
            [
             0.1111111111111111,
             "#46039f"
            ],
            [
             0.2222222222222222,
             "#7201a8"
            ],
            [
             0.3333333333333333,
             "#9c179e"
            ],
            [
             0.4444444444444444,
             "#bd3786"
            ],
            [
             0.5555555555555556,
             "#d8576b"
            ],
            [
             0.6666666666666666,
             "#ed7953"
            ],
            [
             0.7777777777777778,
             "#fb9f3a"
            ],
            [
             0.8888888888888888,
             "#fdca26"
            ],
            [
             1,
             "#f0f921"
            ]
           ],
           "sequentialminus": [
            [
             0,
             "#0d0887"
            ],
            [
             0.1111111111111111,
             "#46039f"
            ],
            [
             0.2222222222222222,
             "#7201a8"
            ],
            [
             0.3333333333333333,
             "#9c179e"
            ],
            [
             0.4444444444444444,
             "#bd3786"
            ],
            [
             0.5555555555555556,
             "#d8576b"
            ],
            [
             0.6666666666666666,
             "#ed7953"
            ],
            [
             0.7777777777777778,
             "#fb9f3a"
            ],
            [
             0.8888888888888888,
             "#fdca26"
            ],
            [
             1,
             "#f0f921"
            ]
           ]
          },
          "colorway": [
           "#636efa",
           "#EF553B",
           "#00cc96",
           "#ab63fa",
           "#FFA15A",
           "#19d3f3",
           "#FF6692",
           "#B6E880",
           "#FF97FF",
           "#FECB52"
          ],
          "font": {
           "color": "#2a3f5f"
          },
          "geo": {
           "bgcolor": "white",
           "lakecolor": "white",
           "landcolor": "white",
           "showlakes": true,
           "showland": true,
           "subunitcolor": "#C8D4E3"
          },
          "hoverlabel": {
           "align": "left"
          },
          "hovermode": "closest",
          "mapbox": {
           "style": "light"
          },
          "paper_bgcolor": "white",
          "plot_bgcolor": "white",
          "polar": {
           "angularaxis": {
            "gridcolor": "#EBF0F8",
            "linecolor": "#EBF0F8",
            "ticks": ""
           },
           "bgcolor": "white",
           "radialaxis": {
            "gridcolor": "#EBF0F8",
            "linecolor": "#EBF0F8",
            "ticks": ""
           }
          },
          "scene": {
           "xaxis": {
            "backgroundcolor": "white",
            "gridcolor": "#DFE8F3",
            "gridwidth": 2,
            "linecolor": "#EBF0F8",
            "showbackground": true,
            "ticks": "",
            "zerolinecolor": "#EBF0F8"
           },
           "yaxis": {
            "backgroundcolor": "white",
            "gridcolor": "#DFE8F3",
            "gridwidth": 2,
            "linecolor": "#EBF0F8",
            "showbackground": true,
            "ticks": "",
            "zerolinecolor": "#EBF0F8"
           },
           "zaxis": {
            "backgroundcolor": "white",
            "gridcolor": "#DFE8F3",
            "gridwidth": 2,
            "linecolor": "#EBF0F8",
            "showbackground": true,
            "ticks": "",
            "zerolinecolor": "#EBF0F8"
           }
          },
          "shapedefaults": {
           "line": {
            "color": "#2a3f5f"
           }
          },
          "ternary": {
           "aaxis": {
            "gridcolor": "#DFE8F3",
            "linecolor": "#A2B1C6",
            "ticks": ""
           },
           "baxis": {
            "gridcolor": "#DFE8F3",
            "linecolor": "#A2B1C6",
            "ticks": ""
           },
           "bgcolor": "white",
           "caxis": {
            "gridcolor": "#DFE8F3",
            "linecolor": "#A2B1C6",
            "ticks": ""
           }
          },
          "title": {
           "x": 0.05
          },
          "xaxis": {
           "automargin": true,
           "gridcolor": "#EBF0F8",
           "linecolor": "#EBF0F8",
           "ticks": "",
           "title": {
            "standoff": 15
           },
           "zerolinecolor": "#EBF0F8",
           "zerolinewidth": 2
          },
          "yaxis": {
           "automargin": true,
           "gridcolor": "#EBF0F8",
           "linecolor": "#EBF0F8",
           "ticks": "",
           "title": {
            "standoff": 15
           },
           "zerolinecolor": "#EBF0F8",
           "zerolinewidth": 2
          }
         }
        },
        "title": {
         "text": "Test R² Scores for Heave Prediction Across Sea Conditions and Lags Combinations - XGBoost Pendulum Only Model"
        },
        "width": 1200,
        "xaxis": {
         "anchor": "y",
         "categoryarray": [
          "Tp = 4.5 s, Hs = 1 m",
          "Tp = 4.5 s, Hs = 2 m",
          "Tp = 6.8 s, Hs = 1 m",
          "Tp = 6.8 s, Hs = 2 m",
          "Tp = 6.8 s, Hs = 4 m",
          "Tp = 6.8 s, Hs = 6 m",
          "Tp = 6.8 s, Hs = 8 m",
          "Tp = 10.2 s, Hs = 1 m",
          "Tp = 10.2 s, Hs = 2 m",
          "Tp = 10.2 s, Hs = 4 m"
         ],
         "categoryorder": "array",
         "domain": [
          0,
          0.675
         ],
         "title": {
          "text": "Test Case"
         }
        },
        "xaxis2": {
         "anchor": "y2",
         "domain": [
          0.775,
          1
         ],
         "title": {
          "text": "Model Combination"
         }
        },
        "yaxis": {
         "anchor": "x",
         "domain": [
          0,
          1
         ],
         "title": {
          "text": "R² Score"
         }
        },
        "yaxis2": {
         "anchor": "x2",
         "domain": [
          0,
          1
         ],
         "range": [
          0,
          1
         ],
         "showgrid": true,
         "title": {
          "text": "Train/Validation R² Score"
         }
        }
       }
      }
     },
     "metadata": {},
     "output_type": "display_data"
    }
   ],
   "source": [
    "pendulum_dfs_xgb = {k: v for k, v in dfs_xgb_1dof.items() if k.startswith('metrics_pendulum')}\n",
    "\n",
    "# Define your custom x-axis order\n",
    "custom_order = [\n",
    "    'T4p5s_Hs1m', \n",
    "    'T4p5s_Hs2m', \n",
    "    'Tp6p8s_Hs1m',\n",
    "    'Tp6p8s_Hs2m',\n",
    "    'Tp6p8s_Hs4m',\n",
    "    'Tp6p8s_Hs6m',\n",
    "    'Tp6p8s_Hs8m',\n",
    "    'T10p2s_Hs1m',\n",
    "    'Tp10p2_Hs2m',\n",
    "    'T10p2s_Hs4m'\n",
    "]\n",
    "pretty_custom_order = [test_case_pretty_map.get(tc, tc) for tc in custom_order]\n",
    "\n",
    "# Create color map to maintain consistent color for each `comment_value`\n",
    "color_map = {}\n",
    "\n",
    "# Create two subplots with independent y-axes\n",
    "fig = make_subplots(\n",
    "    rows=1, cols=2,\n",
    "    column_widths=[0.75, 0.25],\n",
    "    subplot_titles=(\"Test Cases R²\", \"Train/Validation R² Scores\"),\n",
    "    shared_yaxes=False  # Disable shared y-axes\n",
    ")\n",
    "\n",
    "for df_name, original_df  in pendulum_dfs_xgb.items():\n",
    "    df = original_df.copy()\n",
    "    # Extract na, nb, nf from df_name\n",
    "    match = re.search(r'na(\\d+)_nb(\\d+)_nf(\\d+)', df_name)\n",
    "    if match:\n",
    "        na_val, nb_val, nf_val = match.groups()\n",
    "        comment_value = f'na={na_val}, nb={nb_val}, nd=-{nf_val}'\n",
    "    else:\n",
    "        comment_value = df_name\n",
    "\n",
    "    # Assign color to each unique comment_value if not already assigned\n",
    "    if comment_value not in color_map:\n",
    "        color_map[comment_value] = px.colors.qualitative.Plotly[len(color_map) % len(px.colors.qualitative.Plotly)]\n",
    "\n",
    "    # Find the correct test case column\n",
    "    if 'test case' in df.columns:\n",
    "        test_case_col = 'test case'\n",
    "    elif 'test_case' in df.columns:\n",
    "        test_case_col = 'test_case'\n",
    "    else:\n",
    "        raise ValueError(f\"No valid 'test_case' column found in {df_name}\")\n",
    "    \n",
    "    # Sort based on custom order\n",
    "    df[test_case_col] = pd.Categorical(df[test_case_col], categories=custom_order, ordered=True)\n",
    "    df[test_case_col] = df[test_case_col].map(test_case_pretty_map).astype('category')\n",
    "    df[test_case_col] = pd.Categorical(df[test_case_col], categories=pretty_custom_order, ordered=True)\n",
    "    df = df.sort_values(test_case_col)\n",
    "\n",
    "    # Plot the main line (pendulum)\n",
    "    fig.add_trace(\n",
    "        go.Scatter(\n",
    "            x=df[test_case_col],\n",
    "            y=df['r2_test_pendulum'],  # Correct for pendulum\n",
    "            mode='lines+markers',\n",
    "            name=comment_value,\n",
    "            legendgroup=comment_value,\n",
    "            line=dict(color=color_map[comment_value])  # Use the assigned color\n",
    "        ),\n",
    "        row=1, col=1\n",
    "    )\n",
    "\n",
    "    # Now plot the train/val points from df_summary_pitch\n",
    "    summary_row = df_summary_pendulum_xgb_1dof[(df_summary_pendulum_xgb_1dof['na'] == int(na_val)) & \n",
    "                                      (df_summary_pendulum_xgb_1dof['nb'] == int(nb_val)) &\n",
    "                                      (df_summary_pendulum_xgb_1dof['nd'] == -int(nf_val))]\n",
    "\n",
    "    \n",
    "    if not summary_row.empty:\n",
    "        r2_train = summary_row['r2_train'].values[0]\n",
    "        r2_val = summary_row['r2_val'].values[0]\n",
    "\n",
    "        fig.add_trace(\n",
    "            go.Scatter(\n",
    "                x=[comment_value],\n",
    "                y=[r2_train],\n",
    "                mode='markers',\n",
    "                marker=dict(symbol='x', size=8, color=color_map[comment_value]),  # Use the assigned color\n",
    "                name=f'{comment_value} Train',\n",
    "                legendgroup=comment_value,\n",
    "                showlegend=False\n",
    "            ),\n",
    "            row=1, col=2\n",
    "        )\n",
    "\n",
    "        fig.add_trace(\n",
    "            go.Scatter(\n",
    "                x=[comment_value],\n",
    "                y=[r2_val],\n",
    "                mode='markers',\n",
    "                marker=dict(symbol='square', size=8, color=color_map[comment_value]),  # Use the assigned color\n",
    "                name=f'{comment_value} Val',\n",
    "                legendgroup=comment_value,\n",
    "                showlegend=False\n",
    "            ),\n",
    "            row=1, col=2\n",
    "        )\n",
    "# Add legend-only markers to clarify symbol meaning\n",
    "fig.add_trace(\n",
    "    go.Scatter(\n",
    "        x=[None], y=[None],\n",
    "        mode='markers',\n",
    "        marker=dict(symbol='x', size=7, color='grey'),\n",
    "        name=' Train R²',\n",
    "        showlegend=True\n",
    "    ),\n",
    "    row=1, col=2\n",
    ")\n",
    "\n",
    "fig.add_trace(\n",
    "    go.Scatter(\n",
    "        x=[None], y=[None],\n",
    "        mode='markers',\n",
    "        marker=dict(symbol='square', size=7, color='grey'),\n",
    "        name='Validation R²',\n",
    "        showlegend=True\n",
    "    ),\n",
    "    row=1, col=2\n",
    ")\n",
    "# Final layout adjustments\n",
    "fig.update_layout(\n",
    "    title=\"Test R² Scores for Heave Prediction Across Sea Conditions and Lags Combinations - XGBoost Pendulum Only Model\",\n",
    "    xaxis_title=\"Test Case\",\n",
    "    xaxis2_title=\"Model Combination\",\n",
    "    yaxis_title=\"R² Score\",\n",
    "    template=\"plotly_white\",\n",
    "    height=600,\n",
    "    width=1200,\n",
    "    legend_title=\"na + nb + nd combination\",\n",
    "    xaxis=dict(\n",
    "        categoryorder='array',\n",
    "        categoryarray=pretty_custom_order\n",
    "    ),\n",
    "    # Adjust the zoom to fit the second plot\n",
    "    yaxis2=dict(\n",
    "        title=\"Train/Validation R² Score\",\n",
    "        range=[0, 1],  # You can adjust the range based on the data\n",
    "        showgrid=True\n",
    "    )\n",
    ")\n",
    "\n",
    "fig.show()\n"
   ]
  }
 ],
 "metadata": {
  "kernelspec": {
   "display_name": "Python 3",
   "language": "python",
   "name": "python3"
  },
  "language_info": {
   "codemirror_mode": {
    "name": "ipython",
    "version": 3
   },
   "file_extension": ".py",
   "mimetype": "text/x-python",
   "name": "python",
   "nbconvert_exporter": "python",
   "pygments_lexer": "ipython3",
   "version": "3.9.21"
  }
 },
 "nbformat": 4,
 "nbformat_minor": 5
}
